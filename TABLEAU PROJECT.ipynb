{
 "cells": [
  {
   "cell_type": "code",
   "execution_count": 1,
   "id": "1577ed21-236b-4c2c-888f-ef34a592d04e",
   "metadata": {},
   "outputs": [],
   "source": [
    "# importing  nessecary libraries\n",
    "\n",
    "import pandas as pd\n",
    "import numpy as np\n",
    "%matplotlib inline\n",
    "import matplotlib.pyplot as plt"
   ]
  },
  {
   "cell_type": "code",
   "execution_count": 2,
   "id": "ed623821-78b5-4076-884b-6d2018505218",
   "metadata": {},
   "outputs": [
    {
     "data": {
      "text/plain": [
       "Index(['OrderID', 'OrderDate', 'ShipDate', 'CustomerID', 'CustomerName',\n",
       "       'Segment', 'Country', 'City', 'State', 'Region', 'ProductID',\n",
       "       'Category', 'Sub-Category', 'ProductName', 'Sales', 'Quantity',\n",
       "       'Discount', 'Profit'],\n",
       "      dtype='object')"
      ]
     },
     "execution_count": 2,
     "metadata": {},
     "output_type": "execute_result"
    }
   ],
   "source": [
    "# loading the dataset\n",
    "data=pd.read_csv('sales_data.csv')\n",
    "data.columns"
   ]
  },
  {
   "cell_type": "code",
   "execution_count": 3,
   "id": "aa413eb9-d2ac-433a-8a80-1ec5b7aafa26",
   "metadata": {},
   "outputs": [
    {
     "data": {
      "text/html": [
       "<div>\n",
       "<style scoped>\n",
       "    .dataframe tbody tr th:only-of-type {\n",
       "        vertical-align: middle;\n",
       "    }\n",
       "\n",
       "    .dataframe tbody tr th {\n",
       "        vertical-align: top;\n",
       "    }\n",
       "\n",
       "    .dataframe thead th {\n",
       "        text-align: right;\n",
       "    }\n",
       "</style>\n",
       "<table border=\"1\" class=\"dataframe\">\n",
       "  <thead>\n",
       "    <tr style=\"text-align: right;\">\n",
       "      <th></th>\n",
       "      <th>OrderID</th>\n",
       "      <th>OrderDate</th>\n",
       "      <th>ShipDate</th>\n",
       "      <th>CustomerID</th>\n",
       "      <th>CustomerName</th>\n",
       "      <th>Segment</th>\n",
       "      <th>Country</th>\n",
       "      <th>City</th>\n",
       "      <th>State</th>\n",
       "      <th>Region</th>\n",
       "      <th>ProductID</th>\n",
       "      <th>Category</th>\n",
       "      <th>Sub-Category</th>\n",
       "      <th>ProductName</th>\n",
       "      <th>Sales</th>\n",
       "      <th>Quantity</th>\n",
       "      <th>Discount</th>\n",
       "      <th>Profit</th>\n",
       "    </tr>\n",
       "  </thead>\n",
       "  <tbody>\n",
       "    <tr>\n",
       "      <th>0</th>\n",
       "      <td>bdbe6fb3-3d79-4a6b-8219-886406a39837</td>\n",
       "      <td>10/23/2022</td>\n",
       "      <td>2/9/2022</td>\n",
       "      <td>7068a1ed-1a6d-4b1b-a659-4ccdf65c22e8</td>\n",
       "      <td>Anna Fleming</td>\n",
       "      <td>Home Office</td>\n",
       "      <td>United States</td>\n",
       "      <td>South Annmouth</td>\n",
       "      <td>Kansas</td>\n",
       "      <td>South</td>\n",
       "      <td>d3b59bec-0621-46f4-9ec6-a03870dfc6f2</td>\n",
       "      <td>Technology</td>\n",
       "      <td>Phones</td>\n",
       "      <td>interest</td>\n",
       "      <td>222.51</td>\n",
       "      <td>6</td>\n",
       "      <td>0.50</td>\n",
       "      <td>439.17</td>\n",
       "    </tr>\n",
       "    <tr>\n",
       "      <th>1</th>\n",
       "      <td>256c2854-6295-42d5-a3d4-43f7f02644a5</td>\n",
       "      <td>10/16/2022</td>\n",
       "      <td>6/24/2022</td>\n",
       "      <td>ffd762d8-6bdc-4731-aff3-25899cfcb916</td>\n",
       "      <td>Craig Romero</td>\n",
       "      <td>Home Office</td>\n",
       "      <td>United States</td>\n",
       "      <td>North Brandon</td>\n",
       "      <td>Pennsylvania</td>\n",
       "      <td>South</td>\n",
       "      <td>2447dd08-ea9e-455a-acbe-f038a3e6e103</td>\n",
       "      <td>Office Supplies</td>\n",
       "      <td>Furnishings</td>\n",
       "      <td>continue</td>\n",
       "      <td>959.45</td>\n",
       "      <td>1</td>\n",
       "      <td>0.05</td>\n",
       "      <td>464.74</td>\n",
       "    </tr>\n",
       "  </tbody>\n",
       "</table>\n",
       "</div>"
      ],
      "text/plain": [
       "                                OrderID   OrderDate   ShipDate  \\\n",
       "0  bdbe6fb3-3d79-4a6b-8219-886406a39837  10/23/2022   2/9/2022   \n",
       "1  256c2854-6295-42d5-a3d4-43f7f02644a5  10/16/2022  6/24/2022   \n",
       "\n",
       "                             CustomerID  CustomerName      Segment  \\\n",
       "0  7068a1ed-1a6d-4b1b-a659-4ccdf65c22e8  Anna Fleming  Home Office   \n",
       "1  ffd762d8-6bdc-4731-aff3-25899cfcb916  Craig Romero  Home Office   \n",
       "\n",
       "         Country            City         State Region  \\\n",
       "0  United States  South Annmouth        Kansas  South   \n",
       "1  United States   North Brandon  Pennsylvania  South   \n",
       "\n",
       "                              ProductID         Category Sub-Category  \\\n",
       "0  d3b59bec-0621-46f4-9ec6-a03870dfc6f2       Technology       Phones   \n",
       "1  2447dd08-ea9e-455a-acbe-f038a3e6e103  Office Supplies  Furnishings   \n",
       "\n",
       "  ProductName   Sales  Quantity  Discount  Profit  \n",
       "0    interest  222.51         6      0.50  439.17  \n",
       "1    continue  959.45         1      0.05  464.74  "
      ]
     },
     "execution_count": 3,
     "metadata": {},
     "output_type": "execute_result"
    }
   ],
   "source": [
    "data.head(2)"
   ]
  },
  {
   "cell_type": "code",
   "execution_count": 4,
   "id": "54183fe0-29b3-4df8-90be-62595e568950",
   "metadata": {},
   "outputs": [
    {
     "name": "stdout",
     "output_type": "stream",
     "text": [
      "<class 'pandas.core.frame.DataFrame'>\n",
      "RangeIndex: 1000 entries, 0 to 999\n",
      "Data columns (total 18 columns):\n",
      " #   Column        Non-Null Count  Dtype  \n",
      "---  ------        --------------  -----  \n",
      " 0   OrderID       1000 non-null   object \n",
      " 1   OrderDate     1000 non-null   object \n",
      " 2   ShipDate      1000 non-null   object \n",
      " 3   CustomerID    1000 non-null   object \n",
      " 4   CustomerName  1000 non-null   object \n",
      " 5   Segment       1000 non-null   object \n",
      " 6   Country       1000 non-null   object \n",
      " 7   City          1000 non-null   object \n",
      " 8   State         1000 non-null   object \n",
      " 9   Region        1000 non-null   object \n",
      " 10  ProductID     1000 non-null   object \n",
      " 11  Category      1000 non-null   object \n",
      " 12  Sub-Category  1000 non-null   object \n",
      " 13  ProductName   1000 non-null   object \n",
      " 14  Sales         1000 non-null   float64\n",
      " 15  Quantity      1000 non-null   int64  \n",
      " 16  Discount      1000 non-null   float64\n",
      " 17  Profit        1000 non-null   float64\n",
      "dtypes: float64(3), int64(1), object(14)\n",
      "memory usage: 140.8+ KB\n"
     ]
    }
   ],
   "source": [
    "# Ensure data types are appropriate for analysis.\n",
    "data.info()"
   ]
  },
  {
   "cell_type": "code",
   "execution_count": 5,
   "id": "57c0bef0-b246-4733-a3e1-4623c0144716",
   "metadata": {},
   "outputs": [
    {
     "data": {
      "text/plain": [
       "array(['South', 'Central', 'West', 'East'], dtype=object)"
      ]
     },
     "execution_count": 5,
     "metadata": {},
     "output_type": "execute_result"
    }
   ],
   "source": [
    "# data cleaning\n",
    "data.Region.unique()"
   ]
  },
  {
   "cell_type": "code",
   "execution_count": 6,
   "id": "4b103d1a-1108-4ce9-acb2-33fcdc6f046b",
   "metadata": {},
   "outputs": [
    {
     "data": {
      "text/plain": [
       "50"
      ]
     },
     "execution_count": 6,
     "metadata": {},
     "output_type": "execute_result"
    }
   ],
   "source": [
    "data.State.nunique()"
   ]
  },
  {
   "cell_type": "code",
   "execution_count": 7,
   "id": "0bbb5af7-19a6-405e-b9d9-a874a5c97e92",
   "metadata": {},
   "outputs": [
    {
     "data": {
      "text/plain": [
       "array(['Technology', 'Office Supplies', 'Furniture'], dtype=object)"
      ]
     },
     "execution_count": 7,
     "metadata": {},
     "output_type": "execute_result"
    }
   ],
   "source": [
    "data.Category.unique()"
   ]
  },
  {
   "cell_type": "code",
   "execution_count": 8,
   "id": "7a8b715c-353d-4b23-97c9-d68a30c6bd11",
   "metadata": {},
   "outputs": [
    {
     "data": {
      "text/plain": [
       "array(['Home Office', 'Corporate', 'Consumer'], dtype=object)"
      ]
     },
     "execution_count": 8,
     "metadata": {},
     "output_type": "execute_result"
    }
   ],
   "source": [
    "data.Segment.unique()"
   ]
  },
  {
   "cell_type": "code",
   "execution_count": 9,
   "id": "c6860619-2f4e-4d23-a7ba-b3082a923b1b",
   "metadata": {},
   "outputs": [
    {
     "data": {
      "text/plain": [
       "0"
      ]
     },
     "execution_count": 9,
     "metadata": {},
     "output_type": "execute_result"
    }
   ],
   "source": [
    "# • Remove duplicate entries.\n",
    "data.OrderID.duplicated().sum()"
   ]
  },
  {
   "cell_type": "code",
   "execution_count": 10,
   "id": "cf3faa4f-6791-440c-86b4-812a575dcba4",
   "metadata": {},
   "outputs": [
    {
     "data": {
      "text/html": [
       "<div>\n",
       "<style scoped>\n",
       "    .dataframe tbody tr th:only-of-type {\n",
       "        vertical-align: middle;\n",
       "    }\n",
       "\n",
       "    .dataframe tbody tr th {\n",
       "        vertical-align: top;\n",
       "    }\n",
       "\n",
       "    .dataframe thead th {\n",
       "        text-align: right;\n",
       "    }\n",
       "</style>\n",
       "<table border=\"1\" class=\"dataframe\">\n",
       "  <thead>\n",
       "    <tr style=\"text-align: right;\">\n",
       "      <th></th>\n",
       "      <th>Sales</th>\n",
       "      <th>Quantity</th>\n",
       "      <th>Discount</th>\n",
       "      <th>Profit</th>\n",
       "    </tr>\n",
       "  </thead>\n",
       "  <tbody>\n",
       "    <tr>\n",
       "      <th>count</th>\n",
       "      <td>1000.000000</td>\n",
       "      <td>1000.000000</td>\n",
       "      <td>1000.000000</td>\n",
       "      <td>1000.000000</td>\n",
       "    </tr>\n",
       "    <tr>\n",
       "      <th>mean</th>\n",
       "      <td>508.402060</td>\n",
       "      <td>4.966000</td>\n",
       "      <td>0.246710</td>\n",
       "      <td>253.954350</td>\n",
       "    </tr>\n",
       "    <tr>\n",
       "      <th>std</th>\n",
       "      <td>281.855761</td>\n",
       "      <td>2.615662</td>\n",
       "      <td>0.144303</td>\n",
       "      <td>143.251568</td>\n",
       "    </tr>\n",
       "    <tr>\n",
       "      <th>min</th>\n",
       "      <td>10.060000</td>\n",
       "      <td>1.000000</td>\n",
       "      <td>0.000000</td>\n",
       "      <td>5.250000</td>\n",
       "    </tr>\n",
       "    <tr>\n",
       "      <th>25%</th>\n",
       "      <td>262.437500</td>\n",
       "      <td>3.000000</td>\n",
       "      <td>0.120000</td>\n",
       "      <td>127.790000</td>\n",
       "    </tr>\n",
       "    <tr>\n",
       "      <th>50%</th>\n",
       "      <td>495.420000</td>\n",
       "      <td>5.000000</td>\n",
       "      <td>0.250000</td>\n",
       "      <td>255.245000</td>\n",
       "    </tr>\n",
       "    <tr>\n",
       "      <th>75%</th>\n",
       "      <td>746.575000</td>\n",
       "      <td>7.000000</td>\n",
       "      <td>0.370000</td>\n",
       "      <td>373.317500</td>\n",
       "    </tr>\n",
       "    <tr>\n",
       "      <th>max</th>\n",
       "      <td>999.300000</td>\n",
       "      <td>9.000000</td>\n",
       "      <td>0.500000</td>\n",
       "      <td>499.790000</td>\n",
       "    </tr>\n",
       "  </tbody>\n",
       "</table>\n",
       "</div>"
      ],
      "text/plain": [
       "             Sales     Quantity     Discount       Profit\n",
       "count  1000.000000  1000.000000  1000.000000  1000.000000\n",
       "mean    508.402060     4.966000     0.246710   253.954350\n",
       "std     281.855761     2.615662     0.144303   143.251568\n",
       "min      10.060000     1.000000     0.000000     5.250000\n",
       "25%     262.437500     3.000000     0.120000   127.790000\n",
       "50%     495.420000     5.000000     0.250000   255.245000\n",
       "75%     746.575000     7.000000     0.370000   373.317500\n",
       "max     999.300000     9.000000     0.500000   499.790000"
      ]
     },
     "execution_count": 10,
     "metadata": {},
     "output_type": "execute_result"
    }
   ],
   "source": [
    "# general summary statistics\n",
    "data.describe()"
   ]
  },
  {
   "cell_type": "code",
   "execution_count": 11,
   "id": "9cb8616c-6582-4657-8b23-576896d528b6",
   "metadata": {
    "scrolled": true
   },
   "outputs": [
    {
     "name": "stdout",
     "output_type": "stream",
     "text": [
      "             Sales  Quantity  Discount    Profit\n",
      "Sales     1.000000  0.032279  0.018377 -0.004456\n",
      "Quantity  0.032279  1.000000  0.025163  0.034091\n",
      "Discount  0.018377  0.025163  1.000000 -0.007048\n",
      "Profit   -0.004456  0.034091 -0.007048  1.000000\n"
     ]
    }
   ],
   "source": [
    "print(data.corr(numeric_only=True))"
   ]
  },
  {
   "cell_type": "code",
   "execution_count": 12,
   "id": "b3ed9b98-0c65-46ac-920d-d7eb617ef2ef",
   "metadata": {},
   "outputs": [
    {
     "data": {
      "text/plain": [
       "Text(0.5, 1.0, 'Corelation')"
      ]
     },
     "execution_count": 12,
     "metadata": {},
     "output_type": "execute_result"
    },
    {
     "data": {
      "image/png": "[encoded data removed]",
      "text/plain": [
       "<Figure size 500x500 with 2 Axes>"
      ]
     },
     "metadata": {},
     "output_type": "display_data"
    }
   ],
   "source": [
    "plt.figure(figsize=(5,5))\n",
    "import seaborn as sn\n",
    "sn.heatmap(data.corr(numeric_only=True),annot=True)\n",
    "plt.title(\"Corelation\")"
   ]
  },
  {
   "cell_type": "code",
   "execution_count": 13,
   "id": "d884c277-5941-4028-9bb8-79c0391542da",
   "metadata": {},
   "outputs": [
    {
     "data": {
      "text/plain": [
       "0      10/23/2022\n",
       "1      10/16/2022\n",
       "2       1/14/2022\n",
       "3      10/13/2022\n",
       "4      12/10/2022\n",
       "          ...    \n",
       "995     5/25/2022\n",
       "996     9/17/2022\n",
       "997      7/1/2022\n",
       "998    12/15/2022\n",
       "999     9/16/2022\n",
       "Name: OrderDate, Length: 1000, dtype: object"
      ]
     },
     "execution_count": 13,
     "metadata": {},
     "output_type": "execute_result"
    }
   ],
   "source": [
    "data.OrderDate"
   ]
  },
  {
   "cell_type": "code",
   "execution_count": 14,
   "id": "571ef5be-2a26-4499-9827-13b8e40de8ed",
   "metadata": {
    "scrolled": true
   },
   "outputs": [
    {
     "data": {
      "text/plain": [
       "620"
      ]
     },
     "execution_count": 14,
     "metadata": {},
     "output_type": "execute_result"
    }
   ],
   "source": [
    "data.ProductName.nunique()"
   ]
  },
  {
   "cell_type": "code",
   "execution_count": 15,
   "id": "f596b01f-70b8-4c55-b077-6468f89d4ec9",
   "metadata": {},
   "outputs": [
    {
     "data": {
      "text/plain": [
       "array(['Phones', 'Furnishings', 'Storage', 'Chairs', 'Tables', 'Art',\n",
       "       'Appliances', 'Labels', 'Bookcases', 'Binders'], dtype=object)"
      ]
     },
     "execution_count": 15,
     "metadata": {},
     "output_type": "execute_result"
    }
   ],
   "source": [
    "data['Sub-Category'].unique()"
   ]
  },
  {
   "cell_type": "code",
   "execution_count": 16,
   "id": "bd5be1f3-534f-4890-a63f-7701d01dc26b",
   "metadata": {},
   "outputs": [],
   "source": [
    "data=data.drop(columns='ProductName')"
   ]
  },
  {
   "cell_type": "code",
   "execution_count": 17,
   "id": "85cfc5e8-ed45-4da0-baf5-fd11b80813f2",
   "metadata": {},
   "outputs": [
    {
     "data": {
      "text/plain": [
       "954"
      ]
     },
     "execution_count": 17,
     "metadata": {},
     "output_type": "execute_result"
    }
   ],
   "source": [
    "data.City.nunique()"
   ]
  },
  {
   "cell_type": "code",
   "execution_count": 18,
   "id": "50729995-fd79-4e4a-b89b-883e37e9d35d",
   "metadata": {},
   "outputs": [
    {
     "data": {
      "text/plain": [
       "1000"
      ]
     },
     "execution_count": 18,
     "metadata": {},
     "output_type": "execute_result"
    }
   ],
   "source": [
    "data.CustomerName.value_counts().sum()"
   ]
  },
  {
   "cell_type": "code",
   "execution_count": 19,
   "id": "fcc1eac3-9617-47f4-bdde-f3b98e2914bc",
   "metadata": {},
   "outputs": [
    {
     "data": {
      "text/plain": [
       "1000"
      ]
     },
     "execution_count": 19,
     "metadata": {},
     "output_type": "execute_result"
    }
   ],
   "source": [
    "data.OrderID.value_counts().sum()"
   ]
  },
  {
   "cell_type": "code",
   "execution_count": 20,
   "id": "518c2a68-89fb-4612-96ae-f4348eb1e42e",
   "metadata": {},
   "outputs": [],
   "source": [
    "# how many orders were made in 2023 (5) and why ?\n"
   ]
  },
  {
   "cell_type": "code",
   "execution_count": 21,
   "id": "5387f327-26c4-4a7a-86f8-4b423a716b8a",
   "metadata": {},
   "outputs": [],
   "source": [
    "# CONVERTING DATE COLUMN TO DATE Time\n",
    "data['OrderDate']=pd.to_datetime(data['OrderDate'])"
   ]
  },
  {
   "cell_type": "code",
   "execution_count": 22,
   "id": "a303581d-dae3-4d52-8073-48a9ad1030fd",
   "metadata": {},
   "outputs": [
    {
     "data": {
      "text/plain": [
       "0      10\n",
       "1      10\n",
       "2       1\n",
       "3      10\n",
       "4      12\n",
       "       ..\n",
       "995     5\n",
       "996     9\n",
       "997     7\n",
       "998    12\n",
       "999     9\n",
       "Name: OrderDate, Length: 1000, dtype: int32"
      ]
     },
     "execution_count": 22,
     "metadata": {},
     "output_type": "execute_result"
    }
   ],
   "source": [
    "data['OrderDate'].dt.month"
   ]
  },
  {
   "cell_type": "code",
   "execution_count": 23,
   "id": "72755288-c88d-405a-baf7-d50ee917ced8",
   "metadata": {},
   "outputs": [],
   "source": [
    "from sklearn.cluster import KMeans \n",
    "from sklearn.model_selection import train_test_split\n",
    "from sklearn.preprocessing import MinMaxScaler"
   ]
  },
  {
   "cell_type": "code",
   "execution_count": 24,
   "id": "a9f151c4-fa91-4483-a305-d5ec59513bad",
   "metadata": {},
   "outputs": [],
   "source": [
    "# BUILD A CLUSTERING MODEL TO CLUSTER THE CUSTOMERS BASING ON THE REGIONS THEY COME "
   ]
  },
  {
   "cell_type": "code",
   "execution_count": 25,
   "id": "59c4bc3f-39ed-4fa4-8dac-b1ca08c90d87",
   "metadata": {},
   "outputs": [
    {
     "data": {
      "text/plain": [
       "Index(['OrderID', 'OrderDate', 'ShipDate', 'CustomerID', 'CustomerName',\n",
       "       'Segment', 'Country', 'City', 'State', 'Region', 'ProductID',\n",
       "       'Category', 'Sub-Category', 'Sales', 'Quantity', 'Discount', 'Profit'],\n",
       "      dtype='object')"
      ]
     },
     "execution_count": 25,
     "metadata": {},
     "output_type": "execute_result"
    }
   ],
   "source": [
    "data.columns"
   ]
  },
  {
   "cell_type": "code",
   "execution_count": 26,
   "id": "765c7bc9-03af-4946-bebe-990f861f7299",
   "metadata": {},
   "outputs": [],
   "source": [
    "from sklearn.preprocessing import LabelEncoder\n",
    "le=LabelEncoder()"
   ]
  },
  {
   "cell_type": "code",
   "execution_count": 27,
   "id": "216d6ed0-0d2c-4acd-84a8-630241840ca2",
   "metadata": {},
   "outputs": [],
   "source": [
    "data['Region']=le.fit_transform(data.Region)"
   ]
  },
  {
   "cell_type": "code",
   "execution_count": 28,
   "id": "2e2c8946-4731-47d5-8f53-3054f9ec1cd6",
   "metadata": {},
   "outputs": [],
   "source": [
    "region_plot=data.Region\n"
   ]
  },
  {
   "cell_type": "code",
   "execution_count": 29,
   "id": "1fc29734-cc72-47f2-b867-4b81b98490d4",
   "metadata": {
    "scrolled": true
   },
   "outputs": [
    {
     "data": {
      "text/plain": [
       "<matplotlib.collections.PathCollection at 0x20749989ee0>"
      ]
     },
     "execution_count": 29,
     "metadata": {},
     "output_type": "execute_result"
    },
    {
     "data": {
      "image/png": "[encoded data removed]",
      "text/plain": [
       "<Figure size 640x480 with 1 Axes>"
      ]
     },
     "metadata": {},
     "output_type": "display_data"
    }
   ],
   "source": [
    "plt.scatter(x=data.Sales,y=data.Discount,marker=\"o\")"
   ]
  },
  {
   "cell_type": "code",
   "execution_count": 30,
   "id": "452ed8cf-5216-42ee-be43-02120c4e5c44",
   "metadata": {},
   "outputs": [],
   "source": [
    "# plot an elbow plot to know where the number of clustrers will make sence "
   ]
  },
  {
   "cell_type": "code",
   "execution_count": 31,
   "id": "8b3f5a78-95c0-441f-9b9e-a0fa96fd23e0",
   "metadata": {},
   "outputs": [],
   "source": [
    "x=data[[\"Sales\",\"Discount\"]]\n",
    "scaler_x=MinMaxScaler()\n",
    "new_x=scaler_x.fit_transform(x)"
   ]
  },
  {
   "cell_type": "code",
   "execution_count": 32,
   "id": "20808a50-e524-4888-af04-d7ea2b7da4dc",
   "metadata": {
    "scrolled": true
   },
   "outputs": [],
   "source": [
    "sse = []\n",
    "n_cluster=range(1,20)\n",
    "for n in n_cluster :\n",
    "    km=KMeans(n_clusters=n)\n",
    "    km.fit(new_x)\n",
    "    sse.append(km.inertia_)"
   ]
  },
  {
   "cell_type": "code",
   "execution_count": 33,
   "id": "d46278c4-b07d-41bc-939e-e81b185ec110",
   "metadata": {},
   "outputs": [
    {
     "data": {
      "text/plain": [
       "Text(0, 0.5, 'SSE')"
      ]
     },
     "execution_count": 33,
     "metadata": {},
     "output_type": "execute_result"
    },
    {
     "data": {
      "image/png": "[encoded data removed]",
      "text/plain": [
       "<Figure size 640x480 with 1 Axes>"
      ]
     },
     "metadata": {},
     "output_type": "display_data"
    }
   ],
   "source": [
    "plt.plot(n_cluster,sse)\n",
    "plt.xlabel(\"number of clusters \")\n",
    "plt.ylabel(\"SSE\")"
   ]
  },
  {
   "cell_type": "code",
   "execution_count": 34,
   "id": "f753a9c4-2c8c-431f-9f37-8ffa9d413854",
   "metadata": {},
   "outputs": [],
   "source": [
    "# the best number of clusters for this data set is 4 or 3"
   ]
  },
  {
   "cell_type": "code",
   "execution_count": 35,
   "id": "1a403e59-443a-4127-84fd-ba63b3b1baf7",
   "metadata": {},
   "outputs": [],
   "source": [
    "# now practice on the best model to predict the customer region basing on the quantity , Category, Sales"
   ]
  },
  {
   "cell_type": "code",
   "execution_count": 36,
   "id": "7a9f2ea4-006e-47aa-ae3a-ee0c9cda1797",
   "metadata": {},
   "outputs": [],
   "source": [
    "from sklearn.tree import DecisionTreeClassifier\n",
    "from sklearn.linear_model import LogisticRegression\n",
    "from sklearn.linear_model import LinearRegression\n",
    "from sklearn.svm import SVC\n",
    "from sklearn.ensemble import RandomForestClassifier\n",
    "from sklearn.naive_bayes import GaussianNB,MultinomialNB"
   ]
  },
  {
   "cell_type": "code",
   "execution_count": 37,
   "id": "a4f7e31a-9531-49e8-b08c-5b315d6ba6e9",
   "metadata": {},
   "outputs": [],
   "source": [
    "models_params = {\n",
    "    \"trees\": {\n",
    "        \"model\": DecisionTreeClassifier(),\n",
    "        \"params\": {}\n",
    "    },\n",
    "    \"logistic\": {\n",
    "        \"model\": LogisticRegression(),\n",
    "        \"params\": {}\n",
    "    },\n",
    "    'linear': {\n",
    "        \"model\": LinearRegression(),\n",
    "        \"params\": {}\n",
    "    },\n",
    "    'support_vector': {\n",
    "        \"model\": SVC(),\n",
    "        \"params\": {\n",
    "            'kernel': ['linear'],\n",
    "            'C': [5]\n",
    "        }\n",
    "    },\n",
    "    'random_forest': {\n",
    "        \"model\": RandomForestClassifier(),\n",
    "        \"params\": {'n_estimators': [100]}\n",
    "    },\n",
    "    'gaussian_nb': {\n",
    "        \"model\": GaussianNB(),\n",
    "        \"params\": {}\n",
    "    },\n",
    "    'multinomial_nb': {\n",
    "        \"model\": MultinomialNB(),\n",
    "        \"params\": {}\n",
    "    }\n",
    "}\n"
   ]
  },
  {
   "cell_type": "code",
   "execution_count": 38,
   "id": "a478ccad-73ce-4636-a9c0-0c665012e062",
   "metadata": {},
   "outputs": [
    {
     "data": {
      "text/html": [
       "<div>\n",
       "<style scoped>\n",
       "    .dataframe tbody tr th:only-of-type {\n",
       "        vertical-align: middle;\n",
       "    }\n",
       "\n",
       "    .dataframe tbody tr th {\n",
       "        vertical-align: top;\n",
       "    }\n",
       "\n",
       "    .dataframe thead th {\n",
       "        text-align: right;\n",
       "    }\n",
       "</style>\n",
       "<table border=\"1\" class=\"dataframe\">\n",
       "  <thead>\n",
       "    <tr style=\"text-align: right;\">\n",
       "      <th></th>\n",
       "      <th>Furniture</th>\n",
       "      <th>Office Supplies</th>\n",
       "      <th>Technology</th>\n",
       "    </tr>\n",
       "  </thead>\n",
       "  <tbody>\n",
       "    <tr>\n",
       "      <th>0</th>\n",
       "      <td>0</td>\n",
       "      <td>0</td>\n",
       "      <td>1</td>\n",
       "    </tr>\n",
       "    <tr>\n",
       "      <th>1</th>\n",
       "      <td>0</td>\n",
       "      <td>1</td>\n",
       "      <td>0</td>\n",
       "    </tr>\n",
       "    <tr>\n",
       "      <th>2</th>\n",
       "      <td>0</td>\n",
       "      <td>1</td>\n",
       "      <td>0</td>\n",
       "    </tr>\n",
       "    <tr>\n",
       "      <th>3</th>\n",
       "      <td>0</td>\n",
       "      <td>0</td>\n",
       "      <td>1</td>\n",
       "    </tr>\n",
       "    <tr>\n",
       "      <th>4</th>\n",
       "      <td>1</td>\n",
       "      <td>0</td>\n",
       "      <td>0</td>\n",
       "    </tr>\n",
       "    <tr>\n",
       "      <th>...</th>\n",
       "      <td>...</td>\n",
       "      <td>...</td>\n",
       "      <td>...</td>\n",
       "    </tr>\n",
       "    <tr>\n",
       "      <th>995</th>\n",
       "      <td>0</td>\n",
       "      <td>1</td>\n",
       "      <td>0</td>\n",
       "    </tr>\n",
       "    <tr>\n",
       "      <th>996</th>\n",
       "      <td>0</td>\n",
       "      <td>0</td>\n",
       "      <td>1</td>\n",
       "    </tr>\n",
       "    <tr>\n",
       "      <th>997</th>\n",
       "      <td>0</td>\n",
       "      <td>0</td>\n",
       "      <td>1</td>\n",
       "    </tr>\n",
       "    <tr>\n",
       "      <th>998</th>\n",
       "      <td>0</td>\n",
       "      <td>0</td>\n",
       "      <td>1</td>\n",
       "    </tr>\n",
       "    <tr>\n",
       "      <th>999</th>\n",
       "      <td>0</td>\n",
       "      <td>0</td>\n",
       "      <td>1</td>\n",
       "    </tr>\n",
       "  </tbody>\n",
       "</table>\n",
       "<p>1000 rows × 3 columns</p>\n",
       "</div>"
      ],
      "text/plain": [
       "     Furniture  Office Supplies  Technology\n",
       "0            0                0           1\n",
       "1            0                1           0\n",
       "2            0                1           0\n",
       "3            0                0           1\n",
       "4            1                0           0\n",
       "..         ...              ...         ...\n",
       "995          0                1           0\n",
       "996          0                0           1\n",
       "997          0                0           1\n",
       "998          0                0           1\n",
       "999          0                0           1\n",
       "\n",
       "[1000 rows x 3 columns]"
      ]
     },
     "execution_count": 38,
     "metadata": {},
     "output_type": "execute_result"
    }
   ],
   "source": [
    "category=pd.get_dummies(data.Category)\n",
    "category.astype(int)"
   ]
  },
  {
   "cell_type": "code",
   "execution_count": 39,
   "id": "2aa6d8df-1ef6-48d9-ab11-0eeb4ed3d938",
   "metadata": {},
   "outputs": [],
   "source": [
    "data1=data[['Sales','Quantity','Region']]"
   ]
  },
  {
   "cell_type": "code",
   "execution_count": 40,
   "id": "d639ab65-e99b-4ad7-95ba-69da131124b6",
   "metadata": {},
   "outputs": [
    {
     "data": {
      "text/plain": [
       "Index(['Sales', 'Quantity', 'Region', 'Furniture', 'Office Supplies',\n",
       "       'Technology'],\n",
       "      dtype='object')"
      ]
     },
     "execution_count": 40,
     "metadata": {},
     "output_type": "execute_result"
    }
   ],
   "source": [
    "data2=pd.concat([data1,category],axis=\"columns\")\n",
    "data2.columns"
   ]
  },
  {
   "cell_type": "code",
   "execution_count": 41,
   "id": "951e86d1-9e8d-4159-b0b1-1f2af0440887",
   "metadata": {},
   "outputs": [],
   "source": [
    "x=data2[['Sales', 'Quantity','Furniture', 'Office Supplies','Technology']]\n",
    "y=data2.Region"
   ]
  },
  {
   "cell_type": "code",
   "execution_count": 42,
   "id": "88db8b3e-6c1b-480e-949e-a80362c9759a",
   "metadata": {},
   "outputs": [],
   "source": [
    " X_train, X_test, y_train, y_test =train_test_split(x,y,test_size=0.8)"
   ]
  },
  {
   "cell_type": "code",
   "execution_count": 43,
   "id": "9115b09e-a088-46c9-b46b-1c136c514579",
   "metadata": {},
   "outputs": [],
   "source": [
    "from sklearn.model_selection import GridSearchCV"
   ]
  },
  {
   "cell_type": "code",
   "execution_count": 44,
   "id": "be2f8b99-78e5-44bd-9989-39ab4854eb36",
   "metadata": {},
   "outputs": [],
   "source": [
    "import warnings\n",
    "warnings.filterwarnings(action=\"ignore\")"
   ]
  },
  {
   "cell_type": "code",
   "execution_count": 6,
   "id": "3188fe5f-cae8-4b2c-8366-ef45bae1450c",
   "metadata": {
    "collapsed": true,
    "jupyter": {
     "outputs_hidden": true
    }
   },
   "outputs": [
    {
     "ename": "NameError",
     "evalue": "name 'models_params' is not defined",
     "output_type": "error",
     "traceback": [
      "\u001b[1;31m---------------------------------------------------------------------------\u001b[0m",
      "\u001b[1;31mNameError\u001b[0m                                 Traceback (most recent call last)",
      "Cell \u001b[1;32mIn[6], line 2\u001b[0m\n\u001b[0;32m      1\u001b[0m scores \u001b[38;5;241m=\u001b[39m []\n\u001b[1;32m----> 2\u001b[0m \u001b[38;5;28;01mfor\u001b[39;00m algo_name, config \u001b[38;5;129;01min\u001b[39;00m models_params\u001b[38;5;241m.\u001b[39mitems():\n\u001b[0;32m      3\u001b[0m     gs \u001b[38;5;241m=\u001b[39m  GridSearchCV(algo_name[\u001b[38;5;124m'\u001b[39m\u001b[38;5;124mmodel\u001b[39m\u001b[38;5;124m'\u001b[39m], config[\u001b[38;5;124m'\u001b[39m\u001b[38;5;124mparams\u001b[39m\u001b[38;5;124m'\u001b[39m],return_train_score\u001b[38;5;241m=\u001b[39m\u001b[38;5;28;01mFalse\u001b[39;00m)\n\u001b[0;32m      4\u001b[0m     gs\u001b[38;5;241m.\u001b[39mfit(X_train,y_train)\n",
      "\u001b[1;31mNameError\u001b[0m: name 'models_params' is not defined"
     ]
    }
   ],
   "source": [
    "scores = []\n",
    "for algo_name, config in models_params.items():\n",
    "    gs =  GridSearchCV(algo_name['model'], config['params'],return_train_score=False)\n",
    "    gs.fit(X_train,y_train)\n",
    "    scores.append({\n",
    "        'model': algo_name,\n",
    "        'best_score': gs.best_score_,\n",
    "        'best_params': gs.best_params_\n",
    "    })\n",
    "print(pd.DataFrame(scores,columns=['model','best_score','best_params']))"
   ]
  },
  {
   "cell_type": "code",
   "execution_count": 46,
   "id": "ae39b75b-6dcd-4416-ba18-d24214e51ee8",
   "metadata": {},
   "outputs": [],
   "source": [
    "model=LogisticRegression()"
   ]
  },
  {
   "cell_type": "code",
   "execution_count": null,
   "id": "193c2120-829a-49ba-8e50-2ed970564e00",
   "metadata": {},
   "outputs": [],
   "source": []
  }
 ],
 "metadata": {
  "kernelspec": {
   "display_name": "Python 3 (ipykernel)",
   "language": "python",
   "name": "python3"
  },
  "language_info": {
   "codemirror_mode": {
    "name": "ipython",
    "version": 3
   },
   "file_extension": ".py",
   "mimetype": "text/x-python",
   "name": "python",
   "nbconvert_exporter": "python",
   "pygments_lexer": "ipython3",
   "version": "3.12.4"
  }
 },
 "nbformat": 4,
 "nbformat_minor": 5
}
