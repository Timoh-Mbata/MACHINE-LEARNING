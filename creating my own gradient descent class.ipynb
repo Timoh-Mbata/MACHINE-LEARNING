{
 "cells": [
  {
   "cell_type": "code",
   "execution_count": 1,
   "id": "d71d9b65-c33e-4067-a919-98742ff58ed2",
   "metadata": {},
   "outputs": [],
   "source": [
    "import numpy as np"
   ]
  },
  {
   "cell_type": "code",
   "execution_count": null,
   "id": "f53d75fb-26ec-457c-a233-885ad970f9d2",
   "metadata": {},
   "outputs": [],
   "source": [
    "def sigmoid():\n",
    "    pass\n",
    "def gradient_descent():\n",
    "    pass\n",
    "def main():\n",
    "    pass "
   ]
  }
 ],
 "metadata": {
  "kernelspec": {
   "display_name": "Python 3 (ipykernel)",
   "language": "python",
   "name": "python3"
  },
  "language_info": {
   "codemirror_mode": {
    "name": "ipython",
    "version": 3
   },
   "file_extension": ".py",
   "mimetype": "text/x-python",
   "name": "python",
   "nbconvert_exporter": "python",
   "pygments_lexer": "ipython3",
   "version": "3.12.4"
  }
 },
 "nbformat": 4,
 "nbformat_minor": 5
}
