{
 "cells": [
  {
   "cell_type": "code",
   "execution_count": 15,
   "id": "3409ec33-77a4-4c25-bbc1-588bfee6ac35",
   "metadata": {},
   "outputs": [],
   "source": [
    "import requests as re\n",
    "from bs4 import BeautifulSoup"
   ]
  },
  {
   "cell_type": "code",
   "execution_count": 17,
   "id": "020d4f89-597b-45f0-8fe2-23ab4c42dd13",
   "metadata": {},
   "outputs": [],
   "source": [
    "url = \"https://paxful.com/\"\n",
    "page = re.get(url)\n",
    "soup = BeautifulSoup(page.content, \"html.parser\")\n",
    "# print(soup.prettify())  # Print the formatted HTML content"
   ]
  },
  {
   "cell_type": "code",
   "execution_count": 19,
   "id": "c468169a-4410-4510-9d37-ea4a3036547e",
   "metadata": {},
   "outputs": [
    {
     "data": {
      "text/plain": [
       "403"
      ]
     },
     "execution_count": 19,
     "metadata": {},
     "output_type": "execute_result"
    }
   ],
   "source": [
    "page.status_code"
   ]
  },
  {
   "cell_type": "code",
   "execution_count": null,
   "id": "86432fb7-0ac5-44c9-8e98-c22c3abde220",
   "metadata": {},
   "outputs": [],
   "source": []
  }
 ],
 "metadata": {
  "kernelspec": {
   "display_name": "Python 3 (ipykernel)",
   "language": "python",
   "name": "python3"
  },
  "language_info": {
   "codemirror_mode": {
    "name": "ipython",
    "version": 3
   },
   "file_extension": ".py",
   "mimetype": "text/x-python",
   "name": "python",
   "nbconvert_exporter": "python",
   "pygments_lexer": "ipython3",
   "version": "3.12.4"
  }
 },
 "nbformat": 4,
 "nbformat_minor": 5
}
