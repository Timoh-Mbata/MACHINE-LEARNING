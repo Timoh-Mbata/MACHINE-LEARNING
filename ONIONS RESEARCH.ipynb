{
 "cells": [
  {
   "cell_type": "code",
   "execution_count": 1,
   "id": "a8093f3f-59e2-4365-9e42-806e64b8883a",
   "metadata": {},
   "outputs": [],
   "source": [
    "import pandas as pd\n",
    "import numpy as np\n",
    "import matplotlib.pyplot as plt"
   ]
  },
  {
   "cell_type": "code",
   "execution_count": 2,
   "id": "c113a462-f8c9-433f-86e3-932e9218104b",
   "metadata": {
    "collapsed": true,
    "jupyter": {
     "outputs_hidden": true
    }
   },
   "outputs": [
    {
     "data": {
      "text/html": [
       "<div>\n",
       "<style scoped>\n",
       "    .dataframe tbody tr th:only-of-type {\n",
       "        vertical-align: middle;\n",
       "    }\n",
       "\n",
       "    .dataframe tbody tr th {\n",
       "        vertical-align: top;\n",
       "    }\n",
       "\n",
       "    .dataframe thead th {\n",
       "        text-align: right;\n",
       "    }\n",
       "</style>\n",
       "<table border=\"1\" class=\"dataframe\">\n",
       "  <thead>\n",
       "    <tr style=\"text-align: right;\">\n",
       "      <th></th>\n",
       "      <th>state</th>\n",
       "      <th>district</th>\n",
       "      <th>market</th>\n",
       "      <th>commodity</th>\n",
       "      <th>variety</th>\n",
       "      <th>arrival_date</th>\n",
       "      <th>min_price</th>\n",
       "      <th>max_price</th>\n",
       "      <th>modal_price</th>\n",
       "    </tr>\n",
       "  </thead>\n",
       "  <tbody>\n",
       "    <tr>\n",
       "      <th>0</th>\n",
       "      <td>Andhra Pradesh</td>\n",
       "      <td>Kurnool</td>\n",
       "      <td>Kurnool</td>\n",
       "      <td>Onion</td>\n",
       "      <td>Local</td>\n",
       "      <td>03/01/2020</td>\n",
       "      <td>1350</td>\n",
       "      <td>4390</td>\n",
       "      <td>3100.0</td>\n",
       "    </tr>\n",
       "    <tr>\n",
       "      <th>1</th>\n",
       "      <td>Andhra Pradesh</td>\n",
       "      <td>Kurnool</td>\n",
       "      <td>Kurnool</td>\n",
       "      <td>Onion</td>\n",
       "      <td>Local</td>\n",
       "      <td>04/01/2020</td>\n",
       "      <td>1390</td>\n",
       "      <td>4400</td>\n",
       "      <td>3200.0</td>\n",
       "    </tr>\n",
       "    <tr>\n",
       "      <th>2</th>\n",
       "      <td>Andhra Pradesh</td>\n",
       "      <td>Kurnool</td>\n",
       "      <td>Kurnool</td>\n",
       "      <td>Onion</td>\n",
       "      <td>Local</td>\n",
       "      <td>06/01/2020</td>\n",
       "      <td>1460</td>\n",
       "      <td>5150</td>\n",
       "      <td>4310.0</td>\n",
       "    </tr>\n",
       "    <tr>\n",
       "      <th>3</th>\n",
       "      <td>Andhra Pradesh</td>\n",
       "      <td>Kurnool</td>\n",
       "      <td>Kurnool</td>\n",
       "      <td>Onion</td>\n",
       "      <td>Local</td>\n",
       "      <td>07/01/2020</td>\n",
       "      <td>2010</td>\n",
       "      <td>5200</td>\n",
       "      <td>4200.0</td>\n",
       "    </tr>\n",
       "    <tr>\n",
       "      <th>4</th>\n",
       "      <td>Andhra Pradesh</td>\n",
       "      <td>Kurnool</td>\n",
       "      <td>Kurnool</td>\n",
       "      <td>Onion</td>\n",
       "      <td>Local</td>\n",
       "      <td>10/01/2020</td>\n",
       "      <td>1320</td>\n",
       "      <td>4050</td>\n",
       "      <td>3300.0</td>\n",
       "    </tr>\n",
       "  </tbody>\n",
       "</table>\n",
       "</div>"
      ],
      "text/plain": [
       "            state district   market commodity variety arrival_date  min_price  \\\n",
       "0  Andhra Pradesh  Kurnool  Kurnool     Onion   Local   03/01/2020       1350   \n",
       "1  Andhra Pradesh  Kurnool  Kurnool     Onion   Local   04/01/2020       1390   \n",
       "2  Andhra Pradesh  Kurnool  Kurnool     Onion   Local   06/01/2020       1460   \n",
       "3  Andhra Pradesh  Kurnool  Kurnool     Onion   Local   07/01/2020       2010   \n",
       "4  Andhra Pradesh  Kurnool  Kurnool     Onion   Local   10/01/2020       1320   \n",
       "\n",
       "   max_price  modal_price  \n",
       "0       4390       3100.0  \n",
       "1       4400       3200.0  \n",
       "2       5150       4310.0  \n",
       "3       5200       4200.0  \n",
       "4       4050       3300.0  "
      ]
     },
     "execution_count": 2,
     "metadata": {},
     "output_type": "execute_result"
    }
   ],
   "source": [
    "df=pd.read_csv('Onion_Prices_2020[1].csv')\n",
    "df.head()"
   ]
  },
  {
   "cell_type": "code",
   "execution_count": 3,
   "id": "97d5277c-c566-40c0-a677-74119f85c40b",
   "metadata": {
    "collapsed": true,
    "jupyter": {
     "outputs_hidden": true
    }
   },
   "outputs": [
    {
     "data": {
      "text/plain": [
       "array(['Andhra Pradesh', 'Chattisgarh', 'Goa', 'Gujarat', 'Haryana',\n",
       "       'Himachal Pradesh', 'Jammu and Kashmir', 'Jharkhand', 'Karnataka',\n",
       "       'Kerala', 'Madhya Pradesh', 'Maharashtra', 'Nagaland',\n",
       "       'NCT of Delhi', 'Odisha', 'Punjab', 'Rajasthan', 'Telangana',\n",
       "       'Tripura', 'Uttar Pradesh', 'Uttrakhand', 'West Bengal'],\n",
       "      dtype=object)"
      ]
     },
     "execution_count": 3,
     "metadata": {},
     "output_type": "execute_result"
    }
   ],
   "source": [
    "states=df['state'].unique()\n",
    "states"
   ]
  },
  {
   "cell_type": "code",
   "execution_count": 4,
   "id": "b93f2248-4f6d-4de9-b876-ee4359084e7b",
   "metadata": {
    "collapsed": true,
    "jupyter": {
     "outputs_hidden": true
    }
   },
   "outputs": [
    {
     "data": {
      "text/plain": [
       "array(['Local', 'Other', 'Onion', 'Nasik', 'Red', 'White', 'Beelary-Red',\n",
       "       '1st Sort', 'Bangalore-Samall', 'Puna', 'Pusa-Red',\n",
       "       'Bombay (U.P.)', 'Telagi', 'Hybrid', 'Big', 'Small', '2nd Sort',\n",
       "       'Pole', 'Dry F.A.Q.', 'Medium', 'Bellary'], dtype=object)"
      ]
     },
     "execution_count": 4,
     "metadata": {},
     "output_type": "execute_result"
    }
   ],
   "source": [
    "variety=df['variety'].unique()\n",
    "variety"
   ]
  },
  {
   "cell_type": "code",
   "execution_count": 5,
   "id": "869dd7e9-2041-4cef-bf19-70df4a74b414",
   "metadata": {
    "collapsed": true,
    "jupyter": {
     "outputs_hidden": true
    }
   },
   "outputs": [
    {
     "data": {
      "text/plain": [
       "0         Local\n",
       "1         Local\n",
       "2         Local\n",
       "3         Local\n",
       "4         Local\n",
       "          ...  \n",
       "107290      Red\n",
       "107291      Red\n",
       "107292      Red\n",
       "107293      Red\n",
       "107294      Red\n",
       "Name: variety, Length: 107295, dtype: object"
      ]
     },
     "execution_count": 5,
     "metadata": {},
     "output_type": "execute_result"
    }
   ],
   "source": [
    "var=df['variety']\n",
    "var"
   ]
  },
  {
   "cell_type": "code",
   "execution_count": 7,
   "id": "f40e8d51-6977-443e-852b-caf6ceeeb484",
   "metadata": {
    "collapsed": true,
    "jupyter": {
     "outputs_hidden": true
    }
   },
   "outputs": [
    {
     "data": {
      "text/plain": [
       "array(['Kurnool', 'Bilaspur', 'Durg', 'Raigarh', 'Rajnandgaon',\n",
       "       'North Goa', 'Ahmedabad', 'Amreli', 'Anand', 'Banaskanth',\n",
       "       'Bharuch', 'Bhavnagar', 'Dahod', 'Jamnagar', 'Junagarh', 'Kheda',\n",
       "       'Mehsana', 'Navsari', 'Panchmahals', 'Porbandar', 'Rajkot',\n",
       "       'Surat', 'Surendranagar', 'Vadodara(Baroda)', 'Ambala', 'Bhiwani',\n",
       "       'Faridabad', 'Fatehabad', 'Gurgaon', 'Hissar', 'Jhajar', 'Jind',\n",
       "       'Kaithal', 'Karnal', 'Kurukshetra', 'Mahendragarh-Narnaul',\n",
       "       'Mewat', 'Palwal', 'Panchkula', 'Panipat', 'Rewari', 'Rohtak',\n",
       "       'Sirsa', 'Sonipat', 'Yamuna Nagar', 'Chamba', 'Hamirpur', 'Kangra',\n",
       "       'Kullu', 'Mandi', 'Shimla', 'Sirmore', 'Solan', 'Una', 'Anantnag',\n",
       "       'Jammu', 'Kathua', 'Rajouri', 'Srinagar', 'Udhampur', 'Lohardaga',\n",
       "       'Ranchi', 'Bagalkot', 'Bangalore', 'Belgaum', 'Bellary', 'Bidar',\n",
       "       'Bijapur', 'Chamrajnagar', 'Chikmagalur', 'Davangere', 'Dharwad',\n",
       "       'Gadag', 'Hassan', 'Haveri', 'Kolar', 'Mandya',\n",
       "       'Mangalore(Dakshin Kannad)', 'Mysore', 'Raichur', 'Shimoga',\n",
       "       'Tumkur', 'Udupi', 'Alappuzha', 'Ernakulam', 'Idukki', 'Kannur',\n",
       "       'Kasargod', 'Kollam', 'Kottayam', 'Kozhikode(Calicut)',\n",
       "       'Malappuram', 'Palakad', 'Thirssur', 'Thiruvananthapuram',\n",
       "       'Alirajpur', 'Anupur', 'Badwani', 'Bhopal', 'Burhanpur',\n",
       "       'Chhatarpur', 'Chhindwara', 'Damoh', 'Dewas', 'Dhar', 'Guna',\n",
       "       'Gwalior', 'Harda', 'Hoshangabad', 'Indore', 'Jabalpur', 'Jhabua',\n",
       "       'Khandwa', 'Mandsaur', 'Morena', 'Narsinghpur', 'Neemuch',\n",
       "       'Raisen', 'Rajgarh', 'Ratlam', 'Sagar', 'Satna', 'Sehore',\n",
       "       'Shajapur', 'Sheopur', 'Shivpuri', 'Ujjain', 'Ahmednagar',\n",
       "       'Amarawati', 'Aurangabad', 'Beed', 'Buldhana', 'Chandrapur',\n",
       "       'Dhule', 'Jalgaon', 'Kolhapur', 'Mumbai', 'Nagpur', 'Nandurbar',\n",
       "       'Nashik', 'Osmanabad', 'Pune', 'Raigad', 'Ratnagiri', 'Sangli',\n",
       "       'Satara', 'Sholapur', 'Thane', 'Mokokchung', 'Delhi', 'Angul',\n",
       "       'Balasore', 'Bargarh', 'Bhadrak', 'Bolangir', 'Boudh', 'Cuttack',\n",
       "       'Dhenkanal', 'Ganjam', 'Jajpur', 'Jharsuguda', 'Kalahandi',\n",
       "       'Kendrapara', 'Keonjhar', 'Khurda', 'Malkangiri', 'Mayurbhanja',\n",
       "       'Nuapada', 'Rayagada', 'Sonepur', 'Sundergarh', 'Amritsar',\n",
       "       'Barnala', 'Bhatinda', 'Faridkot', 'Fatehgarh', 'Fazilka',\n",
       "       'Ferozpur', 'Gurdaspur', 'Hoshiarpur', 'Jalandhar', 'kapurthala',\n",
       "       'Ludhiana', 'Mansa', 'Moga', 'Mohali', 'Muktsar', 'Nawanshahr',\n",
       "       'Pathankot', 'Patiala', 'Ropar (Rupnagar)', 'Sangrur', 'Tarntaran',\n",
       "       'Ajmer', 'Alwar', 'Barmer', 'Bharatpur', 'Bhilwara', 'Bikaner',\n",
       "       'Chittorgarh', 'Churu', 'Ganganagar', 'Hanumangarh', 'Jaipur',\n",
       "       'Jaisalmer', 'Jalore', 'Jhunjunu', 'Jodhpur', 'Kota', 'Nagaur',\n",
       "       'Pali', 'Rajasamand', 'Sikar', 'Sirohi', 'Tonk', 'Udaipur',\n",
       "       'Hyderabad', 'Medak', 'Dhalai', 'Khowai', 'North Tripura',\n",
       "       'Sepahijala', 'South District', 'Unokoti', 'Agra', 'Aligarh',\n",
       "       'Allahabad', 'Ambedkarnagar', 'Auraiya', 'Azamgarh', 'Badaun',\n",
       "       'Baghpat', 'Bahraich', 'Ballia', 'Balrampur', 'Banda', 'Barabanki',\n",
       "       'Bareilly', 'Basti', 'Bhadohi(Sant Ravi Nagar)', 'Bijnor',\n",
       "       'Bulandshahar', 'Chandauli', 'Chitrakut', 'Deoria', 'Etah',\n",
       "       'Etawah', 'Faizabad', 'Farukhabad', 'Fatehpur', 'Firozabad',\n",
       "       'Gautam Budh Nagar', 'Ghaziabad', 'Ghazipur', 'Gonda', 'Gorakhpur',\n",
       "       'Hardoi', 'Hathras', 'Jalaun (Orai)', 'Jaunpur', 'Jhansi',\n",
       "       'Jyotiba Phule Nagar', 'Kannuj', 'Kanpur', 'Kaushambi',\n",
       "       'Khiri (Lakhimpur)', 'Lakhimpur', 'Lalitpur', 'Lucknow',\n",
       "       'Maharajganj', 'Mahoba', 'Mainpuri', 'Mathura',\n",
       "       'Mau(Maunathbhanjan)', 'Meerut', 'Mirzapur', 'Muradabad',\n",
       "       'Muzaffarnagar', 'Padrauna(Kusinagar)', 'Pillibhit', 'Pratapgarh',\n",
       "       'Raebarelli', 'Rampur', 'Saharanpur', 'Sant Kabir Nagar',\n",
       "       'Shahjahanpur', 'Siddharth Nagar', 'Sitapur', 'Sonbhadra',\n",
       "       'Sultanpur', 'Unnao', 'Varanasi', 'Champawat', 'Dehradoon',\n",
       "       'Garhwal (Pauri)', 'Haridwar', 'Nanital', 'UdhamSinghNagar',\n",
       "       'Bankura', 'Birbhum', 'Burdwan', 'Coochbehar', 'Darjeeling',\n",
       "       'Hooghly', 'Howrah', 'Jalpaiguri', 'Kolkata', 'Malda',\n",
       "       'Medinipur(E)', 'Medinipur(W)', 'Murshidabad', 'Nadia',\n",
       "       'North 24 Parganas', 'Puruliya', 'Sounth 24 Parganas'],\n",
       "      dtype=object)"
      ]
     },
     "execution_count": 7,
     "metadata": {},
     "output_type": "execute_result"
    }
   ],
   "source": [
    "district=df['district'].unique()\n",
    "district"
   ]
  },
  {
   "cell_type": "code",
   "execution_count": 12,
   "id": "eb52f8e4-4316-4590-8d16-70b37d13ab52",
   "metadata": {
    "collapsed": true,
    "jupyter": {
     "outputs_hidden": true
    }
   },
   "outputs": [
    {
     "data": {
      "text/plain": [
       "state           0\n",
       "district        0\n",
       "market          0\n",
       "commodity       0\n",
       "variety         0\n",
       "arrival_date    0\n",
       "min_price       0\n",
       "max_price       0\n",
       "modal_price     0\n",
       "dtype: int64"
      ]
     },
     "execution_count": 12,
     "metadata": {},
     "output_type": "execute_result"
    }
   ],
   "source": [
    "df.isnull().sum()"
   ]
  },
  {
   "cell_type": "code",
   "execution_count": 13,
   "id": "8247e27f-0e61-4bc9-8b85-ab144a8b625c",
   "metadata": {
    "collapsed": true,
    "jupyter": {
     "outputs_hidden": true
    }
   },
   "outputs": [
    {
     "data": {
      "text/plain": [
       "Index(['state', 'district', 'market', 'commodity', 'variety', 'arrival_date',\n",
       "       'min_price', 'max_price', 'modal_price'],\n",
       "      dtype='object')"
      ]
     },
     "execution_count": 13,
     "metadata": {},
     "output_type": "execute_result"
    }
   ],
   "source": [
    "# df.commodity.unique()\n",
    "df.columns"
   ]
  },
  {
   "cell_type": "code",
   "execution_count": 14,
   "id": "d5c4fc82-ad21-4f5c-97f8-560c39c31e0c",
   "metadata": {
    "collapsed": true,
    "jupyter": {
     "outputs_hidden": true
    }
   },
   "outputs": [
    {
     "data": {
      "text/plain": [
       "Index(['market', 'variety', 'arrival_date', 'min_price', 'max_price',\n",
       "       'modal_price'],\n",
       "      dtype='object')"
      ]
     },
     "execution_count": 14,
     "metadata": {},
     "output_type": "execute_result"
    }
   ],
   "source": [
    "droped_columns=df[['state', 'district','commodity']]\n",
    "df=df.drop(droped_columns, axis=\"columns\")\n",
    "df.columns"
   ]
  },
  {
   "cell_type": "code",
   "execution_count": 15,
   "id": "e49b14cc-9da9-4cb4-9e3a-7788a9f6af29",
   "metadata": {},
   "outputs": [
    {
     "name": "stdout",
     "output_type": "stream",
     "text": [
      "<class 'pandas.core.frame.DataFrame'>\n",
      "RangeIndex: 107295 entries, 0 to 107294\n",
      "Data columns (total 6 columns):\n",
      " #   Column        Non-Null Count   Dtype  \n",
      "---  ------        --------------   -----  \n",
      " 0   market        107295 non-null  object \n",
      " 1   variety       107295 non-null  object \n",
      " 2   arrival_date  107295 non-null  object \n",
      " 3   min_price     107295 non-null  int64  \n",
      " 4   max_price     107295 non-null  int64  \n",
      " 5   modal_price   107295 non-null  float64\n",
      "dtypes: float64(1), int64(2), object(3)\n",
      "memory usage: 4.9+ MB\n"
     ]
    }
   ],
   "source": [
    "df.info()"
   ]
  },
  {
   "cell_type": "code",
   "execution_count": 17,
   "id": "a7e9a5e1-5fc9-4576-9848-80b573d789a4",
   "metadata": {
    "collapsed": true,
    "jupyter": {
     "outputs_hidden": true
    }
   },
   "outputs": [
    {
     "data": {
      "text/plain": [
       "array(['Kurnool', 'Pattikonda', 'Tiphra', 'Durg', 'Raigarh',\n",
       "       'Rajnandgaon', 'Mapusa',\n",
       "       'Ahmedabad(Chimanbhai Patal Market Vasana)', 'Dhari',\n",
       "       'Anand(Veg,Yard,Anand)', 'Khambhat(Veg Yard Khambhat)',\n",
       "       'Petlad(Veg Yard, Petlad)', 'Deesa(Deesa Veg Yard)', 'Bharuch',\n",
       "       'Bhavnagar', 'Mahuva(Station Road)', 'Dahod(Veg. Market)',\n",
       "       'Jamnagar', 'Visavadar', 'Kapadvanj', 'Nadiyad(Piplag)',\n",
       "       'Mehsana(Mehsana Veg)', 'Bilimora', 'Godhra', 'Porbandar',\n",
       "       'Gondal', 'Jetpur(Dist.Rajkot)', 'Morbi', 'Rajkot(Ghee Peeth)',\n",
       "       'Songadh', 'Surat', 'Vadhvan', 'Padra', 'Vadodara(Sayajipura)',\n",
       "       'Ambala Cantt.', 'Ambala City', 'Barara', 'Mullana', 'Naraingarh',\n",
       "       'Shahzadpur', 'Ch. Dadri', 'Ballabhgarh', 'Faridabad', 'Fatehabad',\n",
       "       'Jakhal', 'Farukh Nagar', 'Gurgaon', 'Pataudi', 'Sohna',\n",
       "       'Barwala(Hisar)', 'Hansi', 'Narnaund', 'Uklana', 'Bahadurgarh',\n",
       "       'Jhajjar', 'Jind', 'Narwana', 'Safidon', 'Dhand', 'Pundri',\n",
       "       'Siwan', 'Asandh', 'Gharaunda', 'New Grain Market(main), Karnal',\n",
       "       'Babain', 'Iamailabad', 'Ladwa', 'Pehowa', 'Pipli', 'Shahabad',\n",
       "       'Thanesar', 'Mohindergarh', 'Nuh', 'Punhana', 'Taura', 'Hassanpur',\n",
       "       'Palwal', 'Barwala', 'New Grain Market , Panchkula',\n",
       "       'Panchkul(Kalka)', 'Madlauda', 'Panipat', 'Samalkha', 'Rewari',\n",
       "       'Meham', 'New Grain Market , Rohtak', 'Sampla', 'Ellanabad',\n",
       "       'kalanwali', 'Rania', 'Sirsa', 'Ganaur', 'Gohana', 'Sonepat',\n",
       "       'Sonepat(Kharkhoda)', 'Chhachrauli', 'Jagadhri', 'Mustafabad',\n",
       "       'Radaur', 'Sadhaura', 'Yamuna Nagar', 'Bilaspur', 'Chamba',\n",
       "       'Hamirpur', 'Hamirpur(Nadaun)', 'Kangra', 'Kangra(Baijnath)',\n",
       "       'Kangra(Jaisinghpur)', 'Kangra(Jassour)', 'Kangra(Nagrota Bagwan)',\n",
       "       'Palampur', 'Bhuntar', 'Kullu', 'Kullu(Chauri Bihal)',\n",
       "       'Dhanotu (Mandi)', 'Mandi(Mandi)', 'Mandi(Takoli)', 'Rohroo',\n",
       "       'Shimla', 'Shimla and Kinnaur(Rampur)', 'Nahan', 'Paonta Sahib',\n",
       "       'Solan', 'Solan(Nalagarh)', 'Santoshgarh', 'Una',\n",
       "       'Ashahipora (Anantnagh)', 'Akhnoor', 'Batote',\n",
       "       'Narwal Jammu (F&V)', 'Samba', 'Kathua', 'Rajouri (F&V)',\n",
       "       'Parimpore', 'Reasi', 'Udhampur', 'Lohardaga', 'Khunti',\n",
       "       'Bagalakot', 'Jamakhandi', 'Bangalore', 'Channapatana',\n",
       "       'Doddaballa Pur', 'Ramanagara', 'Belgaum', 'Bellary', 'Hospet',\n",
       "       'Humanabad', 'Bijapur', 'Chamaraj Nagar', 'Gundlupet', 'Bagepalli',\n",
       "       'Chikkamagalore', 'Kadur', 'Tarikere', 'Davangere', 'Dharwar',\n",
       "       'Hubli (Amaragol)', 'Gadag', 'Arakalgud', 'Arasikere', 'Belur',\n",
       "       'Channarayapatna', 'Hassan', 'Haveri', 'Ranebennur', 'Bangarpet',\n",
       "       'Chickkaballapura', 'Chintamani', 'Gowribidanoor', 'Kolar',\n",
       "       'Malur', 'Srinivasapur', 'K.R. Pet', 'Mandya', 'Mangalore',\n",
       "       'Hunsur', 'Mysore (Bandipalya)', 'Nanjangud', 'T. Narasipura',\n",
       "       'Raichur', 'Bhadravathi', 'Shimoga', 'Gubbi', 'Tiptur', 'Tumkur',\n",
       "       'Udupi', 'Alappuzha', 'Aroor', 'Chengannur', 'Cherthala',\n",
       "       'Harippad', 'Kayamkulam', 'Madhavapuram', 'Mannar', 'Aluva',\n",
       "       'Angamaly', 'Ernakulam', 'Kothamangalam', 'Moovattupuzha',\n",
       "       'Perumbavoor', 'Piravam', 'Thrippunithura', 'Kattappana', 'Munnar',\n",
       "       'Nedumkandam', 'Thodupuzha', 'Vandiperiyar', 'Kannur',\n",
       "       'Kanjangadu', 'Neeleswaram', 'Anchal', 'Chathanoor',\n",
       "       'Athirampuzha', 'Ettumanoor', 'Kanjirappally', 'Kottayam',\n",
       "       'Kuruppanthura', 'Pala', 'Pampady', 'Thalayolaparambu', 'Kallachi',\n",
       "       'Mukkom', 'Palayam', 'Perambra', 'Quilandy', 'Thamarassery',\n",
       "       'Kondotty', 'Kottakkal', 'Manjeri', 'Parappanangadi',\n",
       "       'Perinthalmanna', 'Thirurrangadi', 'Koduvayoor', 'Palakkad',\n",
       "       'Pattambi', 'vadakarapathy', 'Vadakkenchery', 'Chalakudy',\n",
       "       'Chavakkad', 'Chelakkara', 'Irinjalakkuda', 'Kodungalloor',\n",
       "       'Thrissur', 'Wadakkanchery', 'Aralamoodu', 'Chala', 'Pothencode',\n",
       "       'Vamanapuram', 'Alirajpur(F&V)', 'Anuppur', 'Sendhwa',\n",
       "       'Bhopal(F&V)', 'Burhanpur(F&V)', 'Chhatarpur', 'Chhindwara(F&V)',\n",
       "       'Damoh(F&V)', 'Dewas(F&V)', 'Haatpipliya', 'Badnawar(F&V)',\n",
       "       'Dhamnod', 'Dhar(F&V)', 'Kukshi', 'Rajgarh', 'Guna(F&V)',\n",
       "       'Lashkar(F&V)', 'Harda(F&V)', 'Timarni', 'Hoshangabad', 'Pipariya',\n",
       "       'Gautampura', 'Indore(F&V)', 'Sanwer', 'Jabalpur(F&V)', 'Jhabua',\n",
       "       'Petlawad', 'Khandwa(F&V)', 'Pandhana(F&V)', 'Mandsaur',\n",
       "       'Shamgarh(F&V)', 'Sitmau', 'Morena(F&V)', 'Porsa(F&V)',\n",
       "       'Gadarwada', 'Javad', 'Manasa', 'Neemuch', 'Raisen', 'Biaora',\n",
       "       'Narsinghgarh', 'Ratlam(F&V)', 'Sailana', 'Deori', 'Sagar(F&V)',\n",
       "       'Satna(F&V)', 'Ashta', 'Sehore', 'Berachha', 'Kalapipal',\n",
       "       'Shajapur(F&V)', 'Shujalpur', 'Soyatkalan', 'Syopurkalan(F&V)',\n",
       "       'Shivpuri(F&V)', 'Ujjain(F&V)', 'Ahmednagar', 'Akole', 'Jamkhed',\n",
       "       'Kopargaon', 'Newasa(Ghodegaon)', 'Parner', 'Pathardi', 'Rahata',\n",
       "       'Rahuri', 'Rahuri(Vambori)', 'Sangamner', 'Shevgaon', 'Shrigonda',\n",
       "       'Shrirampur', 'Amarawati', 'Amrawati(Frui & Veg. Market)',\n",
       "       'Morshi', 'Aurangabad', 'Gangapur', 'Lasur Station', 'Paithan',\n",
       "       'Vaijpur', 'Kada', 'Malkapur', 'Nandura', 'Chandrapur(Ganjwad)',\n",
       "       'Dhule', 'Sakri', 'Shirpur', 'Chalisgaon', 'Jalgaon', 'Yawal',\n",
       "       'Kolhapur', 'Vashi New Mumbai', 'Kamthi', 'Nagpur', 'Ramtek',\n",
       "       'Navapur', 'Chandvad', 'Devala', 'Dindori', 'Dindori(Vani)',\n",
       "       'Kalvan', 'Lasalgaon', 'Lasalgaon(Niphad)', 'Lasalgaon(Vinchur)',\n",
       "       'Malegaon', 'Malegaon(Umarane)', 'Manmad', 'Nampur', 'Nandgaon',\n",
       "       'Nasik', 'Pimpalgaon', 'Pimpalgaon Baswant(Saykheda)', 'Satana',\n",
       "       'Sinner', 'Umrane', 'Yeola', 'Osmanabad', 'Washi(Thane  Market)',\n",
       "       'Dound', 'Indapur', 'Junnar', 'Junnar(Alephata)', 'Junnar(Otur)',\n",
       "       'Khed(Chakan)', 'Maanachar', 'Pune', 'Pune(Hadapsar)',\n",
       "       'Pune(Khadiki)', 'Pune(Manjri)', 'Pune(Moshi)', 'Pune(Pimpri)',\n",
       "       'Karjat(Raigad)', 'Ratnagiri (Nachane)',\n",
       "       'Sangli(Phale, Bhajipura Market)', 'Vita', 'Karad', 'Lonand',\n",
       "       'Palthan', 'Satara', 'Vai', 'Akluj', 'Barshi', 'Karmala',\n",
       "       'Kurdwadi', 'Kurdwadi(Modnimb)', 'Mangal Wedha', 'Pandharpur',\n",
       "       'Solapur', 'Kalyan', 'Murbad', 'Mokokchung Town', 'Azadpur',\n",
       "       'Keshopur', 'Shahdara', 'Angaura', 'Angul', 'Angul(Jarapada)',\n",
       "       'Talcher', 'Bampada', 'Barikpur', 'Jaleswar', 'Nilagiri',\n",
       "       'Attabira', 'Bargarh', 'Bargarh(Barapalli)', 'Godabhaga',\n",
       "       'Bhadrak', 'Chandabali', 'Sahidngar', 'Bolangir', 'Tusura',\n",
       "       'Boudh', 'Khunthabandha', 'Kendupatna', 'Kendupatna(Niali)',\n",
       "       'Dhenkanal', 'Hindol', 'Kamakhyanagar', 'Mottagaon', 'Bhanjanagar',\n",
       "       'Digapahandi', 'Hinjilicut', 'Jajpur', 'Jhumpura', 'Jharsuguda',\n",
       "       'Bhawanipatna', 'Junagarh', 'Kalahandi(Dharamagarh)', 'Kesinga',\n",
       "       'Chatta Krushak Bazar', 'Gopa', 'Kendrapara',\n",
       "       'Kendrapara(Marshaghai)', 'Pattamundai', 'Keonjhar',\n",
       "       'Keonjhar(Dhekikote)', 'Saharpada', 'Balugaon', 'Jatni',\n",
       "       'Malkanagiri', 'Malkangiri(Korakunda)', 'Baripada', 'Betnoti',\n",
       "       'Chuliaposi', 'Saraskana', 'Udala', 'Khariar', 'Khariar Road',\n",
       "       'Rayagada', 'Birmaharajpur', 'Dungurapalli', 'Pandkital', 'Bonai',\n",
       "       'Sargipali', 'Ajnala', 'Amritsar(Amritsar Mewa Mandi)',\n",
       "       'Gehri(Jandiala mandi)', 'Rayya', 'Barnala', 'Bathinda',\n",
       "       'Bhagta Bhai Ka', 'Bhucho', 'Goniana', 'Maur', 'Raman',\n",
       "       'Rampuraphul(Nabha Mandi)', 'Talwandi Sabo', 'Faridkot', 'Jaitu',\n",
       "       'Kotkapura', 'Bassi Pathana', 'Khamano', 'Sirhind', 'Abohar',\n",
       "       'Fazilka', 'Jalalabad', 'Ferozepur Cantt.', 'Firozepur City',\n",
       "       'Guru Har Sahai', 'Makhu', 'Mamdot', 'Zira', 'Batala', 'Dhariwal',\n",
       "       'Dinanagar', 'F.G.Churian', 'Gurdaspur', 'Quadian', 'Dasuya',\n",
       "       'Garh Shankar', 'Garh Shankar(Mahalpur)',\n",
       "       'GarhShankar (Kotfatuhi)', 'Hoshiarpur', 'Mukerian',\n",
       "       'Mukerian(Talwara)', 'Tanda Urmur', 'Adampur', 'Bhogpur', 'Bilga',\n",
       "       'Goraya', 'Nakodar', 'Phillaur(Apra Mandi)', 'Bhulath', 'Phagwara',\n",
       "       'Doraha', 'Jagraon', 'Khanna', 'Ludhiana', 'Machhiwara',\n",
       "       'Sahnewal', 'Samrala', 'Budalada', 'Mansa', 'Baghapurana',\n",
       "       'Dharamkot', 'Moga', 'Nihal Singh Wala', 'Banur',\n",
       "       'Banur (Kheragaju)', 'Dera Bassi', 'Kharar', 'Kurali', 'Lalru',\n",
       "       'Bariwala', 'Giddarbaha', 'Malout', 'Muktsar', 'Balachaur',\n",
       "       'Banga', 'Nawan Shahar(MandiRaho)', 'Nawan Shahar(Subzi Mandi)',\n",
       "       'Pathankot', 'Dudhansadhan', 'Ghanaur', 'Nabha', 'Patiala',\n",
       "       'Patran', 'Rajpura', 'Samana', 'Anandpur Sahib', 'Chamkaur Sahib',\n",
       "       'Morinda', 'Ropar', 'Bhawanigarh', 'Dhuri', 'Khanauri',\n",
       "       'Lehra Gaga', 'Malerkotla', 'Sangrur', 'Sunam', 'Patti',\n",
       "       'Tarantaran', 'Ajmer(F&V)', 'Beawar', 'Bijay Nagar', 'Kekri',\n",
       "       'Madanganj Kishanganj', 'Alwar(FV)', 'Khairthal', 'Balotra',\n",
       "       'Bayana', 'Nadwai', 'Bhilwara', 'Bikaner(F&V)', 'Chittorgarh',\n",
       "       'Nimbahera', 'Pratapgarh', 'Churu', 'Sujangarh(Churu)', 'Padampur',\n",
       "       'Sadulshahar', 'Sriganganagar(F&V)', 'Bhadara', 'Hanumangarh',\n",
       "       'Hanumangarh Town', 'Hanumangarh(Urlivas)', 'Pilli Banga',\n",
       "       'Sangriya', 'Suratgarh', 'Chomu(F&V)', 'Jaipur(Bassi)',\n",
       "       'Jaipur(F&V)', 'Jaisalmer', 'Jalore', 'Sanchor', 'Jhunjhunu',\n",
       "       'Nawalgarh', 'Jodhpur(F&V)(Bhadwasia)', 'Kota (FV)', 'Nagour(FV)',\n",
       "       'Sojat Road', 'Rajasamand', 'Sikar', 'Surajgarh', 'Abu Road',\n",
       "       'Tonk', 'Udaipur(F&V)', 'Bowenpally', 'Gudimalkapur', 'L B Nagar',\n",
       "       'Mahboob Manison', 'Sadasivpet', 'Gandacharra', 'Halahali',\n",
       "       'Kalyanpur', 'Teliamura', 'Dasda', 'Kadamtala', 'Kanchanpur',\n",
       "       'Panisagar', 'Bishalgarh', 'Bishramganj', 'Jumpuijala', 'Melaghar',\n",
       "       'Barpathari', 'Kalsi', 'Manubazar', 'Masmara', 'Achnera', 'Agra',\n",
       "       'Fatehpur Sikri', 'Jagnair', 'Jarar', 'Khairagarh', 'Samsabad',\n",
       "       'Aligarh', 'Atrauli', 'Charra', 'Khair', 'Ajuha', 'Allahabad',\n",
       "       'Jasra', 'Akbarpur', 'Tanda', 'Achalda', 'Auraiya', 'Dibiapur',\n",
       "       'Azamgarh', 'Badayoun', 'Bilsi', 'Shahaswan', 'Ujhani',\n",
       "       'Wazirganj', 'Bagpat', 'Baraut', 'Khekda', 'Bahraich', 'Naanpara',\n",
       "       'Risia', 'Ruperdeeha', 'Ballia', 'Chitwadagaon', 'Rasda',\n",
       "       'Vilthararoad', 'Balrampur', 'Tulsipur', 'Utraula', 'Atarra',\n",
       "       'Baberu', 'Banda', 'Barabanki', 'Rudauli', 'Safdarganj', 'Anwala',\n",
       "       'Bahedi', 'Bareilly', 'Basti', 'Gopiganj', 'Bijnaur', 'Chaandpur',\n",
       "       'Dhampur', 'Kiratpur', 'Nagina', 'Najibabad', 'Anoop Shahar',\n",
       "       'Buland Shahr', 'Divai', 'Gulavati', 'Jahangirabad', 'Khurja',\n",
       "       'Sikanderabad', 'Sikarpur', 'Siyana', 'Chandoli', 'Karvi',\n",
       "       'Barhaj', 'Devariya', 'Aliganj', 'Awagarh', 'Etah', 'Ganjdudwara',\n",
       "       'Kasganj', 'Bharthna', 'Etawah', 'Jasvantnagar', 'Faizabad',\n",
       "       'Farukhabad', 'Kamlaganj', 'Kayamganj', 'Mohamadabad', 'Bindki',\n",
       "       'Fatehpur', 'Jahanabad', 'Firozabad', 'Shikohabad', 'Sirsaganj',\n",
       "       'Tundla', 'Dadri', 'Dankaur', 'Ghaziabad', 'Hapur', 'Muradnagar',\n",
       "       'Noida', 'Gazipur', 'Jamanian', 'Jangipura', 'Saidpur', 'Yusufpur',\n",
       "       'Gonda', 'Karnailganj', 'Nawabganj', 'Chorichora', 'Gorakhpur',\n",
       "       'Sehjanwa', 'Bharuasumerpur', 'Maudaha', 'Muskara', 'Raath',\n",
       "       'Hardoi', 'Madhoganj', 'Sandi', 'Sandila', 'Shahabad(New Mandi)',\n",
       "       'Haathras', 'Shadabad', 'Ait', 'Jalaun', 'Konch', 'Orai',\n",
       "       'Jaunpur', 'Mugrabaadshahpur', 'Shahganj', 'Chirgaon', 'Gurusarai',\n",
       "       'Jhansi', 'Mauranipur', 'Moth', 'Amroha', 'Dhanura', 'Hasanpur',\n",
       "       'Chhibramau(Kannuj)', 'Kannauj', 'Choubepur', 'Jhijhank',\n",
       "       'Kanpur(Grain)', 'Pukhrayan', 'Rura', 'Uttaripura', 'Varipaal',\n",
       "       'Bharwari', 'Maigalganj', 'Mohammdi', 'Tikonia', 'Golagokarnath',\n",
       "       'Lakhimpur', 'Paliakala', 'Lalitpur', 'Lucknow', 'Anandnagar',\n",
       "       'Gadaura', 'Maharajganj', 'Nautnava', 'Partaval', 'Mahoba',\n",
       "       'Bewar', 'Ghiraur', 'Mainpuri', 'Kosikalan', 'Mathura', 'Kopaganj',\n",
       "       'Mau', 'Mawana', 'Meerut', 'Sardhana', 'Mirzapur', 'Chandausi',\n",
       "       'Muradabad', 'Sambhal', 'Kadhle', 'Kairana', 'Khatauli',\n",
       "       'Muzzafarnagar', 'Shahpur', 'Shamli', 'Thanabhawan',\n",
       "       'Tamkuhi Road', 'Billsadda', 'Pilibhit', 'Puranpur', 'Vishalpur',\n",
       "       'Bachranwa', 'Jayas', 'Lalganj', 'Raibareilly', 'Milak', 'Rampur',\n",
       "       'Vilaspur', 'Chutmalpur', 'Devband', 'Gangoh', 'Nanuta',\n",
       "       'Rampurmaniharan', 'Saharanpur', 'Sultanpurchilkana', 'Khalilabad',\n",
       "       'Badda', 'Katra', 'Puwaha', 'Shahjahanpur', 'Tilhar', 'Naugarh',\n",
       "       'Sahiyapur', 'Soharatgarh', 'Wansi', 'Hargaon (Laharpur)',\n",
       "       'Mehmoodabad', 'Sindholi', 'Sitapur', 'Viswan', 'Dudhi',\n",
       "       'Robertsganj', 'Jafarganj', 'Sultanpur', 'Bangarmau', 'Purwa',\n",
       "       'Unnao', 'Varanasi(F&V)', 'Tanakpur', 'Dehradoon', 'Rishikesh',\n",
       "       'Vikasnagar', 'Kotadwara', 'Bhagwanpur(Naveen Mandi Sthal)',\n",
       "       'Haridwar Union', 'Lakshar', 'Manglaur', 'Roorkee', 'Haldwani',\n",
       "       'Ramnagar', 'Jaspur(UC)', 'Kashipur', 'Khateema', 'Kicchha',\n",
       "       'Rudrapur', 'Sitarganj', 'Bankura Sadar', 'Bishnupur(Bankura)',\n",
       "       'Birbhum', 'Bolpur', 'Rampurhat', 'Sainthia', 'Asansol', 'Burdwan',\n",
       "       'Durgapur', 'Kalna', 'Katwa', 'Dinhata', 'Mekhliganj',\n",
       "       'Karsiyang(Matigara)', 'Siliguri', 'Sheoraphuly',\n",
       "       'Ramkrishanpur(Howrah)', 'Uluberia', 'Alipurduar', 'Belacoba',\n",
       "       'Dhupguri', 'Falakata', 'Jalpaiguri Sadar', 'Moynaguri',\n",
       "       'Bara Bazar (Posta Bazar)', 'English Bazar', 'Gajol', 'Samsi',\n",
       "       'Egra/contai', 'Tamluk (Medinipur E)', 'Medinipur(West)',\n",
       "       'Jangipur', 'Chakdah', 'Kalyani', 'Nadia', 'Ranaghat', 'Barasat',\n",
       "       'Habra', 'Balarampur', 'Kasipur', 'Purulia', 'Baruipur(Canning)',\n",
       "       'Diamond Harbour(South 24-pgs)'], dtype=object)"
      ]
     },
     "execution_count": 17,
     "metadata": {},
     "output_type": "execute_result"
    }
   ],
   "source": [
    "df.market.unique()"
   ]
  },
  {
   "cell_type": "code",
   "execution_count": 22,
   "id": "51ddadd6-f572-4de8-a233-e5eaccb2a628",
   "metadata": {
    "collapsed": true,
    "jupyter": {
     "outputs_hidden": true
    },
    "scrolled": true
   },
   "outputs": [
    {
     "data": {
      "text/html": [
       "<div>\n",
       "<style scoped>\n",
       "    .dataframe tbody tr th:only-of-type {\n",
       "        vertical-align: middle;\n",
       "    }\n",
       "\n",
       "    .dataframe tbody tr th {\n",
       "        vertical-align: top;\n",
       "    }\n",
       "\n",
       "    .dataframe thead th {\n",
       "        text-align: right;\n",
       "    }\n",
       "</style>\n",
       "<table border=\"1\" class=\"dataframe\">\n",
       "  <thead>\n",
       "    <tr style=\"text-align: right;\">\n",
       "      <th></th>\n",
       "      <th>1st Sort</th>\n",
       "      <th>2nd Sort</th>\n",
       "      <th>Bangalore-Samall</th>\n",
       "      <th>Beelary-Red</th>\n",
       "      <th>Bellary</th>\n",
       "      <th>Big</th>\n",
       "      <th>Bombay (U.P.)</th>\n",
       "      <th>Dry F.A.Q.</th>\n",
       "      <th>Hybrid</th>\n",
       "      <th>Local</th>\n",
       "      <th>...</th>\n",
       "      <th>Nasik</th>\n",
       "      <th>Onion</th>\n",
       "      <th>Other</th>\n",
       "      <th>Pole</th>\n",
       "      <th>Puna</th>\n",
       "      <th>Pusa-Red</th>\n",
       "      <th>Red</th>\n",
       "      <th>Small</th>\n",
       "      <th>Telagi</th>\n",
       "      <th>White</th>\n",
       "    </tr>\n",
       "  </thead>\n",
       "  <tbody>\n",
       "    <tr>\n",
       "      <th>0</th>\n",
       "      <td>0</td>\n",
       "      <td>0</td>\n",
       "      <td>0</td>\n",
       "      <td>0</td>\n",
       "      <td>0</td>\n",
       "      <td>0</td>\n",
       "      <td>0</td>\n",
       "      <td>0</td>\n",
       "      <td>0</td>\n",
       "      <td>1</td>\n",
       "      <td>...</td>\n",
       "      <td>0</td>\n",
       "      <td>0</td>\n",
       "      <td>0</td>\n",
       "      <td>0</td>\n",
       "      <td>0</td>\n",
       "      <td>0</td>\n",
       "      <td>0</td>\n",
       "      <td>0</td>\n",
       "      <td>0</td>\n",
       "      <td>0</td>\n",
       "    </tr>\n",
       "    <tr>\n",
       "      <th>1</th>\n",
       "      <td>0</td>\n",
       "      <td>0</td>\n",
       "      <td>0</td>\n",
       "      <td>0</td>\n",
       "      <td>0</td>\n",
       "      <td>0</td>\n",
       "      <td>0</td>\n",
       "      <td>0</td>\n",
       "      <td>0</td>\n",
       "      <td>1</td>\n",
       "      <td>...</td>\n",
       "      <td>0</td>\n",
       "      <td>0</td>\n",
       "      <td>0</td>\n",
       "      <td>0</td>\n",
       "      <td>0</td>\n",
       "      <td>0</td>\n",
       "      <td>0</td>\n",
       "      <td>0</td>\n",
       "      <td>0</td>\n",
       "      <td>0</td>\n",
       "    </tr>\n",
       "    <tr>\n",
       "      <th>2</th>\n",
       "      <td>0</td>\n",
       "      <td>0</td>\n",
       "      <td>0</td>\n",
       "      <td>0</td>\n",
       "      <td>0</td>\n",
       "      <td>0</td>\n",
       "      <td>0</td>\n",
       "      <td>0</td>\n",
       "      <td>0</td>\n",
       "      <td>1</td>\n",
       "      <td>...</td>\n",
       "      <td>0</td>\n",
       "      <td>0</td>\n",
       "      <td>0</td>\n",
       "      <td>0</td>\n",
       "      <td>0</td>\n",
       "      <td>0</td>\n",
       "      <td>0</td>\n",
       "      <td>0</td>\n",
       "      <td>0</td>\n",
       "      <td>0</td>\n",
       "    </tr>\n",
       "    <tr>\n",
       "      <th>3</th>\n",
       "      <td>0</td>\n",
       "      <td>0</td>\n",
       "      <td>0</td>\n",
       "      <td>0</td>\n",
       "      <td>0</td>\n",
       "      <td>0</td>\n",
       "      <td>0</td>\n",
       "      <td>0</td>\n",
       "      <td>0</td>\n",
       "      <td>1</td>\n",
       "      <td>...</td>\n",
       "      <td>0</td>\n",
       "      <td>0</td>\n",
       "      <td>0</td>\n",
       "      <td>0</td>\n",
       "      <td>0</td>\n",
       "      <td>0</td>\n",
       "      <td>0</td>\n",
       "      <td>0</td>\n",
       "      <td>0</td>\n",
       "      <td>0</td>\n",
       "    </tr>\n",
       "    <tr>\n",
       "      <th>4</th>\n",
       "      <td>0</td>\n",
       "      <td>0</td>\n",
       "      <td>0</td>\n",
       "      <td>0</td>\n",
       "      <td>0</td>\n",
       "      <td>0</td>\n",
       "      <td>0</td>\n",
       "      <td>0</td>\n",
       "      <td>0</td>\n",
       "      <td>1</td>\n",
       "      <td>...</td>\n",
       "      <td>0</td>\n",
       "      <td>0</td>\n",
       "      <td>0</td>\n",
       "      <td>0</td>\n",
       "      <td>0</td>\n",
       "      <td>0</td>\n",
       "      <td>0</td>\n",
       "      <td>0</td>\n",
       "      <td>0</td>\n",
       "      <td>0</td>\n",
       "    </tr>\n",
       "    <tr>\n",
       "      <th>...</th>\n",
       "      <td>...</td>\n",
       "      <td>...</td>\n",
       "      <td>...</td>\n",
       "      <td>...</td>\n",
       "      <td>...</td>\n",
       "      <td>...</td>\n",
       "      <td>...</td>\n",
       "      <td>...</td>\n",
       "      <td>...</td>\n",
       "      <td>...</td>\n",
       "      <td>...</td>\n",
       "      <td>...</td>\n",
       "      <td>...</td>\n",
       "      <td>...</td>\n",
       "      <td>...</td>\n",
       "      <td>...</td>\n",
       "      <td>...</td>\n",
       "      <td>...</td>\n",
       "      <td>...</td>\n",
       "      <td>...</td>\n",
       "      <td>...</td>\n",
       "    </tr>\n",
       "    <tr>\n",
       "      <th>107290</th>\n",
       "      <td>0</td>\n",
       "      <td>0</td>\n",
       "      <td>0</td>\n",
       "      <td>0</td>\n",
       "      <td>0</td>\n",
       "      <td>0</td>\n",
       "      <td>0</td>\n",
       "      <td>0</td>\n",
       "      <td>0</td>\n",
       "      <td>0</td>\n",
       "      <td>...</td>\n",
       "      <td>0</td>\n",
       "      <td>0</td>\n",
       "      <td>0</td>\n",
       "      <td>0</td>\n",
       "      <td>0</td>\n",
       "      <td>0</td>\n",
       "      <td>1</td>\n",
       "      <td>0</td>\n",
       "      <td>0</td>\n",
       "      <td>0</td>\n",
       "    </tr>\n",
       "    <tr>\n",
       "      <th>107291</th>\n",
       "      <td>0</td>\n",
       "      <td>0</td>\n",
       "      <td>0</td>\n",
       "      <td>0</td>\n",
       "      <td>0</td>\n",
       "      <td>0</td>\n",
       "      <td>0</td>\n",
       "      <td>0</td>\n",
       "      <td>0</td>\n",
       "      <td>0</td>\n",
       "      <td>...</td>\n",
       "      <td>0</td>\n",
       "      <td>0</td>\n",
       "      <td>0</td>\n",
       "      <td>0</td>\n",
       "      <td>0</td>\n",
       "      <td>0</td>\n",
       "      <td>1</td>\n",
       "      <td>0</td>\n",
       "      <td>0</td>\n",
       "      <td>0</td>\n",
       "    </tr>\n",
       "    <tr>\n",
       "      <th>107292</th>\n",
       "      <td>0</td>\n",
       "      <td>0</td>\n",
       "      <td>0</td>\n",
       "      <td>0</td>\n",
       "      <td>0</td>\n",
       "      <td>0</td>\n",
       "      <td>0</td>\n",
       "      <td>0</td>\n",
       "      <td>0</td>\n",
       "      <td>0</td>\n",
       "      <td>...</td>\n",
       "      <td>0</td>\n",
       "      <td>0</td>\n",
       "      <td>0</td>\n",
       "      <td>0</td>\n",
       "      <td>0</td>\n",
       "      <td>0</td>\n",
       "      <td>1</td>\n",
       "      <td>0</td>\n",
       "      <td>0</td>\n",
       "      <td>0</td>\n",
       "    </tr>\n",
       "    <tr>\n",
       "      <th>107293</th>\n",
       "      <td>0</td>\n",
       "      <td>0</td>\n",
       "      <td>0</td>\n",
       "      <td>0</td>\n",
       "      <td>0</td>\n",
       "      <td>0</td>\n",
       "      <td>0</td>\n",
       "      <td>0</td>\n",
       "      <td>0</td>\n",
       "      <td>0</td>\n",
       "      <td>...</td>\n",
       "      <td>0</td>\n",
       "      <td>0</td>\n",
       "      <td>0</td>\n",
       "      <td>0</td>\n",
       "      <td>0</td>\n",
       "      <td>0</td>\n",
       "      <td>1</td>\n",
       "      <td>0</td>\n",
       "      <td>0</td>\n",
       "      <td>0</td>\n",
       "    </tr>\n",
       "    <tr>\n",
       "      <th>107294</th>\n",
       "      <td>0</td>\n",
       "      <td>0</td>\n",
       "      <td>0</td>\n",
       "      <td>0</td>\n",
       "      <td>0</td>\n",
       "      <td>0</td>\n",
       "      <td>0</td>\n",
       "      <td>0</td>\n",
       "      <td>0</td>\n",
       "      <td>0</td>\n",
       "      <td>...</td>\n",
       "      <td>0</td>\n",
       "      <td>0</td>\n",
       "      <td>0</td>\n",
       "      <td>0</td>\n",
       "      <td>0</td>\n",
       "      <td>0</td>\n",
       "      <td>1</td>\n",
       "      <td>0</td>\n",
       "      <td>0</td>\n",
       "      <td>0</td>\n",
       "    </tr>\n",
       "  </tbody>\n",
       "</table>\n",
       "<p>107295 rows × 21 columns</p>\n",
       "</div>"
      ],
      "text/plain": [
       "        1st Sort  2nd Sort  Bangalore-Samall  Beelary-Red  Bellary  Big  \\\n",
       "0              0         0                 0            0        0    0   \n",
       "1              0         0                 0            0        0    0   \n",
       "2              0         0                 0            0        0    0   \n",
       "3              0         0                 0            0        0    0   \n",
       "4              0         0                 0            0        0    0   \n",
       "...          ...       ...               ...          ...      ...  ...   \n",
       "107290         0         0                 0            0        0    0   \n",
       "107291         0         0                 0            0        0    0   \n",
       "107292         0         0                 0            0        0    0   \n",
       "107293         0         0                 0            0        0    0   \n",
       "107294         0         0                 0            0        0    0   \n",
       "\n",
       "        Bombay (U.P.)  Dry F.A.Q.  Hybrid  Local  ...  Nasik  Onion  Other  \\\n",
       "0                   0           0       0      1  ...      0      0      0   \n",
       "1                   0           0       0      1  ...      0      0      0   \n",
       "2                   0           0       0      1  ...      0      0      0   \n",
       "3                   0           0       0      1  ...      0      0      0   \n",
       "4                   0           0       0      1  ...      0      0      0   \n",
       "...               ...         ...     ...    ...  ...    ...    ...    ...   \n",
       "107290              0           0       0      0  ...      0      0      0   \n",
       "107291              0           0       0      0  ...      0      0      0   \n",
       "107292              0           0       0      0  ...      0      0      0   \n",
       "107293              0           0       0      0  ...      0      0      0   \n",
       "107294              0           0       0      0  ...      0      0      0   \n",
       "\n",
       "        Pole  Puna  Pusa-Red  Red  Small  Telagi  White  \n",
       "0          0     0         0    0      0       0      0  \n",
       "1          0     0         0    0      0       0      0  \n",
       "2          0     0         0    0      0       0      0  \n",
       "3          0     0         0    0      0       0      0  \n",
       "4          0     0         0    0      0       0      0  \n",
       "...      ...   ...       ...  ...    ...     ...    ...  \n",
       "107290     0     0         0    1      0       0      0  \n",
       "107291     0     0         0    1      0       0      0  \n",
       "107292     0     0         0    1      0       0      0  \n",
       "107293     0     0         0    1      0       0      0  \n",
       "107294     0     0         0    1      0       0      0  \n",
       "\n",
       "[107295 rows x 21 columns]"
      ]
     },
     "execution_count": 22,
     "metadata": {},
     "output_type": "execute_result"
    }
   ],
   "source": [
    "dummies=pd.get_dummies(df['variety']).astype(int)\n",
    "dummies"
   ]
  },
  {
   "cell_type": "code",
   "execution_count": null,
   "id": "60711659-b453-494d-bccb-6efb483fdafa",
   "metadata": {},
   "outputs": [],
   "source": [
    "merged=pd.concat([df,dummies],axis=\"columns\")"
   ]
  },
  {
   "cell_type": "code",
   "execution_count": 40,
   "id": "e3664d94-28e1-4697-b166-d602534f95f6",
   "metadata": {},
   "outputs": [],
   "source": [
    "drop_variety=merged[['variety','1st Sort']]\n",
    "merged=merged.drop(drop_variety,axis='columns')"
   ]
  },
  {
   "cell_type": "code",
   "execution_count": 42,
   "id": "48f1d471-cfd1-41d1-9d5b-aed5e0ae7ecf",
   "metadata": {
    "scrolled": true
   },
   "outputs": [
    {
     "data": {
      "text/plain": [
       "Index(['market', 'arrival_date', 'min_price', 'max_price', 'modal_price',\n",
       "       '2nd Sort', 'Bangalore-Samall', 'Beelary-Red', 'Bellary', 'Big',\n",
       "       'Bombay (U.P.)', 'Dry F.A.Q.', 'Hybrid', 'Local', 'Medium', 'Nasik',\n",
       "       'Onion', 'Other', 'Pole', 'Puna', 'Pusa-Red', 'Red', 'Small', 'Telagi',\n",
       "       'White'],\n",
       "      dtype='object')"
      ]
     },
     "execution_count": 42,
     "metadata": {},
     "output_type": "execute_result"
    }
   ],
   "source": [
    "merged.columns"
   ]
  },
  {
   "cell_type": "code",
   "execution_count": 65,
   "id": "cb454dbf-780e-4bd9-9f03-26ddc5ed00ec",
   "metadata": {
    "collapsed": true,
    "jupyter": {
     "outputs_hidden": true
    }
   },
   "outputs": [
    {
     "data": {
      "text/plain": [
       "<matplotlib.collections.PathCollection at 0x22a47cb5610>"
      ]
     },
     "execution_count": 65,
     "metadata": {},
     "output_type": "execute_result"
    },
    {
     "data": {
      "image/png": "[encoded data removed]",
      "text/plain": [
       "<Figure size 640x480 with 1 Axes>"
      ]
     },
     "metadata": {},
     "output_type": "display_data"
    }
   ],
   "source": [
    "x=merged['min_price']\n",
    "y=merged['modal_price']\n",
    "plt.title(\"MIN VS MODE\")\n",
    "plt.xlabel(\"MINIMUM PRICES\")\n",
    "plt.ylabel(\"MODE prices \")\n",
    "# plt.marker(\"+\")\n",
    "plt.scatter(x,y,marker=\"+\",color=\"r\")"
   ]
  },
  {
   "cell_type": "code",
   "execution_count": 67,
   "id": "451049f4-8940-4431-90b1-b8eb2f87c7a6",
   "metadata": {
    "collapsed": true,
    "jupyter": {
     "outputs_hidden": true
    }
   },
   "outputs": [
    {
     "data": {
      "text/plain": [
       "<matplotlib.collections.PathCollection at 0x22a47f63ec0>"
      ]
     },
     "execution_count": 67,
     "metadata": {},
     "output_type": "execute_result"
    },
    {
     "data": {
      "image/png": "[encoded data removed]",
      "text/plain": [
       "<Figure size 640x480 with 1 Axes>"
      ]
     },
     "metadata": {},
     "output_type": "display_data"
    }
   ],
   "source": [
    "x=merged['min_price']\n",
    "y=merged['max_price']\n",
    "plt.title(\"MIN VS MAX\")\n",
    "plt.xlabel(\"MINIMUM PRICES\")\n",
    "plt.ylabel(\"MAX prices \")\n",
    "# plt.marker(\"+\")\n",
    "plt.scatter(x,y,marker=\"+\",color=\"r\")"
   ]
  },
  {
   "cell_type": "code",
   "execution_count": null,
   "id": "24ad4e5b-2f6e-4937-b809-7f4d62613686",
   "metadata": {},
   "outputs": [],
   "source": [
    "# select the columns for x and y\n",
    "x=merged[['min_price','arrival_date','max_price','2nd Sort', 'Bangalore-Samall', 'Beelary-Red', 'Bellary', 'Big','Bombay (U.P.)', 'Dry F.A.Q.', 'Hybrid', 'Local', 'Medium', 'Nasik',\n",
    "       'Onion', 'Other', 'Pole', 'Puna', 'Pusa-Red', 'Red', 'Small', 'Telagi',\n",
    "       'White']]\n",
    "y=['modal_price']"
   ]
  },
  {
   "cell_type": "code",
   "execution_count": 73,
   "id": "88b2c497-1f14-47cc-973b-1d845b5e29cf",
   "metadata": {},
   "outputs": [],
   "source": [
    "from sklearn.model_selection import train_test_split\n",
    "x_train,x_test,y_train,y_test=train_test_split(x,y,test_size=0.2)"
   ]
  }
 ],
 "metadata": {
  "kernelspec": {
   "display_name": "Python 3 (ipykernel)",
   "language": "python",
   "name": "python3"
  },
  "language_info": {
   "codemirror_mode": {
    "name": "ipython",
    "version": 3
   },
   "file_extension": ".py",
   "mimetype": "text/x-python",
   "name": "python",
   "nbconvert_exporter": "python",
   "pygments_lexer": "ipython3",
   "version": "3.12.4"
  }
 },
 "nbformat": 4,
 "nbformat_minor": 5
}
