{
 "cells": [
  {
   "cell_type": "markdown",
   "id": "e2460050-b6d8-498b-bd68-9e928a679b8d",
   "metadata": {},
   "source": [
    "# IMPLIMNETING MSE WITHOUT USING NUMPY "
   ]
  },
  {
   "cell_type": "code",
   "execution_count": 5,
   "id": "99b2c302-7dbf-4810-b3ba-ce2c171bc944",
   "metadata": {},
   "outputs": [],
   "source": [
    "import numpy as np"
   ]
  },
  {
   "cell_type": "code",
   "execution_count": 7,
   "id": "df79b28d-e0a4-44ed-a30d-d70eded1852b",
   "metadata": {},
   "outputs": [],
   "source": [
    "y_predicted = np.array([1,1,0,0,1])\n",
    "y_true = np.array([0.30,0.7,1,0,0.5])"
   ]
  },
  {
   "cell_type": "code",
   "execution_count": 20,
   "id": "cc946a7c-4227-400b-9535-1e6fc4dc6ea5",
   "metadata": {},
   "outputs": [],
   "source": [
    "def mse(y_predicted, y_true):\n",
    "    total_error = 0\n",
    "    for yp, yt in zip(y_predicted, y_true):\n",
    "        total_error += abs(yp - yt)**2\n",
    "    print(\"Total error is:\",total_error)\n",
    "    mse = total_error/len(y_predicted)\n",
    "    print(\"Mean squared error is:\",mse)\n",
    "    return mse"
   ]
  },
  {
   "cell_type": "code",
   "execution_count": 22,
   "id": "1aac7194-c9fc-4153-91db-ceea90dc2910",
   "metadata": {},
   "outputs": [
    {
     "name": "stdout",
     "output_type": "stream",
     "text": [
      "Total error is: 1.83\n",
      "Mean squared error is: 0.366\n"
     ]
    },
    {
     "data": {
      "text/plain": [
       "0.366"
      ]
     },
     "execution_count": 22,
     "metadata": {},
     "output_type": "execute_result"
    }
   ],
   "source": [
    "mse(y_predicted,y_true)"
   ]
  },
  {
   "cell_type": "markdown",
   "id": "73a35f6d-52ed-4f6f-8457-cc4c7d61f079",
   "metadata": {},
   "source": [
    "# IMPLIMNETING MSE WITH NUMPY"
   ]
  },
  {
   "cell_type": "code",
   "execution_count": 30,
   "id": "3a4786c0-7112-4c6c-96c5-c82f8bc11493",
   "metadata": {},
   "outputs": [],
   "source": [
    "mse=np.mean(np.abs(y_predicted-y_true)**2)"
   ]
  },
  {
   "cell_type": "code",
   "execution_count": 32,
   "id": "bf510f4c-6c12-4d11-88fe-97bac26dc365",
   "metadata": {},
   "outputs": [],
   "source": [
    "def numpy_mse(yp,yt):\n",
    "    return mse"
   ]
  },
  {
   "cell_type": "code",
   "execution_count": 34,
   "id": "a5cf7dea-f608-4d57-b6ce-5261b4b11ccc",
   "metadata": {},
   "outputs": [
    {
     "data": {
      "text/plain": [
       "0.366"
      ]
     },
     "execution_count": 34,
     "metadata": {},
     "output_type": "execute_result"
    }
   ],
   "source": [
    "numpy_mse(y_predicted,y_true)"
   ]
  }
 ],
 "metadata": {
  "kernelspec": {
   "display_name": "Python 3 (ipykernel)",
   "language": "python",
   "name": "python3"
  },
  "language_info": {
   "codemirror_mode": {
    "name": "ipython",
    "version": 3
   },
   "file_extension": ".py",
   "mimetype": "text/x-python",
   "name": "python",
   "nbconvert_exporter": "python",
   "pygments_lexer": "ipython3",
   "version": "3.12.4"
  }
 },
 "nbformat": 4,
 "nbformat_minor": 5
}
