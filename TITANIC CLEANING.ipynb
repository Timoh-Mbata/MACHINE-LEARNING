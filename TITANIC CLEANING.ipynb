{
 "cells": [
  {
   "cell_type": "code",
   "execution_count": 175,
   "id": "13633c0a-b4e6-48ed-ae51-15fd195b90ca",
   "metadata": {},
   "outputs": [],
   "source": [
    "import pandas as pd\n",
    "import numpy as np\n",
    "import matplotlib.pyplot as plt\n",
    "import seaborn as sns\n",
    "from sklearn.impute import KNNImputer"
   ]
  },
  {
   "cell_type": "code",
   "execution_count": 177,
   "id": "02330df6-b08a-47f4-8169-b72a55325fb4",
   "metadata": {},
   "outputs": [],
   "source": [
    "df=pd.read_csv(\"Copy of Titanic-Dataset.csv\")"
   ]
  },
  {
   "cell_type": "code",
   "execution_count": 179,
   "id": "4ecf6a8e-3895-4c83-82da-a2932006310f",
   "metadata": {},
   "outputs": [
    {
     "name": "stdout",
     "output_type": "stream",
     "text": [
      "THE HEAD IS \n",
      "   PassengerId  Survived  Pclass  \\\n",
      "0            1         0       3   \n",
      "1            2         1       1   \n",
      "2            3         1       3   \n",
      "3            4         1       1   \n",
      "4            5         0       3   \n",
      "\n",
      "                                                Name     Sex   Age  \\\n",
      "0                            Braund, Mr. Owen Harris    male  22.0   \n",
      "1  Cumings, Mrs. John Bradley (Florence Briggs Th...  female  38.0   \n",
      "2                             Heikkinen, Miss. Laina  female  26.0   \n",
      "3       Futrelle, Mrs. Jacques Heath (Lily May Peel)  female  35.0   \n",
      "4                           Allen, Mr. William Henry    male  35.0   \n",
      "\n",
      "   Siblings or spouse  Parch            Ticket     Fare Cabin Embarked  \n",
      "0                   1      0         A/5 21171   7.2500   NaN        S  \n",
      "1                   1      0          PC 17599  71.2833   C85        C  \n",
      "2                   0      0  STON/O2. 3101282   7.9250   NaN        S  \n",
      "3                   1      0            113803  53.1000  C123        S  \n",
      "4                   0      0            373450   8.0500   NaN        S  \n"
     ]
    }
   ],
   "source": [
    "#UNDERSTANDING MY DATASET \n",
    "\n",
    "#head \n",
    "print(\"THE HEAD IS \")\n",
    "print(df.head())"
   ]
  },
  {
   "cell_type": "code",
   "execution_count": 181,
   "id": "28beada9-c141-4d53-9542-83a573798f09",
   "metadata": {},
   "outputs": [
    {
     "name": "stdout",
     "output_type": "stream",
     "text": [
      "     PassengerId  Survived  Pclass                                      Name  \\\n",
      "886          887         0       2                     Montvila, Rev. Juozas   \n",
      "887          888         1       1              Graham, Miss. Margaret Edith   \n",
      "888          889         0       3  Johnston, Miss. Catherine Helen \"Carrie\"   \n",
      "889          890         1       1                     Behr, Mr. Karl Howell   \n",
      "890          891         0       3                       Dooley, Mr. Patrick   \n",
      "\n",
      "        Sex   Age  Siblings or spouse  Parch      Ticket   Fare Cabin Embarked  \n",
      "886    male  27.0                   0      0      211536  13.00   NaN        S  \n",
      "887  female  19.0                   0      0      112053  30.00   B42        S  \n",
      "888  female   NaN                   1      2  W./C. 6607  23.45   NaN        S  \n",
      "889    male  26.0                   0      0      111369  30.00  C148        C  \n",
      "890    male  32.0                   0      0      370376   7.75   NaN        Q  \n"
     ]
    }
   ],
   "source": [
    "print(df.tail())"
   ]
  },
  {
   "cell_type": "code",
   "execution_count": 183,
   "id": "b94d1846-94a2-4b21-be80-5331b5b9e9ae",
   "metadata": {},
   "outputs": [
    {
     "name": "stdout",
     "output_type": "stream",
     "text": [
      "       PassengerId    Survived      Pclass         Age  Siblings or spouse  \\\n",
      "count   891.000000  891.000000  891.000000  714.000000          891.000000   \n",
      "mean    446.000000    0.383838    2.308642   29.699118            0.523008   \n",
      "std     257.353842    0.486592    0.836071   14.526497            1.102743   \n",
      "min       1.000000    0.000000    1.000000    0.420000            0.000000   \n",
      "25%     223.500000    0.000000    2.000000   20.125000            0.000000   \n",
      "50%     446.000000    0.000000    3.000000   28.000000            0.000000   \n",
      "75%     668.500000    1.000000    3.000000   38.000000            1.000000   \n",
      "max     891.000000    1.000000    3.000000   80.000000            8.000000   \n",
      "\n",
      "            Parch        Fare  \n",
      "count  891.000000  891.000000  \n",
      "mean     0.381594   32.204208  \n",
      "std      0.806057   49.693429  \n",
      "min      0.000000    0.000000  \n",
      "25%      0.000000    7.910400  \n",
      "50%      0.000000   14.454200  \n",
      "75%      0.000000   31.000000  \n",
      "max      6.000000  512.329200  \n"
     ]
    }
   ],
   "source": [
    "print(df.describe())"
   ]
  },
  {
   "cell_type": "code",
   "execution_count": 185,
   "id": "740e310d-6bf3-4bda-941d-4fd8eb5cc35e",
   "metadata": {},
   "outputs": [
    {
     "name": "stdout",
     "output_type": "stream",
     "text": [
      "<class 'pandas.core.frame.DataFrame'>\n",
      "RangeIndex: 891 entries, 0 to 890\n",
      "Data columns (total 12 columns):\n",
      " #   Column              Non-Null Count  Dtype  \n",
      "---  ------              --------------  -----  \n",
      " 0   PassengerId         891 non-null    int64  \n",
      " 1   Survived            891 non-null    int64  \n",
      " 2   Pclass              891 non-null    int64  \n",
      " 3   Name                891 non-null    object \n",
      " 4   Sex                 891 non-null    object \n",
      " 5   Age                 714 non-null    float64\n",
      " 6   Siblings or spouse  891 non-null    int64  \n",
      " 7   Parch               891 non-null    int64  \n",
      " 8   Ticket              891 non-null    object \n",
      " 9   Fare                891 non-null    float64\n",
      " 10  Cabin               204 non-null    object \n",
      " 11  Embarked            889 non-null    object \n",
      "dtypes: float64(2), int64(5), object(5)\n",
      "memory usage: 83.7+ KB\n",
      "None\n"
     ]
    }
   ],
   "source": [
    "print(df.info())"
   ]
  },
  {
   "cell_type": "code",
   "execution_count": 187,
   "id": "191523cd-9004-4dff-a1ab-2dca7231e353",
   "metadata": {},
   "outputs": [
    {
     "name": "stdout",
     "output_type": "stream",
     "text": [
      "Index(['PassengerId', 'Survived', 'Pclass', 'Name', 'Sex', 'Age',\n",
      "       'Siblings or spouse', 'Parch', 'Ticket', 'Fare', 'Cabin', 'Embarked'],\n",
      "      dtype='object')\n"
     ]
    }
   ],
   "source": [
    "print(df.columns)"
   ]
  },
  {
   "cell_type": "code",
   "execution_count": 189,
   "id": "dc33f589-bc52-4e63-a9b7-5e95a1115331",
   "metadata": {},
   "outputs": [
    {
     "data": {
      "text/plain": [
       "array([3, 1, 2], dtype=int64)"
      ]
     },
     "execution_count": 189,
     "metadata": {},
     "output_type": "execute_result"
    }
   ],
   "source": [
    "df[\"Pclass\"].unique()"
   ]
  },
  {
   "cell_type": "code",
   "execution_count": 191,
   "id": "c135e016-d1fc-4cb8-9e88-6c1ff70f673c",
   "metadata": {},
   "outputs": [
    {
     "data": {
      "text/plain": [
       "array(['S', 'C', 'Q', nan], dtype=object)"
      ]
     },
     "execution_count": 191,
     "metadata": {},
     "output_type": "execute_result"
    }
   ],
   "source": [
    "df[\"Embarked\"].unique()"
   ]
  },
  {
   "cell_type": "code",
   "execution_count": 212,
   "id": "a4a3e567-a09b-4305-8be4-f9c3447bda22",
   "metadata": {},
   "outputs": [],
   "source": [
    "# Calculate mode of 'Embarked'\n",
    "  # Access the mode value\n",
    "# Fill NaN values in 'Embarked' column with the mode value without inplace\n",
    "df[\"Embarked\"] = df[\"Embarked\"].fillna(df[\"Embarked\"].mode())"
   ]
  },
  {
   "cell_type": "code",
   "execution_count": 214,
   "id": "33f61aca-eb1d-4866-8505-8fbd68a5bb16",
   "metadata": {},
   "outputs": [
    {
     "data": {
      "text/plain": [
       "PassengerId             0\n",
       "Survived                0\n",
       "Pclass                  0\n",
       "Name                    0\n",
       "Sex                     0\n",
       "Age                   177\n",
       "Siblings or spouse      0\n",
       "Parch                   0\n",
       "Ticket                  0\n",
       "Fare                    0\n",
       "Cabin                 687\n",
       "Embarked              891\n",
       "dtype: int64"
      ]
     },
     "execution_count": 214,
     "metadata": {},
     "output_type": "execute_result"
    }
   ],
   "source": [
    "df.isnull().sum()"
   ]
  },
  {
   "cell_type": "code",
   "execution_count": null,
   "id": "2063798c-c3ae-4f1b-935c-d726a181d252",
   "metadata": {},
   "outputs": [],
   "source": []
  }
 ],
 "metadata": {
  "kernelspec": {
   "display_name": "Python 3 (ipykernel)",
   "language": "python",
   "name": "python3"
  },
  "language_info": {
   "codemirror_mode": {
    "name": "ipython",
    "version": 3
   },
   "file_extension": ".py",
   "mimetype": "text/x-python",
   "name": "python",
   "nbconvert_exporter": "python",
   "pygments_lexer": "ipython3",
   "version": "3.12.4"
  }
 },
 "nbformat": 4,
 "nbformat_minor": 5
}
