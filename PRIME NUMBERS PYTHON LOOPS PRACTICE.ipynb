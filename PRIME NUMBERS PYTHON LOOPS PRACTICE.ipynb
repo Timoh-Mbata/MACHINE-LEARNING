{
 "cells": [
  {
   "cell_type": "markdown",
   "id": "b36fe3ef-5b8e-4c7f-8db3-2a2d1dc29b5c",
   "metadata": {},
   "source": [
    "# PYTHON PRACTICE TO CHECK FOR PRIME NUMBRES "
   ]
  },
  {
   "cell_type": "code",
   "execution_count": 2,
   "id": "22335cb3-c040-4d76-b371-a45f86029c8e",
   "metadata": {},
   "outputs": [],
   "source": [
    "# A prime number is a natural number greater than 1 that has no positive divisors other than 1 and itself."
   ]
  },
  {
   "cell_type": "code",
   "execution_count": 3,
   "id": "03d58ab2-a743-48cf-a45e-bff2ecf3c7bf",
   "metadata": {},
   "outputs": [],
   "source": [
    "def get_prime(num):\n",
    "    # check if the number is greater than 1\n",
    "    if num < 1:\n",
    "        return False\n",
    "    for i in range(2,num):\n",
    "        if num%i==0:\n",
    "            return False\n",
    "    return True"
   ]
  },
  {
   "cell_type": "code",
   "execution_count": 4,
   "id": "a5e81375-0a70-4b19-bc8d-1e5d3c2fd861",
   "metadata": {},
   "outputs": [
    {
     "data": {
      "text/plain": [
       "True"
      ]
     },
     "execution_count": 4,
     "metadata": {},
     "output_type": "execute_result"
    }
   ],
   "source": [
    "get_prime(3)"
   ]
  },
  {
   "cell_type": "code",
   "execution_count": null,
   "id": "42479a57-57e8-4bb0-8273-03bcaa15f82e",
   "metadata": {},
   "outputs": [],
   "source": []
  },
  {
   "cell_type": "code",
   "execution_count": null,
   "id": "27599ad0-78c5-4826-b823-efe81f7949f9",
   "metadata": {},
   "outputs": [],
   "source": []
  }
 ],
 "metadata": {
  "kernelspec": {
   "display_name": "Python 3 (ipykernel)",
   "language": "python",
   "name": "python3"
  },
  "language_info": {
   "codemirror_mode": {
    "name": "ipython",
    "version": 3
   },
   "file_extension": ".py",
   "mimetype": "text/x-python",
   "name": "python",
   "nbconvert_exporter": "python",
   "pygments_lexer": "ipython3",
   "version": "3.12.4"
  }
 },
 "nbformat": 4,
 "nbformat_minor": 5
}
