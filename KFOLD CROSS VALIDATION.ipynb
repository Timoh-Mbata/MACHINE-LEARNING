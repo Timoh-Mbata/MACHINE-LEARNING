{
 "cells": [
  {
   "cell_type": "code",
   "execution_count": 1,
   "id": "96773e24-161f-48e6-9dd6-4edd8ba212dd",
   "metadata": {},
   "outputs": [
    {
     "data": {
      "text/plain": [
       "'\\nUse iris flower dataset from sklearn library and use cross_val_score against following models to measure the performance of each. \\nIn the end figure out the model with best performance,\\nLogistic Regression\\nSVM\\nDecision Tree\\nRandom Forest'"
      ]
     },
     "execution_count": 1,
     "metadata": {},
     "output_type": "execute_result"
    }
   ],
   "source": [
    "'''\n",
    "Use iris flower dataset from sklearn library and use cross_val_score against following models to measure the performance of each. \n",
    "In the end figure out the model with best performance,\n",
    "Logistic Regression\n",
    "SVM\n",
    "Decision Tree\n",
    "Random Forest'''"
   ]
  },
  {
   "cell_type": "code",
   "execution_count": 2,
   "id": "57215231-6361-4cba-99e8-8b26e73bc51b",
   "metadata": {},
   "outputs": [],
   "source": [
    "import pandas as pd \n",
    "import numpy as np\n",
    "%matplotlib inline\n",
    "import matplotlib.pyplot as plt"
   ]
  },
  {
   "cell_type": "code",
   "execution_count": 3,
   "id": "e37401a6-4a10-4e58-92c6-f4b924821133",
   "metadata": {},
   "outputs": [
    {
     "data": {
      "text/plain": [
       "['DESCR',\n",
       " 'data',\n",
       " 'data_module',\n",
       " 'feature_names',\n",
       " 'filename',\n",
       " 'frame',\n",
       " 'target',\n",
       " 'target_names']"
      ]
     },
     "execution_count": 3,
     "metadata": {},
     "output_type": "execute_result"
    }
   ],
   "source": [
    "from sklearn.datasets import load_iris\n",
    "df=load_iris()\n",
    "dir(df)"
   ]
  },
  {
   "cell_type": "code",
   "execution_count": 4,
   "id": "4d7a7414-d2c6-4f01-bc06-beaf6db1b5ae",
   "metadata": {},
   "outputs": [
    {
     "data": {
      "text/plain": [
       "['sepal length (cm)',\n",
       " 'sepal width (cm)',\n",
       " 'petal length (cm)',\n",
       " 'petal width (cm)']"
      ]
     },
     "execution_count": 4,
     "metadata": {},
     "output_type": "execute_result"
    }
   ],
   "source": [
    "df.feature_names"
   ]
  },
  {
   "cell_type": "code",
   "execution_count": 5,
   "id": "aa23316d-c6cf-43ac-bb6e-58a456c71c30",
   "metadata": {},
   "outputs": [],
   "source": [
    "# data=pd.DataFrame(df.data, columns=df.feature_names)\n",
    "# data.head()"
   ]
  },
  {
   "cell_type": "code",
   "execution_count": 6,
   "id": "4014cfd0-324e-4565-88df-13959d7ff3f6",
   "metadata": {},
   "outputs": [],
   "source": [
    "# data['target']=df.target\n"
   ]
  },
  {
   "cell_type": "code",
   "execution_count": 7,
   "id": "4ab7da0e-35f3-4bf8-b776-6cd1f38351c2",
   "metadata": {},
   "outputs": [],
   "source": [
    "# data.head()"
   ]
  },
  {
   "cell_type": "code",
   "execution_count": 8,
   "id": "c0f97eb2-024d-44b4-a35d-6b11336798b4",
   "metadata": {},
   "outputs": [],
   "source": [
    "\n",
    "x=df.data\n",
    "y=df.target"
   ]
  },
  {
   "cell_type": "code",
   "execution_count": 9,
   "id": "c9a20a3b-6112-474f-ba24-110498a6c1d6",
   "metadata": {},
   "outputs": [],
   "source": [
    "from sklearn.model_selection import train_test_split\n",
    "X_train, X_test, y_train, y_test=train_test_split(x,y,test_size=0.2)"
   ]
  },
  {
   "cell_type": "code",
   "execution_count": 10,
   "id": "bb38de1e-94e5-487a-8606-39f9c21d9850",
   "metadata": {},
   "outputs": [
    {
     "data": {
      "text/plain": [
       "120"
      ]
     },
     "execution_count": 10,
     "metadata": {},
     "output_type": "execute_result"
    }
   ],
   "source": [
    "len(X_train)"
   ]
  },
  {
   "cell_type": "code",
   "execution_count": 11,
   "id": "f02be2dc-745d-4210-87b6-e9c984302b7d",
   "metadata": {},
   "outputs": [],
   "source": [
    "from sklearn.linear_model import LogisticRegression\n",
    "from sklearn.svm import SVC\n",
    "from sklearn.tree import DecisionTreeClassifier\n",
    "from sklearn.ensemble import RandomForestClassifier\n",
    "from sklearn.model_selection import StratifiedKFold"
   ]
  },
  {
   "cell_type": "code",
   "execution_count": 34,
   "id": "2edc1aca-549b-4ae6-95bd-b0937b02aa77",
   "metadata": {},
   "outputs": [
    {
     "data": {
      "text/plain": [
       "StratifiedKFold(n_splits=5, random_state=None, shuffle=False)"
      ]
     },
     "execution_count": 34,
     "metadata": {},
     "output_type": "execute_result"
    }
   ],
   "source": [
    "from sklearn.model_selection import cross_val_score\n",
    "folds=StratifiedKFold(n_splits=5)\n",
    "folds"
   ]
  },
  {
   "cell_type": "code",
   "execution_count": 36,
   "id": "17d8356c-a8d3-4318-8e16-67f91e5287f2",
   "metadata": {},
   "outputs": [
    {
     "data": {
      "text/plain": [
       "0.975"
      ]
     },
     "execution_count": 36,
     "metadata": {},
     "output_type": "execute_result"
    }
   ],
   "source": [
    "lr=cross_val_score(LogisticRegression(),X_train,y_train)\n",
    "np.average(lr)"
   ]
  },
  {
   "cell_type": "code",
   "execution_count": 38,
   "id": "527c7d85-f443-447b-af19-7423a138ae1d",
   "metadata": {},
   "outputs": [
    {
     "data": {
      "text/plain": [
       "0.975"
      ]
     },
     "execution_count": 38,
     "metadata": {},
     "output_type": "execute_result"
    }
   ],
   "source": [
    "sv=cross_val_score(SVC(),X_train,y_train)\n",
    "np.average(sv)"
   ]
  },
  {
   "cell_type": "code",
   "execution_count": 40,
   "id": "750b8ca1-bd36-48dc-957d-1e3e656453ad",
   "metadata": {},
   "outputs": [
    {
     "data": {
      "text/plain": [
       "0.975"
      ]
     },
     "execution_count": 40,
     "metadata": {},
     "output_type": "execute_result"
    }
   ],
   "source": [
    "dt=cross_val_score(DecisionTreeClassifier(),X_train,y_train)\n",
    "np.average(dt)"
   ]
  },
  {
   "cell_type": "code",
   "execution_count": 42,
   "id": "cec5579e-dc7a-461b-8cdc-fb292f7c528c",
   "metadata": {},
   "outputs": [
    {
     "data": {
      "text/plain": [
       "0.975"
      ]
     },
     "execution_count": 42,
     "metadata": {},
     "output_type": "execute_result"
    }
   ],
   "source": [
    "rf=cross_val_score(RandomForestClassifier(),X_train,y_train)\n",
    "np.average(rf)"
   ]
  },
  {
   "cell_type": "code",
   "execution_count": null,
   "id": "516b4506-2f75-4d59-940a-c76c6caf9061",
   "metadata": {},
   "outputs": [],
   "source": []
  }
 ],
 "metadata": {
  "kernelspec": {
   "display_name": "Python 3 (ipykernel)",
   "language": "python",
   "name": "python3"
  },
  "language_info": {
   "codemirror_mode": {
    "name": "ipython",
    "version": 3
   },
   "file_extension": ".py",
   "mimetype": "text/x-python",
   "name": "python",
   "nbconvert_exporter": "python",
   "pygments_lexer": "ipython3",
   "version": "3.12.4"
  }
 },
 "nbformat": 4,
 "nbformat_minor": 5
}
