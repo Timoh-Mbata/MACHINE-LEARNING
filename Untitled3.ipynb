{
 "cells": [
  {
   "cell_type": "code",
   "execution_count": 1,
   "id": "ebd84bcf-8c1b-44ca-a321-c8ff3a4cf1bd",
   "metadata": {},
   "outputs": [
    {
     "name": "stdin",
     "output_type": "stream",
     "text": [
      "Enter The number 40\n"
     ]
    },
    {
     "name": "stdout",
     "output_type": "stream",
     "text": [
      "The factors of 40 are: [1, 2, 4, 5, 8, 10, 20, 40]\n"
     ]
    }
   ],
   "source": [
    "def factors(n):\n",
    "    result = []\n",
    "    for i in range(1, n + 1):\n",
    "        if n % i == 0:\n",
    "            result.append(i)\n",
    "    return result\n",
    "# Example usage\n",
    "number = int(input('Enter The number'))\n",
    "print(f\"The factors of {number} are: {factors(number)}\")"
   ]
  },
  {
   "cell_type": "code",
   "execution_count": null,
   "id": "10d2bd7c-143e-4b2d-a9dd-1e11e4955dcc",
   "metadata": {},
   "outputs": [],
   "source": []
  }
 ],
 "metadata": {
  "kernelspec": {
   "display_name": "Python 3 (ipykernel)",
   "language": "python",
   "name": "python3"
  },
  "language_info": {
   "codemirror_mode": {
    "name": "ipython",
    "version": 3
   },
   "file_extension": ".py",
   "mimetype": "text/x-python",
   "name": "python",
   "nbconvert_exporter": "python",
   "pygments_lexer": "ipython3",
   "version": "3.12.4"
  }
 },
 "nbformat": 4,
 "nbformat_minor": 5
}
