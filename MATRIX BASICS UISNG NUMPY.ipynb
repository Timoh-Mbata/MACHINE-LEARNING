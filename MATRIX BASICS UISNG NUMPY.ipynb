{
 "cells": [
  {
   "cell_type": "code",
   "execution_count": 2,
   "id": "455f9af0-7dea-43f7-81b5-17dcc5e7fd1d",
   "metadata": {},
   "outputs": [],
   "source": [
    "import numpy as np"
   ]
  },
  {
   "cell_type": "raw",
   "id": "e253625a-d038-43ea-8838-db42e265e011",
   "metadata": {},
   "source": [
    "Below is some indian companies revenues in US dollars. Using numpy can you convert this into Indian rupees? 1 USD = 75 INR"
   ]
  },
  {
   "cell_type": "code",
   "execution_count": 14,
   "id": "9a880391-746a-4a5b-aca0-f9c5000ea4e7",
   "metadata": {},
   "outputs": [
    {
     "data": {
      "text/plain": [
       "array([[200, 220, 250],\n",
       "       [ 68,  79, 105],\n",
       "       [110, 140, 180],\n",
       "       [ 80,  85,  90]])"
      ]
     },
     "execution_count": 14,
     "metadata": {},
     "output_type": "execute_result"
    }
   ],
   "source": [
    "Financial_year=np.array(['2018','2019','2020'])\n",
    "industries_dollar=np.array([[200,220,250],[68,79,105],[110,140,180],[80,85,90]])\n",
    "industries_dollar"
   ]
  },
  {
   "cell_type": "code",
   "execution_count": 18,
   "id": "e84c5e21-9320-4689-afad-b8a2e416b574",
   "metadata": {},
   "outputs": [
    {
     "data": {
      "text/plain": [
       "array([[15000, 16500, 18750],\n",
       "       [ 5100,  5925,  7875],\n",
       "       [ 8250, 10500, 13500],\n",
       "       [ 6000,  6375,  6750]])"
      ]
     },
     "execution_count": 18,
     "metadata": {},
     "output_type": "execute_result"
    }
   ],
   "source": [
    "industries_rupies=industries_dollar*75\n",
    "industries_rupies"
   ]
  },
  {
   "cell_type": "code",
   "execution_count": 82,
   "id": "eb1cbb9f-83f7-45bd-bf0f-793888c37f22",
   "metadata": {},
   "outputs": [],
   "source": [
    "total_revenue=np.sum(industries_rupies,axis=0)"
   ]
  },
  {
   "cell_type": "code",
   "execution_count": 88,
   "id": "dda29dbc-3f0a-4893-b3fd-e5d8641e8ee9",
   "metadata": {},
   "outputs": [
    {
     "data": {
      "text/plain": [
       "array([34350, 39300, 46875])"
      ]
     },
     "execution_count": 88,
     "metadata": {},
     "output_type": "execute_result"
    }
   ],
   "source": [
    "total_revenue"
   ]
  },
  {
   "cell_type": "code",
   "execution_count": 36,
   "id": "d5101ece-530c-4aec-a4a7-7f01776ee04f",
   "metadata": {},
   "outputs": [],
   "source": [
    "import pandas as pd"
   ]
  },
  {
   "cell_type": "code",
   "execution_count": 48,
   "id": "d5e317cc-a339-49ec-b7e7-f6184541adaf",
   "metadata": {},
   "outputs": [],
   "source": [
    "industry_names=['RI','info','TCS','wipro']"
   ]
  },
  {
   "cell_type": "code",
   "execution_count": 62,
   "id": "186058ac-a274-4a1b-a562-36421823e01a",
   "metadata": {},
   "outputs": [
    {
     "data": {
      "text/html": [
       "<div>\n",
       "<style scoped>\n",
       "    .dataframe tbody tr th:only-of-type {\n",
       "        vertical-align: middle;\n",
       "    }\n",
       "\n",
       "    .dataframe tbody tr th {\n",
       "        vertical-align: top;\n",
       "    }\n",
       "\n",
       "    .dataframe thead th {\n",
       "        text-align: right;\n",
       "    }\n",
       "</style>\n",
       "<table border=\"1\" class=\"dataframe\">\n",
       "  <thead>\n",
       "    <tr style=\"text-align: right;\">\n",
       "      <th></th>\n",
       "      <th>2018</th>\n",
       "      <th>2019</th>\n",
       "      <th>2020</th>\n",
       "    </tr>\n",
       "  </thead>\n",
       "  <tbody>\n",
       "    <tr>\n",
       "      <th>RI</th>\n",
       "      <td>15000</td>\n",
       "      <td>16500</td>\n",
       "      <td>18750</td>\n",
       "    </tr>\n",
       "    <tr>\n",
       "      <th>info</th>\n",
       "      <td>5100</td>\n",
       "      <td>5925</td>\n",
       "      <td>7875</td>\n",
       "    </tr>\n",
       "    <tr>\n",
       "      <th>TCS</th>\n",
       "      <td>8250</td>\n",
       "      <td>10500</td>\n",
       "      <td>13500</td>\n",
       "    </tr>\n",
       "    <tr>\n",
       "      <th>wipro</th>\n",
       "      <td>6000</td>\n",
       "      <td>6375</td>\n",
       "      <td>6750</td>\n",
       "    </tr>\n",
       "  </tbody>\n",
       "</table>\n",
       "</div>"
      ],
      "text/plain": [
       "        2018   2019   2020\n",
       "RI     15000  16500  18750\n",
       "info    5100   5925   7875\n",
       "TCS     8250  10500  13500\n",
       "wipro   6000   6375   6750"
      ]
     },
     "execution_count": 62,
     "metadata": {},
     "output_type": "execute_result"
    }
   ],
   "source": [
    "table=pd.DataFrame(industries_rupies,index=industry_names,columns=Financial_year)\n",
    "table"
   ]
  },
  {
   "cell_type": "code",
   "execution_count": 116,
   "id": "7244a45e-0373-422d-94d4-4a1965a1d93b",
   "metadata": {},
   "outputs": [],
   "source": [
    "table.loc[\"TOTAL\"] = total_revenue"
   ]
  },
  {
   "cell_type": "code",
   "execution_count": 118,
   "id": "0fbb0e5d-8c9c-48a7-b0ff-005ef7d9626d",
   "metadata": {},
   "outputs": [
    {
     "data": {
      "text/html": [
       "<div>\n",
       "<style scoped>\n",
       "    .dataframe tbody tr th:only-of-type {\n",
       "        vertical-align: middle;\n",
       "    }\n",
       "\n",
       "    .dataframe tbody tr th {\n",
       "        vertical-align: top;\n",
       "    }\n",
       "\n",
       "    .dataframe thead th {\n",
       "        text-align: right;\n",
       "    }\n",
       "</style>\n",
       "<table border=\"1\" class=\"dataframe\">\n",
       "  <thead>\n",
       "    <tr style=\"text-align: right;\">\n",
       "      <th></th>\n",
       "      <th>2018</th>\n",
       "      <th>2019</th>\n",
       "      <th>2020</th>\n",
       "    </tr>\n",
       "  </thead>\n",
       "  <tbody>\n",
       "    <tr>\n",
       "      <th>RI</th>\n",
       "      <td>15000</td>\n",
       "      <td>16500</td>\n",
       "      <td>18750</td>\n",
       "    </tr>\n",
       "    <tr>\n",
       "      <th>info</th>\n",
       "      <td>5100</td>\n",
       "      <td>5925</td>\n",
       "      <td>7875</td>\n",
       "    </tr>\n",
       "    <tr>\n",
       "      <th>TCS</th>\n",
       "      <td>8250</td>\n",
       "      <td>10500</td>\n",
       "      <td>13500</td>\n",
       "    </tr>\n",
       "    <tr>\n",
       "      <th>wipro</th>\n",
       "      <td>6000</td>\n",
       "      <td>6375</td>\n",
       "      <td>6750</td>\n",
       "    </tr>\n",
       "    <tr>\n",
       "      <th>TOTAL</th>\n",
       "      <td>34350</td>\n",
       "      <td>39300</td>\n",
       "      <td>46875</td>\n",
       "    </tr>\n",
       "  </tbody>\n",
       "</table>\n",
       "</div>"
      ],
      "text/plain": [
       "        2018   2019   2020\n",
       "RI     15000  16500  18750\n",
       "info    5100   5925   7875\n",
       "TCS     8250  10500  13500\n",
       "wipro   6000   6375   6750\n",
       "TOTAL  34350  39300  46875"
      ]
     },
     "execution_count": 118,
     "metadata": {},
     "output_type": "execute_result"
    }
   ],
   "source": [
    "table"
   ]
  },
  {
   "cell_type": "raw",
   "id": "2f9c761c-0c80-43cb-bbdd-50cc927a197c",
   "metadata": {},
   "source": [
    "Divine flowers is a flower shop that sells different type of flowers.\n",
    "Below is the table showing how many flowers of each type they sold in different months. \n",
    "Also given are the prices of one flower each. Using this find out their total sales in every month."
   ]
  },
  {
   "cell_type": "code",
   "execution_count": 128,
   "id": "85473651-d017-4d90-b3bf-a4efc2462a5a",
   "metadata": {},
   "outputs": [],
   "source": [
    "# unit_sold\n",
    "months=['jan','feb','march']\n",
    "flowers=['Rose','Lotus','Sunflower']\n",
    "price=np.array([[50,60,25],[10,13,5],[40,70,52]])"
   ]
  },
  {
   "cell_type": "code",
   "execution_count": 130,
   "id": "fd19b9d1-a4d2-4a29-90ca-9f5e7908f6bd",
   "metadata": {},
   "outputs": [
    {
     "data": {
      "text/html": [
       "<div>\n",
       "<style scoped>\n",
       "    .dataframe tbody tr th:only-of-type {\n",
       "        vertical-align: middle;\n",
       "    }\n",
       "\n",
       "    .dataframe tbody tr th {\n",
       "        vertical-align: top;\n",
       "    }\n",
       "\n",
       "    .dataframe thead th {\n",
       "        text-align: right;\n",
       "    }\n",
       "</style>\n",
       "<table border=\"1\" class=\"dataframe\">\n",
       "  <thead>\n",
       "    <tr style=\"text-align: right;\">\n",
       "      <th></th>\n",
       "      <th>jan</th>\n",
       "      <th>feb</th>\n",
       "      <th>march</th>\n",
       "    </tr>\n",
       "  </thead>\n",
       "  <tbody>\n",
       "    <tr>\n",
       "      <th>Rose</th>\n",
       "      <td>50</td>\n",
       "      <td>60</td>\n",
       "      <td>25</td>\n",
       "    </tr>\n",
       "    <tr>\n",
       "      <th>Lotus</th>\n",
       "      <td>10</td>\n",
       "      <td>13</td>\n",
       "      <td>5</td>\n",
       "    </tr>\n",
       "    <tr>\n",
       "      <th>Sunflower</th>\n",
       "      <td>40</td>\n",
       "      <td>70</td>\n",
       "      <td>52</td>\n",
       "    </tr>\n",
       "  </tbody>\n",
       "</table>\n",
       "</div>"
      ],
      "text/plain": [
       "           jan  feb  march\n",
       "Rose        50   60     25\n",
       "Lotus       10   13      5\n",
       "Sunflower   40   70     52"
      ]
     },
     "execution_count": 130,
     "metadata": {},
     "output_type": "execute_result"
    }
   ],
   "source": [
    "unit_sold=pd.DataFrame(price,index=flowers,columns=months)\n",
    "unit_sold"
   ]
  },
  {
   "cell_type": "code",
   "execution_count": 126,
   "id": "d3c82399-3494-4f1f-8bdc-2d7552b1e669",
   "metadata": {},
   "outputs": [
    {
     "data": {
      "text/html": [
       "<div>\n",
       "<style scoped>\n",
       "    .dataframe tbody tr th:only-of-type {\n",
       "        vertical-align: middle;\n",
       "    }\n",
       "\n",
       "    .dataframe tbody tr th {\n",
       "        vertical-align: top;\n",
       "    }\n",
       "\n",
       "    .dataframe thead th {\n",
       "        text-align: right;\n",
       "    }\n",
       "</style>\n",
       "<table border=\"1\" class=\"dataframe\">\n",
       "  <thead>\n",
       "    <tr style=\"text-align: right;\">\n",
       "      <th></th>\n",
       "      <th>0</th>\n",
       "    </tr>\n",
       "  </thead>\n",
       "  <tbody>\n",
       "    <tr>\n",
       "      <th>Rose</th>\n",
       "      <td>20</td>\n",
       "    </tr>\n",
       "    <tr>\n",
       "      <th>Lotus</th>\n",
       "      <td>30</td>\n",
       "    </tr>\n",
       "    <tr>\n",
       "      <th>Sunflower</th>\n",
       "      <td>25</td>\n",
       "    </tr>\n",
       "  </tbody>\n",
       "</table>\n",
       "</div>"
      ],
      "text/plain": [
       "            0\n",
       "Rose       20\n",
       "Lotus      30\n",
       "Sunflower  25"
      ]
     },
     "execution_count": 126,
     "metadata": {},
     "output_type": "execute_result"
    }
   ],
   "source": [
    "# price per unit \n",
    "flowers=['Rose','Lotus','Sunflower']\n",
    "prices=np.array([20,30,25])\n",
    "price_per_unit_table=pd.DataFrame(prices,index=flowers)\n",
    "price_per_unit_table"
   ]
  },
  {
   "cell_type": "code",
   "execution_count": 134,
   "id": "1edb9ba8-d168-4066-a146-f0583e765df8",
   "metadata": {},
   "outputs": [
    {
     "data": {
      "text/plain": [
       "array([[1000, 1800,  625],\n",
       "       [ 200,  390,  125],\n",
       "       [ 800, 2100, 1300]])"
      ]
     },
     "execution_count": 134,
     "metadata": {},
     "output_type": "execute_result"
    }
   ],
   "source": [
    "#  totals per month\n",
    "Total= price*prices\n",
    "Total"
   ]
  },
  {
   "cell_type": "code",
   "execution_count": 138,
   "id": "3345d428-1955-4428-869a-f66a66aafc4f",
   "metadata": {},
   "outputs": [
    {
     "data": {
      "text/plain": [
       "array([2000, 4290, 2050])"
      ]
     },
     "execution_count": 138,
     "metadata": {},
     "output_type": "execute_result"
    }
   ],
   "source": [
    "Totals=np.sum(Total,axis=0)\n",
    "Totals"
   ]
  },
  {
   "cell_type": "code",
   "execution_count": 142,
   "id": "807b4e01-be41-4cb1-b650-3224301f5fe4",
   "metadata": {},
   "outputs": [
    {
     "data": {
      "text/html": [
       "<div>\n",
       "<style scoped>\n",
       "    .dataframe tbody tr th:only-of-type {\n",
       "        vertical-align: middle;\n",
       "    }\n",
       "\n",
       "    .dataframe tbody tr th {\n",
       "        vertical-align: top;\n",
       "    }\n",
       "\n",
       "    .dataframe thead th {\n",
       "        text-align: right;\n",
       "    }\n",
       "</style>\n",
       "<table border=\"1\" class=\"dataframe\">\n",
       "  <thead>\n",
       "    <tr style=\"text-align: right;\">\n",
       "      <th></th>\n",
       "      <th>jan</th>\n",
       "      <th>feb</th>\n",
       "      <th>march</th>\n",
       "    </tr>\n",
       "  </thead>\n",
       "  <tbody>\n",
       "    <tr>\n",
       "      <th>Rose</th>\n",
       "      <td>50</td>\n",
       "      <td>60</td>\n",
       "      <td>25</td>\n",
       "    </tr>\n",
       "    <tr>\n",
       "      <th>Lotus</th>\n",
       "      <td>10</td>\n",
       "      <td>13</td>\n",
       "      <td>5</td>\n",
       "    </tr>\n",
       "    <tr>\n",
       "      <th>Sunflower</th>\n",
       "      <td>40</td>\n",
       "      <td>70</td>\n",
       "      <td>52</td>\n",
       "    </tr>\n",
       "    <tr>\n",
       "      <th>Totals</th>\n",
       "      <td>2000</td>\n",
       "      <td>4290</td>\n",
       "      <td>2050</td>\n",
       "    </tr>\n",
       "  </tbody>\n",
       "</table>\n",
       "</div>"
      ],
      "text/plain": [
       "            jan   feb  march\n",
       "Rose         50    60     25\n",
       "Lotus        10    13      5\n",
       "Sunflower    40    70     52\n",
       "Totals     2000  4290   2050"
      ]
     },
     "execution_count": 142,
     "metadata": {},
     "output_type": "execute_result"
    }
   ],
   "source": [
    "unit_sold.loc[\"Totals\"]=Totals\n",
    "unit_sold"
   ]
  },
  {
   "cell_type": "code",
   "execution_count": null,
   "id": "b76736b7-3b06-4cd3-9179-aa180cf6de39",
   "metadata": {},
   "outputs": [],
   "source": []
  }
 ],
 "metadata": {
  "kernelspec": {
   "display_name": "Python 3 (ipykernel)",
   "language": "python",
   "name": "python3"
  },
  "language_info": {
   "codemirror_mode": {
    "name": "ipython",
    "version": 3
   },
   "file_extension": ".py",
   "mimetype": "text/x-python",
   "name": "python",
   "nbconvert_exporter": "python",
   "pygments_lexer": "ipython3",
   "version": "3.12.4"
  }
 },
 "nbformat": 4,
 "nbformat_minor": 5
}
