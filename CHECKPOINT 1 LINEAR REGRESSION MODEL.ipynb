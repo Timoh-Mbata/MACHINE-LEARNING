{
 "cells": [
  {
   "cell_type": "markdown",
   "id": "d7c97a89-0470-4b14-943a-9320f29b7992",
   "metadata": {
    "jp-MarkdownHeadingCollapsed": true
   },
   "source": [
    "# CHECKPOINT"
   ]
  },
  {
   "cell_type": "code",
   "execution_count": 2,
   "id": "81cb3da0-e9bd-4763-836a-870e5dbd0b2e",
   "metadata": {},
   "outputs": [],
   "source": [
    "import pandas as pd\n",
    "import numpy as np \n",
    "import matplotlib.pyplot as plt \n",
    "%matplotlib inline"
   ]
  },
  {
   "cell_type": "code",
   "execution_count": 3,
   "id": "4a69a726-379c-4d5d-9250-49e2abf009ed",
   "metadata": {},
   "outputs": [],
   "source": [
    "# Thus, the objective is to build and train a ML model to estimate the energy consumed \n",
    "# by different 5G base stations taking into consideration the impact of various engineering configurations, \n",
    "# traffic conditions, and energy-saving methods."
   ]
  },
  {
   "cell_type": "markdown",
   "id": "273a1c5c-95d1-461f-a376-664a251431c8",
   "metadata": {},
   "source": [
    "#UNDERSTANDING MY DATASET."
   ]
  },
  {
   "cell_type": "markdown",
   "id": "9065952e-9337-495b-8915-589b5365dd4d",
   "metadata": {},
   "source": [
    "UNDERSTANDING THE DATASET"
   ]
  },
  {
   "cell_type": "code",
   "execution_count": 5,
   "id": "f5a8e6cb-db2b-4966-b244-5d9b09306811",
   "metadata": {},
   "outputs": [
    {
     "data": {
      "text/html": [
       "<div>\n",
       "<style scoped>\n",
       "    .dataframe tbody tr th:only-of-type {\n",
       "        vertical-align: middle;\n",
       "    }\n",
       "\n",
       "    .dataframe tbody tr th {\n",
       "        vertical-align: top;\n",
       "    }\n",
       "\n",
       "    .dataframe thead th {\n",
       "        text-align: right;\n",
       "    }\n",
       "</style>\n",
       "<table border=\"1\" class=\"dataframe\">\n",
       "  <thead>\n",
       "    <tr style=\"text-align: right;\">\n",
       "      <th></th>\n",
       "      <th>Time</th>\n",
       "      <th>BS</th>\n",
       "      <th>Energy</th>\n",
       "      <th>load</th>\n",
       "      <th>ESMODE</th>\n",
       "      <th>TXpower</th>\n",
       "    </tr>\n",
       "  </thead>\n",
       "  <tbody>\n",
       "    <tr>\n",
       "      <th>0</th>\n",
       "      <td>20230101 010000</td>\n",
       "      <td>B_0</td>\n",
       "      <td>64.275037</td>\n",
       "      <td>0.487936</td>\n",
       "      <td>0.0</td>\n",
       "      <td>7.101719</td>\n",
       "    </tr>\n",
       "    <tr>\n",
       "      <th>1</th>\n",
       "      <td>20230101 020000</td>\n",
       "      <td>B_0</td>\n",
       "      <td>55.904335</td>\n",
       "      <td>0.344468</td>\n",
       "      <td>0.0</td>\n",
       "      <td>7.101719</td>\n",
       "    </tr>\n",
       "    <tr>\n",
       "      <th>2</th>\n",
       "      <td>20230101 030000</td>\n",
       "      <td>B_0</td>\n",
       "      <td>57.698057</td>\n",
       "      <td>0.193766</td>\n",
       "      <td>0.0</td>\n",
       "      <td>7.101719</td>\n",
       "    </tr>\n",
       "  </tbody>\n",
       "</table>\n",
       "</div>"
      ],
      "text/plain": [
       "              Time   BS     Energy      load  ESMODE   TXpower\n",
       "0  20230101 010000  B_0  64.275037  0.487936     0.0  7.101719\n",
       "1  20230101 020000  B_0  55.904335  0.344468     0.0  7.101719\n",
       "2  20230101 030000  B_0  57.698057  0.193766     0.0  7.101719"
      ]
     },
     "execution_count": 5,
     "metadata": {},
     "output_type": "execute_result"
    }
   ],
   "source": [
    "data=pd.read_csv(\"5G_energy_consumption_dataset.csv\")\n",
    "data.head(3)"
   ]
  },
  {
   "cell_type": "code",
   "execution_count": 6,
   "id": "0c4bbcbf-5ff1-4aa1-948f-75bfb5b99d09",
   "metadata": {},
   "outputs": [
    {
     "data": {
      "text/html": [
       "<div>\n",
       "<style scoped>\n",
       "    .dataframe tbody tr th:only-of-type {\n",
       "        vertical-align: middle;\n",
       "    }\n",
       "\n",
       "    .dataframe tbody tr th {\n",
       "        vertical-align: top;\n",
       "    }\n",
       "\n",
       "    .dataframe thead th {\n",
       "        text-align: right;\n",
       "    }\n",
       "</style>\n",
       "<table border=\"1\" class=\"dataframe\">\n",
       "  <thead>\n",
       "    <tr style=\"text-align: right;\">\n",
       "      <th></th>\n",
       "      <th>Time</th>\n",
       "      <th>BS</th>\n",
       "      <th>Energy</th>\n",
       "      <th>load</th>\n",
       "      <th>ESMODE</th>\n",
       "      <th>TXpower</th>\n",
       "    </tr>\n",
       "  </thead>\n",
       "  <tbody>\n",
       "    <tr>\n",
       "      <th>92625</th>\n",
       "      <td>20230102 180000</td>\n",
       "      <td>B_1018</td>\n",
       "      <td>14.648729</td>\n",
       "      <td>0.082635</td>\n",
       "      <td>0.0</td>\n",
       "      <td>7.325859</td>\n",
       "    </tr>\n",
       "    <tr>\n",
       "      <th>92626</th>\n",
       "      <td>20230102 210000</td>\n",
       "      <td>B_1018</td>\n",
       "      <td>13.452915</td>\n",
       "      <td>0.055538</td>\n",
       "      <td>0.0</td>\n",
       "      <td>7.325859</td>\n",
       "    </tr>\n",
       "    <tr>\n",
       "      <th>92627</th>\n",
       "      <td>20230102 220000</td>\n",
       "      <td>B_1018</td>\n",
       "      <td>13.602392</td>\n",
       "      <td>0.058077</td>\n",
       "      <td>0.0</td>\n",
       "      <td>7.325859</td>\n",
       "    </tr>\n",
       "    <tr>\n",
       "      <th>92628</th>\n",
       "      <td>20230102 230000</td>\n",
       "      <td>B_1018</td>\n",
       "      <td>13.303438</td>\n",
       "      <td>0.048173</td>\n",
       "      <td>0.0</td>\n",
       "      <td>7.325859</td>\n",
       "    </tr>\n",
       "  </tbody>\n",
       "</table>\n",
       "</div>"
      ],
      "text/plain": [
       "                  Time      BS     Energy      load  ESMODE   TXpower\n",
       "92625  20230102 180000  B_1018  14.648729  0.082635     0.0  7.325859\n",
       "92626  20230102 210000  B_1018  13.452915  0.055538     0.0  7.325859\n",
       "92627  20230102 220000  B_1018  13.602392  0.058077     0.0  7.325859\n",
       "92628  20230102 230000  B_1018  13.303438  0.048173     0.0  7.325859"
      ]
     },
     "execution_count": 6,
     "metadata": {},
     "output_type": "execute_result"
    }
   ],
   "source": [
    "data.tail(4)"
   ]
  },
  {
   "cell_type": "code",
   "execution_count": 7,
   "id": "a2c2ea89-f249-4c26-a06d-6a7ae774f53d",
   "metadata": {},
   "outputs": [
    {
     "name": "stdout",
     "output_type": "stream",
     "text": [
      "<class 'pandas.core.frame.DataFrame'>\n",
      "RangeIndex: 92629 entries, 0 to 92628\n",
      "Data columns (total 6 columns):\n",
      " #   Column   Non-Null Count  Dtype  \n",
      "---  ------   --------------  -----  \n",
      " 0   Time     92629 non-null  object \n",
      " 1   BS       92629 non-null  object \n",
      " 2   Energy   92629 non-null  float64\n",
      " 3   load     92629 non-null  float64\n",
      " 4   ESMODE   92629 non-null  float64\n",
      " 5   TXpower  92629 non-null  float64\n",
      "dtypes: float64(4), object(2)\n",
      "memory usage: 4.2+ MB\n"
     ]
    }
   ],
   "source": [
    "data.info()"
   ]
  },
  {
   "cell_type": "code",
   "execution_count": 8,
   "id": "b71490cd-d87c-47e8-a45c-b4b2935e2165",
   "metadata": {},
   "outputs": [
    {
     "data": {
      "text/html": [
       "<div>\n",
       "<style scoped>\n",
       "    .dataframe tbody tr th:only-of-type {\n",
       "        vertical-align: middle;\n",
       "    }\n",
       "\n",
       "    .dataframe tbody tr th {\n",
       "        vertical-align: top;\n",
       "    }\n",
       "\n",
       "    .dataframe thead th {\n",
       "        text-align: right;\n",
       "    }\n",
       "</style>\n",
       "<table border=\"1\" class=\"dataframe\">\n",
       "  <thead>\n",
       "    <tr style=\"text-align: right;\">\n",
       "      <th></th>\n",
       "      <th>Energy</th>\n",
       "      <th>load</th>\n",
       "      <th>ESMODE</th>\n",
       "      <th>TXpower</th>\n",
       "    </tr>\n",
       "  </thead>\n",
       "  <tbody>\n",
       "    <tr>\n",
       "      <th>count</th>\n",
       "      <td>92629.000000</td>\n",
       "      <td>92629.000000</td>\n",
       "      <td>92629.000000</td>\n",
       "      <td>92629.000000</td>\n",
       "    </tr>\n",
       "    <tr>\n",
       "      <th>mean</th>\n",
       "      <td>28.138997</td>\n",
       "      <td>0.244705</td>\n",
       "      <td>0.081361</td>\n",
       "      <td>6.765427</td>\n",
       "    </tr>\n",
       "    <tr>\n",
       "      <th>std</th>\n",
       "      <td>13.934645</td>\n",
       "      <td>0.234677</td>\n",
       "      <td>0.382317</td>\n",
       "      <td>0.309929</td>\n",
       "    </tr>\n",
       "    <tr>\n",
       "      <th>min</th>\n",
       "      <td>0.747384</td>\n",
       "      <td>0.000000</td>\n",
       "      <td>0.000000</td>\n",
       "      <td>5.381166</td>\n",
       "    </tr>\n",
       "    <tr>\n",
       "      <th>25%</th>\n",
       "      <td>18.236173</td>\n",
       "      <td>0.057370</td>\n",
       "      <td>0.000000</td>\n",
       "      <td>6.427504</td>\n",
       "    </tr>\n",
       "    <tr>\n",
       "      <th>50%</th>\n",
       "      <td>24.065770</td>\n",
       "      <td>0.165550</td>\n",
       "      <td>0.000000</td>\n",
       "      <td>6.875934</td>\n",
       "    </tr>\n",
       "    <tr>\n",
       "      <th>75%</th>\n",
       "      <td>35.724963</td>\n",
       "      <td>0.363766</td>\n",
       "      <td>0.000000</td>\n",
       "      <td>6.875934</td>\n",
       "    </tr>\n",
       "    <tr>\n",
       "      <th>max</th>\n",
       "      <td>100.000000</td>\n",
       "      <td>0.993957</td>\n",
       "      <td>4.000000</td>\n",
       "      <td>8.375336</td>\n",
       "    </tr>\n",
       "  </tbody>\n",
       "</table>\n",
       "</div>"
      ],
      "text/plain": [
       "             Energy          load        ESMODE       TXpower\n",
       "count  92629.000000  92629.000000  92629.000000  92629.000000\n",
       "mean      28.138997      0.244705      0.081361      6.765427\n",
       "std       13.934645      0.234677      0.382317      0.309929\n",
       "min        0.747384      0.000000      0.000000      5.381166\n",
       "25%       18.236173      0.057370      0.000000      6.427504\n",
       "50%       24.065770      0.165550      0.000000      6.875934\n",
       "75%       35.724963      0.363766      0.000000      6.875934\n",
       "max      100.000000      0.993957      4.000000      8.375336"
      ]
     },
     "execution_count": 8,
     "metadata": {},
     "output_type": "execute_result"
    }
   ],
   "source": [
    "data.describe()"
   ]
  },
  {
   "cell_type": "code",
   "execution_count": 9,
   "id": "9686e633-ba8f-4f33-a453-46069df96b36",
   "metadata": {},
   "outputs": [
    {
     "data": {
      "text/plain": [
       "Index(['Time', 'BS', 'Energy', 'load', 'ESMODE', 'TXpower'], dtype='object')"
      ]
     },
     "execution_count": 9,
     "metadata": {},
     "output_type": "execute_result"
    }
   ],
   "source": [
    "data.columns"
   ]
  },
  {
   "cell_type": "code",
   "execution_count": 10,
   "id": "44a5aec9-4614-4713-a163-3731baf4ba6c",
   "metadata": {},
   "outputs": [
    {
     "name": "stdout",
     "output_type": "stream",
     "text": [
      "there are 923 bus stations\n"
     ]
    }
   ],
   "source": [
    "bus_stations=data.BS.nunique()\n",
    "print(f\"there are {bus_stations} bus stations\")"
   ]
  },
  {
   "cell_type": "code",
   "execution_count": 11,
   "id": "441b6e9e-1ca5-4ca1-bad8-905f42edc5fb",
   "metadata": {},
   "outputs": [
    {
     "data": {
      "text/plain": [
       "(92629, 6)"
      ]
     },
     "execution_count": 11,
     "metadata": {},
     "output_type": "execute_result"
    }
   ],
   "source": [
    "data.shape"
   ]
  },
  {
   "cell_type": "code",
   "execution_count": 12,
   "id": "ac65b620-87e9-4677-8984-61b8a97b3889",
   "metadata": {},
   "outputs": [],
   "source": [
    "# plot a correlational matrix on numeric columns\n",
    "import seaborn as sns"
   ]
  },
  {
   "cell_type": "code",
   "execution_count": 13,
   "id": "0c7b450f-2244-4d27-8247-005692d97920",
   "metadata": {},
   "outputs": [
    {
     "data": {
      "text/plain": [
       "<Axes: >"
      ]
     },
     "execution_count": 13,
     "metadata": {},
     "output_type": "execute_result"
    },
    {
     "data": {
      "image/png": "[encoded data removed]",
      "text/plain": [
       "<Figure size 400x300 with 2 Axes>"
      ]
     },
     "metadata": {},
     "output_type": "display_data"
    }
   ],
   "source": [
    "correlations=data.corr(numeric_only=True)\n",
    "plt.figure(figsize=(4,3))\n",
    "sns.heatmap(correlations,annot=True)"
   ]
  },
  {
   "cell_type": "markdown",
   "id": "2da5cd3c-6387-4018-bd7b-77b2429d230d",
   "metadata": {},
   "source": [
    "PERFOMING EDA ON THE DATA SET"
   ]
  },
  {
   "cell_type": "markdown",
   "id": "e09d72f6-a9ea-4ee4-908e-f275fb693f4b",
   "metadata": {
    "jp-MarkdownHeadingCollapsed": true
   },
   "source": [
    "# UNIVARIETE ANALYSIS ON THE COLUMNS "
   ]
  },
  {
   "cell_type": "code",
   "execution_count": 16,
   "id": "1c91f060-d009-4afd-9115-7b693b220c75",
   "metadata": {},
   "outputs": [
    {
     "data": {
      "text/plain": [
       "BS\n",
       "B_583    130\n",
       "B_728    128\n",
       "B_669    128\n",
       "B_261    128\n",
       "B_512    126\n",
       "B_26     126\n",
       "B_168    125\n",
       "B_733    124\n",
       "B_160    124\n",
       "B_777    124\n",
       "Name: count, dtype: int64"
      ]
     },
     "execution_count": 16,
     "metadata": {},
     "output_type": "execute_result"
    }
   ],
   "source": [
    "top_10_bs=data.BS.value_counts().sort_values(ascending=False)\n",
    "top_10_bs[:10]"
   ]
  },
  {
   "cell_type": "code",
   "execution_count": 17,
   "id": "3445cf35-9c12-48ed-a467-4c40790a5061",
   "metadata": {},
   "outputs": [
    {
     "data": {
      "text/plain": [
       "Index(['Time', 'BS', 'Energy', 'load', 'ESMODE', 'TXpower'], dtype='object')"
      ]
     },
     "execution_count": 17,
     "metadata": {},
     "output_type": "execute_result"
    }
   ],
   "source": [
    "data.columns"
   ]
  },
  {
   "cell_type": "code",
   "execution_count": 18,
   "id": "23c173f4-62d4-461a-bf63-74aebb4552eb",
   "metadata": {},
   "outputs": [],
   "source": [
    "# histogram to show the frequency of energy at a perticular amount "
   ]
  },
  {
   "cell_type": "code",
   "execution_count": 19,
   "id": "2a562a1e-4e40-4dea-b3b9-35f2ed11fe44",
   "metadata": {},
   "outputs": [
    {
     "data": {
      "image/png": "[encoded data removed]",
      "text/plain": [
       "<Figure size 640x480 with 1 Axes>"
      ]
     },
     "metadata": {},
     "output_type": "display_data"
    }
   ],
   "source": [
    "plt.hist(data.Energy,bins=50)\n",
    "plt.xlabel(\"ENERGY\")\n",
    "plt.ylabel(\"FRequency\")\n",
    "plt.show()"
   ]
  },
  {
   "cell_type": "code",
   "execution_count": null,
   "id": "50106ff1-56ea-41b1-9835-6a5b2969ac17",
   "metadata": {},
   "outputs": [],
   "source": [
    "#BIVARIETE ANALYSIS"
   ]
  },
  {
   "cell_type": "markdown",
   "id": "b9d657d4-55b0-4a37-aac1-a07324baa616",
   "metadata": {
    "jp-MarkdownHeadingCollapsed": true
   },
   "source": [
    "# BIVARIETE ANALYSIS ON THE LOAD AND ENERGY "
   ]
  },
  {
   "cell_type": "code",
   "execution_count": 22,
   "id": "56dad548-088f-475c-9786-fd9139185d3c",
   "metadata": {},
   "outputs": [
    {
     "data": {
      "image/png": "[encoded data removed]",
      "text/plain": [
       "<Figure size 640x480 with 1 Axes>"
      ]
     },
     "metadata": {},
     "output_type": "display_data"
    }
   ],
   "source": [
    "plt.scatter(data.load.values[:10],data.Energy.values[:10])\n",
    "plt.xlabel(\"LOAD\")\n",
    "plt.ylabel(\"ENERGY\")\n",
    "plt.grid()\n",
    "plt.show()"
   ]
  },
  {
   "cell_type": "code",
   "execution_count": 23,
   "id": "ad1712b3-a7e3-42cf-84cb-e57cfd4bf967",
   "metadata": {},
   "outputs": [
    {
     "name": "stdout",
     "output_type": "stream",
     "text": [
      "when esmode is off\n"
     ]
    },
    {
     "data": {
      "text/plain": [
       "87475"
      ]
     },
     "execution_count": 23,
     "metadata": {},
     "output_type": "execute_result"
    }
   ],
   "source": [
    "on_esmode=data[\"ESMODE\"]>0\n",
    "off_esmode=data[\"ESMODE\"]==0\n",
    "print(\"when esmode is off\")\n",
    "off_esmode.sum()"
   ]
  },
  {
   "cell_type": "code",
   "execution_count": 24,
   "id": "481bc1fa-8a3a-4ae9-ad15-defc0bd2240e",
   "metadata": {},
   "outputs": [
    {
     "name": "stdout",
     "output_type": "stream",
     "text": [
      "when esmode is on \n"
     ]
    },
    {
     "data": {
      "text/plain": [
       "5154"
      ]
     },
     "execution_count": 24,
     "metadata": {},
     "output_type": "execute_result"
    }
   ],
   "source": [
    "print(\"when esmode is on \")\n",
    "on_esmode.sum()"
   ]
  },
  {
   "cell_type": "code",
   "execution_count": 25,
   "id": "3dd81a0a-8828-4862-bca1-2bd9f4ab00ae",
   "metadata": {},
   "outputs": [
    {
     "data": {
      "text/plain": [
       "'TXpower: This likely stands for \"Transmission Power,\" which is the power used by the base station or device to transmit signals.'"
      ]
     },
     "execution_count": 25,
     "metadata": {},
     "output_type": "execute_result"
    }
   ],
   "source": [
    "'''TXpower: This likely stands for \"Transmission Power,\" which is the power used by the base station or device to transmit signals.'''"
   ]
  },
  {
   "cell_type": "code",
   "execution_count": 26,
   "id": "62a7cff7-27b5-48d3-9d9d-e7442a23feea",
   "metadata": {},
   "outputs": [
    {
     "data": {
      "image/png": "[encoded data removed]",
      "text/plain": [
       "<Figure size 640x480 with 1 Axes>"
      ]
     },
     "metadata": {},
     "output_type": "display_data"
    }
   ],
   "source": [
    "plt.bar(data.TXpower.values[:1000],data.Energy.values[:1000])\n",
    "plt.xlabel(\"TXPOWER\")\n",
    "plt.ylabel(\"ENERGY\")\n",
    "plt.grid()"
   ]
  },
  {
   "cell_type": "markdown",
   "id": "b40e41fc-1a9f-4cb7-86bf-aaaef88df538",
   "metadata": {},
   "source": [
    "#FEATURE ENGINEERING AND FEATURE SELECTION ON MY DATA SET"
   ]
  },
  {
   "cell_type": "markdown",
   "id": "5e9ba1aa-706c-4188-85bd-bf0b006c8a3e",
   "metadata": {
    "jp-MarkdownHeadingCollapsed": true
   },
   "source": [
    "# FEATURE ENGINEERING AND SELECTION"
   ]
  },
  {
   "cell_type": "code",
   "execution_count": 28,
   "id": "e26f854b-778e-4b73-802f-d79bce95ff9a",
   "metadata": {},
   "outputs": [
    {
     "data": {
      "text/plain": [
       "Index(['Time', 'BS', 'Energy', 'load', 'ESMODE', 'TXpower'], dtype='object')"
      ]
     },
     "execution_count": 28,
     "metadata": {},
     "output_type": "execute_result"
    }
   ],
   "source": [
    "data.columns"
   ]
  },
  {
   "cell_type": "code",
   "execution_count": 29,
   "id": "4bba796f-7714-45e8-bbb9-991f56ee43f7",
   "metadata": {},
   "outputs": [],
   "source": [
    "#Selecting relevant columns\n",
    "data1=data.drop(columns=data[[\"ESMODE\",\"Time\"]])"
   ]
  },
  {
   "cell_type": "code",
   "execution_count": 30,
   "id": "556cc819-7c01-4769-9d59-221c62fd1516",
   "metadata": {},
   "outputs": [
    {
     "data": {
      "text/html": [
       "<div>\n",
       "<style scoped>\n",
       "    .dataframe tbody tr th:only-of-type {\n",
       "        vertical-align: middle;\n",
       "    }\n",
       "\n",
       "    .dataframe tbody tr th {\n",
       "        vertical-align: top;\n",
       "    }\n",
       "\n",
       "    .dataframe thead th {\n",
       "        text-align: right;\n",
       "    }\n",
       "</style>\n",
       "<table border=\"1\" class=\"dataframe\">\n",
       "  <thead>\n",
       "    <tr style=\"text-align: right;\">\n",
       "      <th></th>\n",
       "      <th>BS</th>\n",
       "      <th>Energy</th>\n",
       "      <th>load</th>\n",
       "      <th>TXpower</th>\n",
       "    </tr>\n",
       "  </thead>\n",
       "  <tbody>\n",
       "    <tr>\n",
       "      <th>0</th>\n",
       "      <td>B_0</td>\n",
       "      <td>64.275037</td>\n",
       "      <td>0.487936</td>\n",
       "      <td>7.101719</td>\n",
       "    </tr>\n",
       "    <tr>\n",
       "      <th>1</th>\n",
       "      <td>B_0</td>\n",
       "      <td>55.904335</td>\n",
       "      <td>0.344468</td>\n",
       "      <td>7.101719</td>\n",
       "    </tr>\n",
       "    <tr>\n",
       "      <th>2</th>\n",
       "      <td>B_0</td>\n",
       "      <td>57.698057</td>\n",
       "      <td>0.193766</td>\n",
       "      <td>7.101719</td>\n",
       "    </tr>\n",
       "    <tr>\n",
       "      <th>3</th>\n",
       "      <td>B_0</td>\n",
       "      <td>55.156951</td>\n",
       "      <td>0.222383</td>\n",
       "      <td>7.101719</td>\n",
       "    </tr>\n",
       "    <tr>\n",
       "      <th>4</th>\n",
       "      <td>B_0</td>\n",
       "      <td>56.053812</td>\n",
       "      <td>0.175436</td>\n",
       "      <td>7.101719</td>\n",
       "    </tr>\n",
       "  </tbody>\n",
       "</table>\n",
       "</div>"
      ],
      "text/plain": [
       "    BS     Energy      load   TXpower\n",
       "0  B_0  64.275037  0.487936  7.101719\n",
       "1  B_0  55.904335  0.344468  7.101719\n",
       "2  B_0  57.698057  0.193766  7.101719\n",
       "3  B_0  55.156951  0.222383  7.101719\n",
       "4  B_0  56.053812  0.175436  7.101719"
      ]
     },
     "execution_count": 30,
     "metadata": {},
     "output_type": "execute_result"
    }
   ],
   "source": [
    "data1.head(5)"
   ]
  },
  {
   "cell_type": "code",
   "execution_count": 31,
   "id": "5c4db18c-4468-4f9b-b428-c5ea027dc15b",
   "metadata": {},
   "outputs": [],
   "source": [
    "import warnings\n",
    "warnings.filterwarnings(action=\"ignore\")"
   ]
  },
  {
   "cell_type": "code",
   "execution_count": 32,
   "id": "bb55a5fa-dc98-42db-b28c-d2239c5ee0bd",
   "metadata": {},
   "outputs": [
    {
     "data": {
      "text/plain": [
       "BS         0\n",
       "Energy     0\n",
       "load       0\n",
       "TXpower    0\n",
       "dtype: int64"
      ]
     },
     "execution_count": 32,
     "metadata": {},
     "output_type": "execute_result"
    }
   ],
   "source": [
    "#checking for null values?\n",
    "data1.isnull().sum()"
   ]
  },
  {
   "cell_type": "markdown",
   "id": "17fb6e91-ae0a-4868-9c09-d390706d1288",
   "metadata": {
    "jp-MarkdownHeadingCollapsed": true
   },
   "source": [
    "# OUTLIERS DETECTION IN MY DATASET USING THE IQR TECHNIQUES"
   ]
  },
  {
   "cell_type": "code",
   "execution_count": 34,
   "id": "abddbd73-e02c-462c-8dce-e09efd604f76",
   "metadata": {},
   "outputs": [
    {
     "data": {
      "text/plain": [
       "Energy     17.488789\n",
       "load        0.306396\n",
       "TXpower     0.448430\n",
       "dtype: float64"
      ]
     },
     "execution_count": 34,
     "metadata": {},
     "output_type": "execute_result"
    }
   ],
   "source": [
    "data2=data1.drop(columns=\"BS\")\n",
    "q1=data2.quantile(0.25)\n",
    "q3=data2.quantile(0.75)\n",
    "IQR=q3-q1\n",
    "IQR"
   ]
  },
  {
   "cell_type": "code",
   "execution_count": 35,
   "id": "995ee214-246d-4549-b4b7-05b85e801abe",
   "metadata": {},
   "outputs": [
    {
     "name": "stdout",
     "output_type": "stream",
     "text": [
      "there are 2192 outliers\n"
     ]
    }
   ],
   "source": [
    "energy_series = data2[\"Energy\"].dropna()\n",
    "# Calculate IQR and bounds\n",
    "IQR = energy_series.quantile(0.75) - energy_series.quantile(0.25)\n",
    "lower_bracket = energy_series.quantile(0.25) - 1.5 * IQR\n",
    "upper_bracket = energy_series.quantile(0.75) + 1.5 * IQR\n",
    "# Identify outliers\n",
    "energy_outliers = energy_series[(energy_series < lower_bracket) | (energy_series > upper_bracket)]\n",
    "# Print the total number of outliers\n",
    "print(f\"there are {energy_outliers.value_counts().sum()} outliers\")"
   ]
  },
  {
   "cell_type": "code",
   "execution_count": 36,
   "id": "32810b80-743f-469e-a661-492402c60ec5",
   "metadata": {},
   "outputs": [
    {
     "data": {
      "text/plain": [
       "0"
      ]
     },
     "execution_count": 36,
     "metadata": {},
     "output_type": "execute_result"
    }
   ],
   "source": [
    "load_outliers=data2[(data2[\"load\"]<lower_bracket) | (data2[\"load\"] > upper_bracket)]\n",
    "load_outliers.value_counts().sum()"
   ]
  },
  {
   "cell_type": "code",
   "execution_count": 37,
   "id": "f02e8347-392a-4e9d-be35-a0cf5b10a77c",
   "metadata": {},
   "outputs": [
    {
     "data": {
      "text/plain": [
       "0"
      ]
     },
     "execution_count": 37,
     "metadata": {},
     "output_type": "execute_result"
    }
   ],
   "source": [
    "TXpower_outliers=data2[(data2[\"TXpower\"]<lower_bracket) | (data2[\"TXpower\"] > upper_bracket)]\n",
    "TXpower_outliers.value_counts().sum()"
   ]
  },
  {
   "cell_type": "code",
   "execution_count": 38,
   "id": "aeb5dcff-07f3-46b6-b8bc-13e466c04538",
   "metadata": {},
   "outputs": [
    {
     "data": {
      "text/plain": [
       "90437"
      ]
     },
     "execution_count": 38,
     "metadata": {},
     "output_type": "execute_result"
    }
   ],
   "source": [
    "filtered_data=data2[(data2[\"Energy\"]>lower_bracket) & (data2[\"Energy\"] < upper_bracket)]\n",
    "len(filtered_data)"
   ]
  },
  {
   "cell_type": "code",
   "execution_count": 39,
   "id": "ef693666-6a4c-4082-ac4d-6ed409b31c87",
   "metadata": {},
   "outputs": [],
   "source": [
    "data3=filtered_data"
   ]
  },
  {
   "cell_type": "code",
   "execution_count": 40,
   "id": "66cc5c06-c5cc-4cc7-b1be-e42b6ee9dbe0",
   "metadata": {},
   "outputs": [
    {
     "data": {
      "text/plain": [
       "(90437, 3)"
      ]
     },
     "execution_count": 40,
     "metadata": {},
     "output_type": "execute_result"
    }
   ],
   "source": [
    "data3.shape"
   ]
  },
  {
   "cell_type": "code",
   "execution_count": 41,
   "id": "5650884a-cc93-40a8-b939-dc8140736928",
   "metadata": {},
   "outputs": [],
   "source": [
    "data4=data1.BS"
   ]
  },
  {
   "cell_type": "code",
   "execution_count": 42,
   "id": "2a2d3f4b-1bbf-4a13-b366-409ddc47aa51",
   "metadata": {},
   "outputs": [],
   "source": [
    "data5=pd.concat([data4,data3],axis='columns')"
   ]
  },
  {
   "cell_type": "code",
   "execution_count": 43,
   "id": "1eadc642-3c55-4972-96ec-390a5a11ccbb",
   "metadata": {},
   "outputs": [
    {
     "data": {
      "text/plain": [
       "(92629, 4)"
      ]
     },
     "execution_count": 43,
     "metadata": {},
     "output_type": "execute_result"
    }
   ],
   "source": [
    "data5.shape"
   ]
  },
  {
   "cell_type": "code",
   "execution_count": 44,
   "id": "451d5ef3-2a90-4ce0-8b6d-ccf7a7f24842",
   "metadata": {},
   "outputs": [
    {
     "data": {
      "text/plain": [
       "BS            0\n",
       "Energy     2192\n",
       "load       2192\n",
       "TXpower    2192\n",
       "dtype: int64"
      ]
     },
     "execution_count": 44,
     "metadata": {},
     "output_type": "execute_result"
    }
   ],
   "source": [
    "data5.isnull().sum()"
   ]
  },
  {
   "cell_type": "code",
   "execution_count": 45,
   "id": "22fecc8e-039b-4c97-94c5-d9758809752d",
   "metadata": {},
   "outputs": [],
   "source": [
    "data6=data5.dropna()"
   ]
  },
  {
   "cell_type": "code",
   "execution_count": 46,
   "id": "db4729b7-31a4-400e-b510-0dadeed5f232",
   "metadata": {},
   "outputs": [
    {
     "data": {
      "text/html": [
       "<div>\n",
       "<style scoped>\n",
       "    .dataframe tbody tr th:only-of-type {\n",
       "        vertical-align: middle;\n",
       "    }\n",
       "\n",
       "    .dataframe tbody tr th {\n",
       "        vertical-align: top;\n",
       "    }\n",
       "\n",
       "    .dataframe thead th {\n",
       "        text-align: right;\n",
       "    }\n",
       "</style>\n",
       "<table border=\"1\" class=\"dataframe\">\n",
       "  <thead>\n",
       "    <tr style=\"text-align: right;\">\n",
       "      <th></th>\n",
       "      <th>BS</th>\n",
       "      <th>Energy</th>\n",
       "      <th>load</th>\n",
       "      <th>TXpower</th>\n",
       "    </tr>\n",
       "  </thead>\n",
       "  <tbody>\n",
       "    <tr>\n",
       "      <th>1</th>\n",
       "      <td>B_0</td>\n",
       "      <td>55.904335</td>\n",
       "      <td>0.344468</td>\n",
       "      <td>7.101719</td>\n",
       "    </tr>\n",
       "    <tr>\n",
       "      <th>2</th>\n",
       "      <td>B_0</td>\n",
       "      <td>57.698057</td>\n",
       "      <td>0.193766</td>\n",
       "      <td>7.101719</td>\n",
       "    </tr>\n",
       "    <tr>\n",
       "      <th>3</th>\n",
       "      <td>B_0</td>\n",
       "      <td>55.156951</td>\n",
       "      <td>0.222383</td>\n",
       "      <td>7.101719</td>\n",
       "    </tr>\n",
       "    <tr>\n",
       "      <th>4</th>\n",
       "      <td>B_0</td>\n",
       "      <td>56.053812</td>\n",
       "      <td>0.175436</td>\n",
       "      <td>7.101719</td>\n",
       "    </tr>\n",
       "    <tr>\n",
       "      <th>20</th>\n",
       "      <td>B_0</td>\n",
       "      <td>55.754858</td>\n",
       "      <td>0.210952</td>\n",
       "      <td>7.101719</td>\n",
       "    </tr>\n",
       "  </tbody>\n",
       "</table>\n",
       "</div>"
      ],
      "text/plain": [
       "     BS     Energy      load   TXpower\n",
       "1   B_0  55.904335  0.344468  7.101719\n",
       "2   B_0  57.698057  0.193766  7.101719\n",
       "3   B_0  55.156951  0.222383  7.101719\n",
       "4   B_0  56.053812  0.175436  7.101719\n",
       "20  B_0  55.754858  0.210952  7.101719"
      ]
     },
     "execution_count": 46,
     "metadata": {},
     "output_type": "execute_result"
    }
   ],
   "source": [
    "data6.head(5)"
   ]
  },
  {
   "cell_type": "code",
   "execution_count": 47,
   "id": "a19db938-2afc-4a0c-8ec0-76345e5dc8cd",
   "metadata": {},
   "outputs": [
    {
     "data": {
      "text/plain": [
       "Index(['BS', 'Energy', 'load', 'TXpower'], dtype='object')"
      ]
     },
     "execution_count": 47,
     "metadata": {},
     "output_type": "execute_result"
    }
   ],
   "source": [
    "data6.columns"
   ]
  },
  {
   "cell_type": "code",
   "execution_count": 48,
   "id": "c7a5cfb3-2869-4f95-b200-6ddfe9ad8a0e",
   "metadata": {},
   "outputs": [
    {
     "data": {
      "text/plain": [
       "89514"
      ]
     },
     "execution_count": 48,
     "metadata": {},
     "output_type": "execute_result"
    }
   ],
   "source": [
    "bs=data6.BS.duplicated()\n",
    "bs.sum()"
   ]
  },
  {
   "cell_type": "code",
   "execution_count": 49,
   "id": "7a677e71-59d1-4176-abc1-445a3da7a50c",
   "metadata": {},
   "outputs": [
    {
     "data": {
      "text/plain": [
       "(89722, 4)"
      ]
     },
     "execution_count": 49,
     "metadata": {},
     "output_type": "execute_result"
    }
   ],
   "source": [
    "data7=data6.drop_duplicates()\n",
    "data7.shape"
   ]
  },
  {
   "cell_type": "code",
   "execution_count": 50,
   "id": "fcea12fe-b708-4b43-afd0-9aae209b1040",
   "metadata": {},
   "outputs": [
    {
     "data": {
      "text/plain": [
       "Index(['BS', 'Energy', 'load', 'TXpower'], dtype='object')"
      ]
     },
     "execution_count": 50,
     "metadata": {},
     "output_type": "execute_result"
    }
   ],
   "source": [
    "data7.columns"
   ]
  },
  {
   "cell_type": "code",
   "execution_count": 51,
   "id": "7802140a-aa82-40d5-a106-3ace2ee318cf",
   "metadata": {},
   "outputs": [
    {
     "name": "stdout",
     "output_type": "stream",
     "text": [
      "<class 'pandas.core.frame.DataFrame'>\n",
      "Index: 89722 entries, 1 to 92628\n",
      "Data columns (total 4 columns):\n",
      " #   Column   Non-Null Count  Dtype  \n",
      "---  ------   --------------  -----  \n",
      " 0   BS       89722 non-null  object \n",
      " 1   Energy   89722 non-null  float64\n",
      " 2   load     89722 non-null  float64\n",
      " 3   TXpower  89722 non-null  float64\n",
      "dtypes: float64(3), object(1)\n",
      "memory usage: 3.4+ MB\n"
     ]
    }
   ],
   "source": [
    "data7.info()"
   ]
  },
  {
   "cell_type": "markdown",
   "id": "81a97a7f-7783-4a92-bb60-dc73b1d4023c",
   "metadata": {},
   "source": [
    "#PERFORMING TRANSFORMATION ON the Base station column"
   ]
  },
  {
   "cell_type": "code",
   "execution_count": 53,
   "id": "5eea8daf-3654-4f35-9584-b97c05769549",
   "metadata": {},
   "outputs": [
    {
     "data": {
      "text/html": [
       "<div>\n",
       "<style scoped>\n",
       "    .dataframe tbody tr th:only-of-type {\n",
       "        vertical-align: middle;\n",
       "    }\n",
       "\n",
       "    .dataframe tbody tr th {\n",
       "        vertical-align: top;\n",
       "    }\n",
       "\n",
       "    .dataframe thead th {\n",
       "        text-align: right;\n",
       "    }\n",
       "</style>\n",
       "<table border=\"1\" class=\"dataframe\">\n",
       "  <thead>\n",
       "    <tr style=\"text-align: right;\">\n",
       "      <th></th>\n",
       "      <th>B_0</th>\n",
       "      <th>B_1</th>\n",
       "      <th>B_10</th>\n",
       "      <th>B_100</th>\n",
       "      <th>B_1003</th>\n",
       "      <th>B_1004</th>\n",
       "      <th>B_1005</th>\n",
       "      <th>B_1006</th>\n",
       "      <th>B_1007</th>\n",
       "      <th>B_101</th>\n",
       "      <th>...</th>\n",
       "      <th>B_990</th>\n",
       "      <th>B_991</th>\n",
       "      <th>B_992</th>\n",
       "      <th>B_993</th>\n",
       "      <th>B_994</th>\n",
       "      <th>B_995</th>\n",
       "      <th>B_996</th>\n",
       "      <th>B_997</th>\n",
       "      <th>B_998</th>\n",
       "      <th>B_999</th>\n",
       "    </tr>\n",
       "  </thead>\n",
       "  <tbody>\n",
       "    <tr>\n",
       "      <th>0</th>\n",
       "      <td>1</td>\n",
       "      <td>0</td>\n",
       "      <td>0</td>\n",
       "      <td>0</td>\n",
       "      <td>0</td>\n",
       "      <td>0</td>\n",
       "      <td>0</td>\n",
       "      <td>0</td>\n",
       "      <td>0</td>\n",
       "      <td>0</td>\n",
       "      <td>...</td>\n",
       "      <td>0</td>\n",
       "      <td>0</td>\n",
       "      <td>0</td>\n",
       "      <td>0</td>\n",
       "      <td>0</td>\n",
       "      <td>0</td>\n",
       "      <td>0</td>\n",
       "      <td>0</td>\n",
       "      <td>0</td>\n",
       "      <td>0</td>\n",
       "    </tr>\n",
       "    <tr>\n",
       "      <th>1</th>\n",
       "      <td>1</td>\n",
       "      <td>0</td>\n",
       "      <td>0</td>\n",
       "      <td>0</td>\n",
       "      <td>0</td>\n",
       "      <td>0</td>\n",
       "      <td>0</td>\n",
       "      <td>0</td>\n",
       "      <td>0</td>\n",
       "      <td>0</td>\n",
       "      <td>...</td>\n",
       "      <td>0</td>\n",
       "      <td>0</td>\n",
       "      <td>0</td>\n",
       "      <td>0</td>\n",
       "      <td>0</td>\n",
       "      <td>0</td>\n",
       "      <td>0</td>\n",
       "      <td>0</td>\n",
       "      <td>0</td>\n",
       "      <td>0</td>\n",
       "    </tr>\n",
       "    <tr>\n",
       "      <th>2</th>\n",
       "      <td>1</td>\n",
       "      <td>0</td>\n",
       "      <td>0</td>\n",
       "      <td>0</td>\n",
       "      <td>0</td>\n",
       "      <td>0</td>\n",
       "      <td>0</td>\n",
       "      <td>0</td>\n",
       "      <td>0</td>\n",
       "      <td>0</td>\n",
       "      <td>...</td>\n",
       "      <td>0</td>\n",
       "      <td>0</td>\n",
       "      <td>0</td>\n",
       "      <td>0</td>\n",
       "      <td>0</td>\n",
       "      <td>0</td>\n",
       "      <td>0</td>\n",
       "      <td>0</td>\n",
       "      <td>0</td>\n",
       "      <td>0</td>\n",
       "    </tr>\n",
       "    <tr>\n",
       "      <th>3</th>\n",
       "      <td>1</td>\n",
       "      <td>0</td>\n",
       "      <td>0</td>\n",
       "      <td>0</td>\n",
       "      <td>0</td>\n",
       "      <td>0</td>\n",
       "      <td>0</td>\n",
       "      <td>0</td>\n",
       "      <td>0</td>\n",
       "      <td>0</td>\n",
       "      <td>...</td>\n",
       "      <td>0</td>\n",
       "      <td>0</td>\n",
       "      <td>0</td>\n",
       "      <td>0</td>\n",
       "      <td>0</td>\n",
       "      <td>0</td>\n",
       "      <td>0</td>\n",
       "      <td>0</td>\n",
       "      <td>0</td>\n",
       "      <td>0</td>\n",
       "    </tr>\n",
       "  </tbody>\n",
       "</table>\n",
       "<p>4 rows × 923 columns</p>\n",
       "</div>"
      ],
      "text/plain": [
       "   B_0  B_1  B_10  B_100  B_1003  B_1004  B_1005  B_1006  B_1007  B_101  ...  \\\n",
       "0    1    0     0      0       0       0       0       0       0      0  ...   \n",
       "1    1    0     0      0       0       0       0       0       0      0  ...   \n",
       "2    1    0     0      0       0       0       0       0       0      0  ...   \n",
       "3    1    0     0      0       0       0       0       0       0      0  ...   \n",
       "\n",
       "   B_990  B_991  B_992  B_993  B_994  B_995  B_996  B_997  B_998  B_999  \n",
       "0      0      0      0      0      0      0      0      0      0      0  \n",
       "1      0      0      0      0      0      0      0      0      0      0  \n",
       "2      0      0      0      0      0      0      0      0      0      0  \n",
       "3      0      0      0      0      0      0      0      0      0      0  \n",
       "\n",
       "[4 rows x 923 columns]"
      ]
     },
     "execution_count": 53,
     "metadata": {},
     "output_type": "execute_result"
    }
   ],
   "source": [
    "Base_stations = pd.get_dummies(data.BS).astype(int)\n",
    "Base_stations.head(4)"
   ]
  },
  {
   "cell_type": "code",
   "execution_count": 54,
   "id": "376b6936-6595-4ddd-b892-495404bce180",
   "metadata": {},
   "outputs": [],
   "source": [
    "# from sklearn.preprocessing import LabelEncoder\n",
    "# le=LabelEncoder()\n",
    "# data7[\"BS\"]=le.fit_transform(data7.BS)"
   ]
  },
  {
   "cell_type": "code",
   "execution_count": 55,
   "id": "5edf6719-2aca-4204-984c-09a74bf64c1a",
   "metadata": {},
   "outputs": [
    {
     "data": {
      "text/html": [
       "<div>\n",
       "<style scoped>\n",
       "    .dataframe tbody tr th:only-of-type {\n",
       "        vertical-align: middle;\n",
       "    }\n",
       "\n",
       "    .dataframe tbody tr th {\n",
       "        vertical-align: top;\n",
       "    }\n",
       "\n",
       "    .dataframe thead th {\n",
       "        text-align: right;\n",
       "    }\n",
       "</style>\n",
       "<table border=\"1\" class=\"dataframe\">\n",
       "  <thead>\n",
       "    <tr style=\"text-align: right;\">\n",
       "      <th></th>\n",
       "      <th>Energy</th>\n",
       "      <th>load</th>\n",
       "      <th>TXpower</th>\n",
       "      <th>B_0</th>\n",
       "      <th>B_1</th>\n",
       "      <th>B_10</th>\n",
       "      <th>B_100</th>\n",
       "      <th>B_1003</th>\n",
       "      <th>B_1004</th>\n",
       "      <th>B_1005</th>\n",
       "      <th>...</th>\n",
       "      <th>B_990</th>\n",
       "      <th>B_991</th>\n",
       "      <th>B_992</th>\n",
       "      <th>B_993</th>\n",
       "      <th>B_994</th>\n",
       "      <th>B_995</th>\n",
       "      <th>B_996</th>\n",
       "      <th>B_997</th>\n",
       "      <th>B_998</th>\n",
       "      <th>B_999</th>\n",
       "    </tr>\n",
       "  </thead>\n",
       "  <tbody>\n",
       "    <tr>\n",
       "      <th>1</th>\n",
       "      <td>55.904335</td>\n",
       "      <td>0.344468</td>\n",
       "      <td>7.101719</td>\n",
       "      <td>1</td>\n",
       "      <td>0</td>\n",
       "      <td>0</td>\n",
       "      <td>0</td>\n",
       "      <td>0</td>\n",
       "      <td>0</td>\n",
       "      <td>0</td>\n",
       "      <td>...</td>\n",
       "      <td>0</td>\n",
       "      <td>0</td>\n",
       "      <td>0</td>\n",
       "      <td>0</td>\n",
       "      <td>0</td>\n",
       "      <td>0</td>\n",
       "      <td>0</td>\n",
       "      <td>0</td>\n",
       "      <td>0</td>\n",
       "      <td>0</td>\n",
       "    </tr>\n",
       "    <tr>\n",
       "      <th>2</th>\n",
       "      <td>57.698057</td>\n",
       "      <td>0.193766</td>\n",
       "      <td>7.101719</td>\n",
       "      <td>1</td>\n",
       "      <td>0</td>\n",
       "      <td>0</td>\n",
       "      <td>0</td>\n",
       "      <td>0</td>\n",
       "      <td>0</td>\n",
       "      <td>0</td>\n",
       "      <td>...</td>\n",
       "      <td>0</td>\n",
       "      <td>0</td>\n",
       "      <td>0</td>\n",
       "      <td>0</td>\n",
       "      <td>0</td>\n",
       "      <td>0</td>\n",
       "      <td>0</td>\n",
       "      <td>0</td>\n",
       "      <td>0</td>\n",
       "      <td>0</td>\n",
       "    </tr>\n",
       "    <tr>\n",
       "      <th>3</th>\n",
       "      <td>55.156951</td>\n",
       "      <td>0.222383</td>\n",
       "      <td>7.101719</td>\n",
       "      <td>1</td>\n",
       "      <td>0</td>\n",
       "      <td>0</td>\n",
       "      <td>0</td>\n",
       "      <td>0</td>\n",
       "      <td>0</td>\n",
       "      <td>0</td>\n",
       "      <td>...</td>\n",
       "      <td>0</td>\n",
       "      <td>0</td>\n",
       "      <td>0</td>\n",
       "      <td>0</td>\n",
       "      <td>0</td>\n",
       "      <td>0</td>\n",
       "      <td>0</td>\n",
       "      <td>0</td>\n",
       "      <td>0</td>\n",
       "      <td>0</td>\n",
       "    </tr>\n",
       "    <tr>\n",
       "      <th>4</th>\n",
       "      <td>56.053812</td>\n",
       "      <td>0.175436</td>\n",
       "      <td>7.101719</td>\n",
       "      <td>1</td>\n",
       "      <td>0</td>\n",
       "      <td>0</td>\n",
       "      <td>0</td>\n",
       "      <td>0</td>\n",
       "      <td>0</td>\n",
       "      <td>0</td>\n",
       "      <td>...</td>\n",
       "      <td>0</td>\n",
       "      <td>0</td>\n",
       "      <td>0</td>\n",
       "      <td>0</td>\n",
       "      <td>0</td>\n",
       "      <td>0</td>\n",
       "      <td>0</td>\n",
       "      <td>0</td>\n",
       "      <td>0</td>\n",
       "      <td>0</td>\n",
       "    </tr>\n",
       "  </tbody>\n",
       "</table>\n",
       "<p>4 rows × 926 columns</p>\n",
       "</div>"
      ],
      "text/plain": [
       "      Energy      load   TXpower  B_0  B_1  B_10  B_100  B_1003  B_1004  \\\n",
       "1  55.904335  0.344468  7.101719    1    0     0      0       0       0   \n",
       "2  57.698057  0.193766  7.101719    1    0     0      0       0       0   \n",
       "3  55.156951  0.222383  7.101719    1    0     0      0       0       0   \n",
       "4  56.053812  0.175436  7.101719    1    0     0      0       0       0   \n",
       "\n",
       "   B_1005  ...  B_990  B_991  B_992  B_993  B_994  B_995  B_996  B_997  B_998  \\\n",
       "1       0  ...      0      0      0      0      0      0      0      0      0   \n",
       "2       0  ...      0      0      0      0      0      0      0      0      0   \n",
       "3       0  ...      0      0      0      0      0      0      0      0      0   \n",
       "4       0  ...      0      0      0      0      0      0      0      0      0   \n",
       "\n",
       "   B_999  \n",
       "1      0  \n",
       "2      0  \n",
       "3      0  \n",
       "4      0  \n",
       "\n",
       "[4 rows x 926 columns]"
      ]
     },
     "execution_count": 55,
     "metadata": {},
     "output_type": "execute_result"
    }
   ],
   "source": [
    "data8=pd.concat([data7.drop(columns=\"BS\"),Base_stations.astype(int)],axis=\"columns\")\n",
    "data8.head(4)"
   ]
  },
  {
   "cell_type": "code",
   "execution_count": 56,
   "id": "2085e83b-e7da-4007-91db-52410be589f6",
   "metadata": {},
   "outputs": [
    {
     "data": {
      "text/plain": [
       "(92629, 926)"
      ]
     },
     "execution_count": 56,
     "metadata": {},
     "output_type": "execute_result"
    }
   ],
   "source": [
    "data8.shape"
   ]
  },
  {
   "cell_type": "code",
   "execution_count": 57,
   "id": "894dcd7d-0bf6-47e0-9e6d-ea4d79ec97a8",
   "metadata": {},
   "outputs": [
    {
     "data": {
      "text/html": [
       "<div>\n",
       "<style scoped>\n",
       "    .dataframe tbody tr th:only-of-type {\n",
       "        vertical-align: middle;\n",
       "    }\n",
       "\n",
       "    .dataframe tbody tr th {\n",
       "        vertical-align: top;\n",
       "    }\n",
       "\n",
       "    .dataframe thead th {\n",
       "        text-align: right;\n",
       "    }\n",
       "</style>\n",
       "<table border=\"1\" class=\"dataframe\">\n",
       "  <thead>\n",
       "    <tr style=\"text-align: right;\">\n",
       "      <th></th>\n",
       "      <th>Energy</th>\n",
       "      <th>load</th>\n",
       "      <th>TXpower</th>\n",
       "      <th>B_1</th>\n",
       "      <th>B_10</th>\n",
       "      <th>B_100</th>\n",
       "      <th>B_1003</th>\n",
       "      <th>B_1004</th>\n",
       "      <th>B_1005</th>\n",
       "      <th>B_1006</th>\n",
       "      <th>...</th>\n",
       "      <th>B_990</th>\n",
       "      <th>B_991</th>\n",
       "      <th>B_992</th>\n",
       "      <th>B_993</th>\n",
       "      <th>B_994</th>\n",
       "      <th>B_995</th>\n",
       "      <th>B_996</th>\n",
       "      <th>B_997</th>\n",
       "      <th>B_998</th>\n",
       "      <th>B_999</th>\n",
       "    </tr>\n",
       "  </thead>\n",
       "  <tbody>\n",
       "    <tr>\n",
       "      <th>1</th>\n",
       "      <td>55.904335</td>\n",
       "      <td>0.344468</td>\n",
       "      <td>7.101719</td>\n",
       "      <td>0</td>\n",
       "      <td>0</td>\n",
       "      <td>0</td>\n",
       "      <td>0</td>\n",
       "      <td>0</td>\n",
       "      <td>0</td>\n",
       "      <td>0</td>\n",
       "      <td>...</td>\n",
       "      <td>0</td>\n",
       "      <td>0</td>\n",
       "      <td>0</td>\n",
       "      <td>0</td>\n",
       "      <td>0</td>\n",
       "      <td>0</td>\n",
       "      <td>0</td>\n",
       "      <td>0</td>\n",
       "      <td>0</td>\n",
       "      <td>0</td>\n",
       "    </tr>\n",
       "    <tr>\n",
       "      <th>2</th>\n",
       "      <td>57.698057</td>\n",
       "      <td>0.193766</td>\n",
       "      <td>7.101719</td>\n",
       "      <td>0</td>\n",
       "      <td>0</td>\n",
       "      <td>0</td>\n",
       "      <td>0</td>\n",
       "      <td>0</td>\n",
       "      <td>0</td>\n",
       "      <td>0</td>\n",
       "      <td>...</td>\n",
       "      <td>0</td>\n",
       "      <td>0</td>\n",
       "      <td>0</td>\n",
       "      <td>0</td>\n",
       "      <td>0</td>\n",
       "      <td>0</td>\n",
       "      <td>0</td>\n",
       "      <td>0</td>\n",
       "      <td>0</td>\n",
       "      <td>0</td>\n",
       "    </tr>\n",
       "    <tr>\n",
       "      <th>3</th>\n",
       "      <td>55.156951</td>\n",
       "      <td>0.222383</td>\n",
       "      <td>7.101719</td>\n",
       "      <td>0</td>\n",
       "      <td>0</td>\n",
       "      <td>0</td>\n",
       "      <td>0</td>\n",
       "      <td>0</td>\n",
       "      <td>0</td>\n",
       "      <td>0</td>\n",
       "      <td>...</td>\n",
       "      <td>0</td>\n",
       "      <td>0</td>\n",
       "      <td>0</td>\n",
       "      <td>0</td>\n",
       "      <td>0</td>\n",
       "      <td>0</td>\n",
       "      <td>0</td>\n",
       "      <td>0</td>\n",
       "      <td>0</td>\n",
       "      <td>0</td>\n",
       "    </tr>\n",
       "    <tr>\n",
       "      <th>4</th>\n",
       "      <td>56.053812</td>\n",
       "      <td>0.175436</td>\n",
       "      <td>7.101719</td>\n",
       "      <td>0</td>\n",
       "      <td>0</td>\n",
       "      <td>0</td>\n",
       "      <td>0</td>\n",
       "      <td>0</td>\n",
       "      <td>0</td>\n",
       "      <td>0</td>\n",
       "      <td>...</td>\n",
       "      <td>0</td>\n",
       "      <td>0</td>\n",
       "      <td>0</td>\n",
       "      <td>0</td>\n",
       "      <td>0</td>\n",
       "      <td>0</td>\n",
       "      <td>0</td>\n",
       "      <td>0</td>\n",
       "      <td>0</td>\n",
       "      <td>0</td>\n",
       "    </tr>\n",
       "    <tr>\n",
       "      <th>20</th>\n",
       "      <td>55.754858</td>\n",
       "      <td>0.210952</td>\n",
       "      <td>7.101719</td>\n",
       "      <td>0</td>\n",
       "      <td>0</td>\n",
       "      <td>0</td>\n",
       "      <td>0</td>\n",
       "      <td>0</td>\n",
       "      <td>0</td>\n",
       "      <td>0</td>\n",
       "      <td>...</td>\n",
       "      <td>0</td>\n",
       "      <td>0</td>\n",
       "      <td>0</td>\n",
       "      <td>0</td>\n",
       "      <td>0</td>\n",
       "      <td>0</td>\n",
       "      <td>0</td>\n",
       "      <td>0</td>\n",
       "      <td>0</td>\n",
       "      <td>0</td>\n",
       "    </tr>\n",
       "  </tbody>\n",
       "</table>\n",
       "<p>5 rows × 925 columns</p>\n",
       "</div>"
      ],
      "text/plain": [
       "       Energy      load   TXpower  B_1  B_10  B_100  B_1003  B_1004  B_1005  \\\n",
       "1   55.904335  0.344468  7.101719    0     0      0       0       0       0   \n",
       "2   57.698057  0.193766  7.101719    0     0      0       0       0       0   \n",
       "3   55.156951  0.222383  7.101719    0     0      0       0       0       0   \n",
       "4   56.053812  0.175436  7.101719    0     0      0       0       0       0   \n",
       "20  55.754858  0.210952  7.101719    0     0      0       0       0       0   \n",
       "\n",
       "    B_1006  ...  B_990  B_991  B_992  B_993  B_994  B_995  B_996  B_997  \\\n",
       "1        0  ...      0      0      0      0      0      0      0      0   \n",
       "2        0  ...      0      0      0      0      0      0      0      0   \n",
       "3        0  ...      0      0      0      0      0      0      0      0   \n",
       "4        0  ...      0      0      0      0      0      0      0      0   \n",
       "20       0  ...      0      0      0      0      0      0      0      0   \n",
       "\n",
       "    B_998  B_999  \n",
       "1       0      0  \n",
       "2       0      0  \n",
       "3       0      0  \n",
       "4       0      0  \n",
       "20      0      0  \n",
       "\n",
       "[5 rows x 925 columns]"
      ]
     },
     "execution_count": 57,
     "metadata": {},
     "output_type": "execute_result"
    }
   ],
   "source": [
    "data9=data8.drop(columns=\"B_0\")\n",
    "data9.head(5)"
   ]
  },
  {
   "cell_type": "code",
   "execution_count": 58,
   "id": "23207a73-b8c7-4fb2-994a-38ce51533897",
   "metadata": {},
   "outputs": [],
   "source": [
    "# performing scaling on my dataset\n",
    "from sklearn.preprocessing import MinMaxScaler\n",
    "scaler=MinMaxScaler()"
   ]
  },
  {
   "cell_type": "code",
   "execution_count": 62,
   "id": "3fe944bd-94b3-4012-bc52-72453f455b81",
   "metadata": {},
   "outputs": [],
   "source": [
    "data9[[\"Energy\",\"TXpower\"]]=scaler.fit_transform(data9[[\"Energy\",\"TXpower\"]])"
   ]
  },
  {
   "cell_type": "code",
   "execution_count": 64,
   "id": "9d8749bc-7cde-49a6-ad90-88f5f126e7b0",
   "metadata": {},
   "outputs": [
    {
     "data": {
      "text/plain": [
       "Index(['Energy', 'load', 'TXpower', 'B_1', 'B_10', 'B_100', 'B_1003', 'B_1004',\n",
       "       'B_1005', 'B_1006',\n",
       "       ...\n",
       "       'B_990', 'B_991', 'B_992', 'B_993', 'B_994', 'B_995', 'B_996', 'B_997',\n",
       "       'B_998', 'B_999'],\n",
       "      dtype='object', length=925)"
      ]
     },
     "execution_count": 64,
     "metadata": {},
     "output_type": "execute_result"
    }
   ],
   "source": [
    "data9.columns"
   ]
  },
  {
   "cell_type": "code",
   "execution_count": 86,
   "id": "458f2fad-f44e-4403-9879-efd1840c19f3",
   "metadata": {},
   "outputs": [],
   "source": [
    "data9.dropna(axis=0,inplace=True)"
   ]
  },
  {
   "cell_type": "markdown",
   "id": "989c2f7c-b785-4946-ba4a-e50a4aeb2b65",
   "metadata": {
    "jp-MarkdownHeadingCollapsed": true
   },
   "source": [
    "# BUILDING THE MODEL "
   ]
  },
  {
   "cell_type": "code",
   "execution_count": 88,
   "id": "19aaf251-f968-461e-8458-6a5f2e249c62",
   "metadata": {},
   "outputs": [],
   "source": [
    "from sklearn.model_selection import StratifiedKFold\n",
    "from sklearn.model_selection import cross_val_score\n",
    "from sklearn.linear_model import LinearRegression\n",
    "from sklearn.preprocessing import PolynomialFeatures"
   ]
  },
  {
   "cell_type": "code",
   "execution_count": 90,
   "id": "44b5b359-0401-47ba-9236-fb42b3a71b25",
   "metadata": {},
   "outputs": [
    {
     "data": {
      "text/plain": [
       "StratifiedKFold(n_splits=10, random_state=None, shuffle=False)"
      ]
     },
     "execution_count": 90,
     "metadata": {},
     "output_type": "execute_result"
    }
   ],
   "source": [
    "kf=StratifiedKFold(n_splits=10)\n",
    "kf"
   ]
  },
  {
   "cell_type": "code",
   "execution_count": 92,
   "id": "6834ee5a-cf4a-45c9-afba-5b0e9e84319d",
   "metadata": {},
   "outputs": [],
   "source": [
    "x=data9.drop(columns=\"Energy\")\n",
    "y=data9.Energy"
   ]
  },
  {
   "cell_type": "code",
   "execution_count": 94,
   "id": "c059bbb7-5e5c-4cec-8630-a6bb1f93bb4b",
   "metadata": {
    "scrolled": true
   },
   "outputs": [],
   "source": [
    "# pol=PolynomialFeatures(degree=2)\n",
    "# pol.fit_transform(x,y)"
   ]
  },
  {
   "cell_type": "code",
   "execution_count": 109,
   "id": "7375b50e-d132-4e67-8667-33f9e3ca5998",
   "metadata": {},
   "outputs": [
    {
     "data": {
      "text/plain": [
       "17945"
      ]
     },
     "execution_count": 109,
     "metadata": {},
     "output_type": "execute_result"
    }
   ],
   "source": [
    "from sklearn.model_selection import train_test_split\n",
    "X_train, X_test, y_train, y_test=train_test_split(x,y,test_size=0.2)\n",
    "len(X_test)"
   ]
  },
  {
   "cell_type": "code",
   "execution_count": 98,
   "id": "c8e4221b-def5-4207-8a78-2d90cbddf5ab",
   "metadata": {},
   "outputs": [
    {
     "data": {
      "text/html": [
       "<style>#sk-container-id-1 {\n",
       "  /* Definition of color scheme common for light and dark mode */\n",
       "  --sklearn-color-text: black;\n",
       "  --sklearn-color-line: gray;\n",
       "  /* Definition of color scheme for unfitted estimators */\n",
       "  --sklearn-color-unfitted-level-0: #fff5e6;\n",
       "  --sklearn-color-unfitted-level-1: #f6e4d2;\n",
       "  --sklearn-color-unfitted-level-2: #ffe0b3;\n",
       "  --sklearn-color-unfitted-level-3: chocolate;\n",
       "  /* Definition of color scheme for fitted estimators */\n",
       "  --sklearn-color-fitted-level-0: #f0f8ff;\n",
       "  --sklearn-color-fitted-level-1: #d4ebff;\n",
       "  --sklearn-color-fitted-level-2: #b3dbfd;\n",
       "  --sklearn-color-fitted-level-3: cornflowerblue;\n",
       "\n",
       "  /* Specific color for light theme */\n",
       "  --sklearn-color-text-on-default-background: var(--sg-text-color, var(--theme-code-foreground, var(--jp-content-font-color1, black)));\n",
       "  --sklearn-color-background: var(--sg-background-color, var(--theme-background, var(--jp-layout-color0, white)));\n",
       "  --sklearn-color-border-box: var(--sg-text-color, var(--theme-code-foreground, var(--jp-content-font-color1, black)));\n",
       "  --sklearn-color-icon: #696969;\n",
       "\n",
       "  @media (prefers-color-scheme: dark) {\n",
       "    /* Redefinition of color scheme for dark theme */\n",
       "    --sklearn-color-text-on-default-background: var(--sg-text-color, var(--theme-code-foreground, var(--jp-content-font-color1, white)));\n",
       "    --sklearn-color-background: var(--sg-background-color, var(--theme-background, var(--jp-layout-color0, #111)));\n",
       "    --sklearn-color-border-box: var(--sg-text-color, var(--theme-code-foreground, var(--jp-content-font-color1, white)));\n",
       "    --sklearn-color-icon: #878787;\n",
       "  }\n",
       "}\n",
       "\n",
       "#sk-container-id-1 {\n",
       "  color: var(--sklearn-color-text);\n",
       "}\n",
       "\n",
       "#sk-container-id-1 pre {\n",
       "  padding: 0;\n",
       "}\n",
       "\n",
       "#sk-container-id-1 input.sk-hidden--visually {\n",
       "  border: 0;\n",
       "  clip: rect(1px 1px 1px 1px);\n",
       "  clip: rect(1px, 1px, 1px, 1px);\n",
       "  height: 1px;\n",
       "  margin: -1px;\n",
       "  overflow: hidden;\n",
       "  padding: 0;\n",
       "  position: absolute;\n",
       "  width: 1px;\n",
       "}\n",
       "\n",
       "#sk-container-id-1 div.sk-dashed-wrapped {\n",
       "  border: 1px dashed var(--sklearn-color-line);\n",
       "  margin: 0 0.4em 0.5em 0.4em;\n",
       "  box-sizing: border-box;\n",
       "  padding-bottom: 0.4em;\n",
       "  background-color: var(--sklearn-color-background);\n",
       "}\n",
       "\n",
       "#sk-container-id-1 div.sk-container {\n",
       "  /* jupyter's `normalize.less` sets `[hidden] { display: none; }`\n",
       "     but bootstrap.min.css set `[hidden] { display: none !important; }`\n",
       "     so we also need the `!important` here to be able to override the\n",
       "     default hidden behavior on the sphinx rendered scikit-learn.org.\n",
       "     See: https://github.com/scikit-learn/scikit-learn/issues/21755 */\n",
       "  display: inline-block !important;\n",
       "  position: relative;\n",
       "}\n",
       "\n",
       "#sk-container-id-1 div.sk-text-repr-fallback {\n",
       "  display: none;\n",
       "}\n",
       "\n",
       "div.sk-parallel-item,\n",
       "div.sk-serial,\n",
       "div.sk-item {\n",
       "  /* draw centered vertical line to link estimators */\n",
       "  background-image: linear-gradient(var(--sklearn-color-text-on-default-background), var(--sklearn-color-text-on-default-background));\n",
       "  background-size: 2px 100%;\n",
       "  background-repeat: no-repeat;\n",
       "  background-position: center center;\n",
       "}\n",
       "\n",
       "/* Parallel-specific style estimator block */\n",
       "\n",
       "#sk-container-id-1 div.sk-parallel-item::after {\n",
       "  content: \"\";\n",
       "  width: 100%;\n",
       "  border-bottom: 2px solid var(--sklearn-color-text-on-default-background);\n",
       "  flex-grow: 1;\n",
       "}\n",
       "\n",
       "#sk-container-id-1 div.sk-parallel {\n",
       "  display: flex;\n",
       "  align-items: stretch;\n",
       "  justify-content: center;\n",
       "  background-color: var(--sklearn-color-background);\n",
       "  position: relative;\n",
       "}\n",
       "\n",
       "#sk-container-id-1 div.sk-parallel-item {\n",
       "  display: flex;\n",
       "  flex-direction: column;\n",
       "}\n",
       "\n",
       "#sk-container-id-1 div.sk-parallel-item:first-child::after {\n",
       "  align-self: flex-end;\n",
       "  width: 50%;\n",
       "}\n",
       "\n",
       "#sk-container-id-1 div.sk-parallel-item:last-child::after {\n",
       "  align-self: flex-start;\n",
       "  width: 50%;\n",
       "}\n",
       "\n",
       "#sk-container-id-1 div.sk-parallel-item:only-child::after {\n",
       "  width: 0;\n",
       "}\n",
       "\n",
       "/* Serial-specific style estimator block */\n",
       "\n",
       "#sk-container-id-1 div.sk-serial {\n",
       "  display: flex;\n",
       "  flex-direction: column;\n",
       "  align-items: center;\n",
       "  background-color: var(--sklearn-color-background);\n",
       "  padding-right: 1em;\n",
       "  padding-left: 1em;\n",
       "}\n",
       "\n",
       "\n",
       "/* Toggleable style: style used for estimator/Pipeline/ColumnTransformer box that is\n",
       "clickable and can be expanded/collapsed.\n",
       "- Pipeline and ColumnTransformer use this feature and define the default style\n",
       "- Estimators will overwrite some part of the style using the `sk-estimator` class\n",
       "*/\n",
       "\n",
       "/* Pipeline and ColumnTransformer style (default) */\n",
       "\n",
       "#sk-container-id-1 div.sk-toggleable {\n",
       "  /* Default theme specific background. It is overwritten whether we have a\n",
       "  specific estimator or a Pipeline/ColumnTransformer */\n",
       "  background-color: var(--sklearn-color-background);\n",
       "}\n",
       "\n",
       "/* Toggleable label */\n",
       "#sk-container-id-1 label.sk-toggleable__label {\n",
       "  cursor: pointer;\n",
       "  display: block;\n",
       "  width: 100%;\n",
       "  margin-bottom: 0;\n",
       "  padding: 0.5em;\n",
       "  box-sizing: border-box;\n",
       "  text-align: center;\n",
       "}\n",
       "\n",
       "#sk-container-id-1 label.sk-toggleable__label-arrow:before {\n",
       "  /* Arrow on the left of the label */\n",
       "  content: \"▸\";\n",
       "  float: left;\n",
       "  margin-right: 0.25em;\n",
       "  color: var(--sklearn-color-icon);\n",
       "}\n",
       "\n",
       "#sk-container-id-1 label.sk-toggleable__label-arrow:hover:before {\n",
       "  color: var(--sklearn-color-text);\n",
       "}\n",
       "\n",
       "/* Toggleable content - dropdown */\n",
       "\n",
       "#sk-container-id-1 div.sk-toggleable__content {\n",
       "  max-height: 0;\n",
       "  max-width: 0;\n",
       "  overflow: hidden;\n",
       "  text-align: left;\n",
       "  /* unfitted */\n",
       "  background-color: var(--sklearn-color-unfitted-level-0);\n",
       "}\n",
       "\n",
       "#sk-container-id-1 div.sk-toggleable__content.fitted {\n",
       "  /* fitted */\n",
       "  background-color: var(--sklearn-color-fitted-level-0);\n",
       "}\n",
       "\n",
       "#sk-container-id-1 div.sk-toggleable__content pre {\n",
       "  margin: 0.2em;\n",
       "  border-radius: 0.25em;\n",
       "  color: var(--sklearn-color-text);\n",
       "  /* unfitted */\n",
       "  background-color: var(--sklearn-color-unfitted-level-0);\n",
       "}\n",
       "\n",
       "#sk-container-id-1 div.sk-toggleable__content.fitted pre {\n",
       "  /* unfitted */\n",
       "  background-color: var(--sklearn-color-fitted-level-0);\n",
       "}\n",
       "\n",
       "#sk-container-id-1 input.sk-toggleable__control:checked~div.sk-toggleable__content {\n",
       "  /* Expand drop-down */\n",
       "  max-height: 200px;\n",
       "  max-width: 100%;\n",
       "  overflow: auto;\n",
       "}\n",
       "\n",
       "#sk-container-id-1 input.sk-toggleable__control:checked~label.sk-toggleable__label-arrow:before {\n",
       "  content: \"▾\";\n",
       "}\n",
       "\n",
       "/* Pipeline/ColumnTransformer-specific style */\n",
       "\n",
       "#sk-container-id-1 div.sk-label input.sk-toggleable__control:checked~label.sk-toggleable__label {\n",
       "  color: var(--sklearn-color-text);\n",
       "  background-color: var(--sklearn-color-unfitted-level-2);\n",
       "}\n",
       "\n",
       "#sk-container-id-1 div.sk-label.fitted input.sk-toggleable__control:checked~label.sk-toggleable__label {\n",
       "  background-color: var(--sklearn-color-fitted-level-2);\n",
       "}\n",
       "\n",
       "/* Estimator-specific style */\n",
       "\n",
       "/* Colorize estimator box */\n",
       "#sk-container-id-1 div.sk-estimator input.sk-toggleable__control:checked~label.sk-toggleable__label {\n",
       "  /* unfitted */\n",
       "  background-color: var(--sklearn-color-unfitted-level-2);\n",
       "}\n",
       "\n",
       "#sk-container-id-1 div.sk-estimator.fitted input.sk-toggleable__control:checked~label.sk-toggleable__label {\n",
       "  /* fitted */\n",
       "  background-color: var(--sklearn-color-fitted-level-2);\n",
       "}\n",
       "\n",
       "#sk-container-id-1 div.sk-label label.sk-toggleable__label,\n",
       "#sk-container-id-1 div.sk-label label {\n",
       "  /* The background is the default theme color */\n",
       "  color: var(--sklearn-color-text-on-default-background);\n",
       "}\n",
       "\n",
       "/* On hover, darken the color of the background */\n",
       "#sk-container-id-1 div.sk-label:hover label.sk-toggleable__label {\n",
       "  color: var(--sklearn-color-text);\n",
       "  background-color: var(--sklearn-color-unfitted-level-2);\n",
       "}\n",
       "\n",
       "/* Label box, darken color on hover, fitted */\n",
       "#sk-container-id-1 div.sk-label.fitted:hover label.sk-toggleable__label.fitted {\n",
       "  color: var(--sklearn-color-text);\n",
       "  background-color: var(--sklearn-color-fitted-level-2);\n",
       "}\n",
       "\n",
       "/* Estimator label */\n",
       "\n",
       "#sk-container-id-1 div.sk-label label {\n",
       "  font-family: monospace;\n",
       "  font-weight: bold;\n",
       "  display: inline-block;\n",
       "  line-height: 1.2em;\n",
       "}\n",
       "\n",
       "#sk-container-id-1 div.sk-label-container {\n",
       "  text-align: center;\n",
       "}\n",
       "\n",
       "/* Estimator-specific */\n",
       "#sk-container-id-1 div.sk-estimator {\n",
       "  font-family: monospace;\n",
       "  border: 1px dotted var(--sklearn-color-border-box);\n",
       "  border-radius: 0.25em;\n",
       "  box-sizing: border-box;\n",
       "  margin-bottom: 0.5em;\n",
       "  /* unfitted */\n",
       "  background-color: var(--sklearn-color-unfitted-level-0);\n",
       "}\n",
       "\n",
       "#sk-container-id-1 div.sk-estimator.fitted {\n",
       "  /* fitted */\n",
       "  background-color: var(--sklearn-color-fitted-level-0);\n",
       "}\n",
       "\n",
       "/* on hover */\n",
       "#sk-container-id-1 div.sk-estimator:hover {\n",
       "  /* unfitted */\n",
       "  background-color: var(--sklearn-color-unfitted-level-2);\n",
       "}\n",
       "\n",
       "#sk-container-id-1 div.sk-estimator.fitted:hover {\n",
       "  /* fitted */\n",
       "  background-color: var(--sklearn-color-fitted-level-2);\n",
       "}\n",
       "\n",
       "/* Specification for estimator info (e.g. \"i\" and \"?\") */\n",
       "\n",
       "/* Common style for \"i\" and \"?\" */\n",
       "\n",
       ".sk-estimator-doc-link,\n",
       "a:link.sk-estimator-doc-link,\n",
       "a:visited.sk-estimator-doc-link {\n",
       "  float: right;\n",
       "  font-size: smaller;\n",
       "  line-height: 1em;\n",
       "  font-family: monospace;\n",
       "  background-color: var(--sklearn-color-background);\n",
       "  border-radius: 1em;\n",
       "  height: 1em;\n",
       "  width: 1em;\n",
       "  text-decoration: none !important;\n",
       "  margin-left: 1ex;\n",
       "  /* unfitted */\n",
       "  border: var(--sklearn-color-unfitted-level-1) 1pt solid;\n",
       "  color: var(--sklearn-color-unfitted-level-1);\n",
       "}\n",
       "\n",
       ".sk-estimator-doc-link.fitted,\n",
       "a:link.sk-estimator-doc-link.fitted,\n",
       "a:visited.sk-estimator-doc-link.fitted {\n",
       "  /* fitted */\n",
       "  border: var(--sklearn-color-fitted-level-1) 1pt solid;\n",
       "  color: var(--sklearn-color-fitted-level-1);\n",
       "}\n",
       "\n",
       "/* On hover */\n",
       "div.sk-estimator:hover .sk-estimator-doc-link:hover,\n",
       ".sk-estimator-doc-link:hover,\n",
       "div.sk-label-container:hover .sk-estimator-doc-link:hover,\n",
       ".sk-estimator-doc-link:hover {\n",
       "  /* unfitted */\n",
       "  background-color: var(--sklearn-color-unfitted-level-3);\n",
       "  color: var(--sklearn-color-background);\n",
       "  text-decoration: none;\n",
       "}\n",
       "\n",
       "div.sk-estimator.fitted:hover .sk-estimator-doc-link.fitted:hover,\n",
       ".sk-estimator-doc-link.fitted:hover,\n",
       "div.sk-label-container:hover .sk-estimator-doc-link.fitted:hover,\n",
       ".sk-estimator-doc-link.fitted:hover {\n",
       "  /* fitted */\n",
       "  background-color: var(--sklearn-color-fitted-level-3);\n",
       "  color: var(--sklearn-color-background);\n",
       "  text-decoration: none;\n",
       "}\n",
       "\n",
       "/* Span, style for the box shown on hovering the info icon */\n",
       ".sk-estimator-doc-link span {\n",
       "  display: none;\n",
       "  z-index: 9999;\n",
       "  position: relative;\n",
       "  font-weight: normal;\n",
       "  right: .2ex;\n",
       "  padding: .5ex;\n",
       "  margin: .5ex;\n",
       "  width: min-content;\n",
       "  min-width: 20ex;\n",
       "  max-width: 50ex;\n",
       "  color: var(--sklearn-color-text);\n",
       "  box-shadow: 2pt 2pt 4pt #999;\n",
       "  /* unfitted */\n",
       "  background: var(--sklearn-color-unfitted-level-0);\n",
       "  border: .5pt solid var(--sklearn-color-unfitted-level-3);\n",
       "}\n",
       "\n",
       ".sk-estimator-doc-link.fitted span {\n",
       "  /* fitted */\n",
       "  background: var(--sklearn-color-fitted-level-0);\n",
       "  border: var(--sklearn-color-fitted-level-3);\n",
       "}\n",
       "\n",
       ".sk-estimator-doc-link:hover span {\n",
       "  display: block;\n",
       "}\n",
       "\n",
       "/* \"?\"-specific style due to the `<a>` HTML tag */\n",
       "\n",
       "#sk-container-id-1 a.estimator_doc_link {\n",
       "  float: right;\n",
       "  font-size: 1rem;\n",
       "  line-height: 1em;\n",
       "  font-family: monospace;\n",
       "  background-color: var(--sklearn-color-background);\n",
       "  border-radius: 1rem;\n",
       "  height: 1rem;\n",
       "  width: 1rem;\n",
       "  text-decoration: none;\n",
       "  /* unfitted */\n",
       "  color: var(--sklearn-color-unfitted-level-1);\n",
       "  border: var(--sklearn-color-unfitted-level-1) 1pt solid;\n",
       "}\n",
       "\n",
       "#sk-container-id-1 a.estimator_doc_link.fitted {\n",
       "  /* fitted */\n",
       "  border: var(--sklearn-color-fitted-level-1) 1pt solid;\n",
       "  color: var(--sklearn-color-fitted-level-1);\n",
       "}\n",
       "\n",
       "/* On hover */\n",
       "#sk-container-id-1 a.estimator_doc_link:hover {\n",
       "  /* unfitted */\n",
       "  background-color: var(--sklearn-color-unfitted-level-3);\n",
       "  color: var(--sklearn-color-background);\n",
       "  text-decoration: none;\n",
       "}\n",
       "\n",
       "#sk-container-id-1 a.estimator_doc_link.fitted:hover {\n",
       "  /* fitted */\n",
       "  background-color: var(--sklearn-color-fitted-level-3);\n",
       "}\n",
       "</style><div id=\"sk-container-id-1\" class=\"sk-top-container\"><div class=\"sk-text-repr-fallback\"><pre>LinearRegression()</pre><b>In a Jupyter environment, please rerun this cell to show the HTML representation or trust the notebook. <br />On GitHub, the HTML representation is unable to render, please try loading this page with nbviewer.org.</b></div><div class=\"sk-container\" hidden><div class=\"sk-item\"><div class=\"sk-estimator fitted sk-toggleable\"><input class=\"sk-toggleable__control sk-hidden--visually\" id=\"sk-estimator-id-1\" type=\"checkbox\" checked><label for=\"sk-estimator-id-1\" class=\"sk-toggleable__label fitted sk-toggleable__label-arrow fitted\">&nbsp;&nbsp;LinearRegression<a class=\"sk-estimator-doc-link fitted\" rel=\"noreferrer\" target=\"_blank\" href=\"https://scikit-learn.org/1.4/modules/generated/sklearn.linear_model.LinearRegression.html\">?<span>Documentation for LinearRegression</span></a><span class=\"sk-estimator-doc-link fitted\">i<span>Fitted</span></span></label><div class=\"sk-toggleable__content fitted\"><pre>LinearRegression()</pre></div> </div></div></div></div>"
      ],
      "text/plain": [
       "LinearRegression()"
      ]
     },
     "execution_count": 98,
     "metadata": {},
     "output_type": "execute_result"
    }
   ],
   "source": [
    "model=LinearRegression()\n",
    "model.fit(X_train,y_train)"
   ]
  },
  {
   "cell_type": "code",
   "execution_count": 107,
   "id": "ec90474d-3411-420f-822c-67b81c2a408e",
   "metadata": {},
   "outputs": [
    {
     "data": {
      "text/plain": [
       "0.9349196141980195"
      ]
     },
     "execution_count": 107,
     "metadata": {},
     "output_type": "execute_result"
    }
   ],
   "source": [
    "model.score(X_train,y_train)"
   ]
  },
  {
   "cell_type": "code",
   "execution_count": 111,
   "id": "7c7b882a-f092-468a-be3e-2cd990527f21",
   "metadata": {},
   "outputs": [
    {
     "data": {
      "text/plain": [
       "0.9350306679373137"
      ]
     },
     "execution_count": 111,
     "metadata": {},
     "output_type": "execute_result"
    }
   ],
   "source": [
    "model.score(X_test,y_test)"
   ]
  },
  {
   "cell_type": "code",
   "execution_count": null,
   "id": "68854cc1-cb99-400b-8c15-e12c1af30b62",
   "metadata": {},
   "outputs": [],
   "source": [
    "cv=cross_val_score()"
   ]
  }
 ],
 "metadata": {
  "kernelspec": {
   "display_name": "Python 3 (ipykernel)",
   "language": "python",
   "name": "python3"
  },
  "language_info": {
   "codemirror_mode": {
    "name": "ipython",
    "version": 3
   },
   "file_extension": ".py",
   "mimetype": "text/x-python",
   "name": "python",
   "nbconvert_exporter": "python",
   "pygments_lexer": "ipython3",
   "version": "3.12.4"
  }
 },
 "nbformat": 4,
 "nbformat_minor": 5
}
